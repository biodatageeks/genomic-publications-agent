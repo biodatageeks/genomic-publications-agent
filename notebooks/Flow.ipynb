{
 "cells": [
  {
   "cell_type": "code",
   "execution_count": 6,
   "id": "initial_id",
   "metadata": {
    "ExecuteTime": {
     "end_time": "2024-09-08T19:40:35.339317Z",
     "start_time": "2024-09-08T19:40:32.994115Z"
    }
   },
   "outputs": [],
   "source": [
    "import sys\n",
    "import os\n",
    "\n",
    "# Uzyskaj bieżący katalog roboczy\n",
    "current_dir = os.getcwd()  # Uzyskaj bieżący katalog roboczy\n",
    "src_dir = os.path.abspath(os.path.join(current_dir, '..'))  # Ścieżka do katalogu src\n",
    "\n",
    "# Dodaj katalog src do sys.path\n",
    "sys.path.append(src_dir)\n"
   ]
  },
  {
   "cell_type": "code",
   "execution_count": 7,
   "id": "23a3239a",
   "metadata": {},
   "outputs": [],
   "source": [
    "import logging\n",
    "logging.basicConfig(level=logging.INFO, filename='flow.log')\n"
   ]
  },
  {
   "cell_type": "code",
   "execution_count": 41,
   "id": "da5be054",
   "metadata": {},
   "outputs": [],
   "source": [
    "from src.flow.PubmedEndpoint import PubmedEndpoint\n",
    "\n",
    "publication_text = PubmedEndpoint.fetch_full_text_from_pubmed_id('18836447')"
   ]
  },
  {
   "cell_type": "code",
   "execution_count": 42,
   "id": "4c63a37a",
   "metadata": {},
   "outputs": [],
   "source": [
    "with open('../data/pubmed-articles/18836447.txt', 'w') as file:\n",
    "    file.write(publication_text)\n"
   ]
  },
  {
   "cell_type": "code",
   "execution_count": 4,
   "id": "04968b3b",
   "metadata": {},
   "outputs": [],
   "source": []
  },
  {
   "cell_type": "code",
   "execution_count": 10,
   "id": "45b57c9e",
   "metadata": {},
   "outputs": [],
   "source": [
    "with open('../data/pubmed-articles/23502222.txt', 'r') as file:\n",
    "    publication_text = file.read()"
   ]
  },
  {
   "cell_type": "code",
   "execution_count": 43,
   "id": "364edb2f",
   "metadata": {},
   "outputs": [],
   "source": [
    "from src.LlmManager import LlmManager\n",
    "llm_manager = LlmManager('gpt', 'gpt-4o-mini')"
   ]
  },
  {
   "cell_type": "code",
   "execution_count": null,
   "id": "9690cd70",
   "metadata": {},
   "outputs": [],
   "source": []
  },
  {
   "cell_type": "code",
   "execution_count": 12,
   "id": "9f167e45db3da1ed",
   "metadata": {
    "ExecuteTime": {
     "end_time": "2024-09-08T19:40:39.842448Z",
     "start_time": "2024-09-08T19:40:35.340537Z"
    }
   },
   "outputs": [
    {
     "name": "stderr",
     "output_type": "stream",
     "text": [
      "/Users/wojtek/Documents/bioinf/coordinates-lit/src/flow/coordinates_extraction/CoordinatesLlmExtractor.py:41: LangChainDeprecationWarning: The class `LLMChain` was deprecated in LangChain 0.1.17 and will be removed in 1.0. Use :meth:`~RunnableSequence, e.g., `prompt | llm`` instead.\n",
      "  llm_chain = LLMChain(llm=self.llm, prompt=prompt)\n",
      "/Users/wojtek/Documents/bioinf/coordinates-lit/src/flow/coordinates_extraction/CoordinatesLlmExtractor.py:42: LangChainDeprecationWarning: The method `Chain.run` was deprecated in langchain 0.1.0 and will be removed in 1.0. Use :meth:`~invoke` instead.\n",
      "  return llm_chain.run({\n"
     ]
    },
    {
     "name": "stdout",
     "output_type": "stream",
     "text": [
      "Regex extracted coordinates:  []\n",
      "LLM extracted coordinates:  []\n"
     ]
    },
    {
     "data": {
      "text/plain": [
       "0"
      ]
     },
     "execution_count": 12,
     "metadata": {},
     "output_type": "execute_result"
    }
   ],
   "source": [
    "import importlib\n",
    "import src.flow.coordinates_extraction.CoordinatesRegexExtractor\n",
    "importlib.reload(src.flow.coordinates_extraction.CoordinatesRegexExtractor) \n",
    "from src.flow.coordinates_extraction.CoordinatesRegexExtractor import CoordinatesRegexExtractor\n",
    "\n",
    "import src.flow.coordinates_extraction.CoordinatesLlmExtractor\n",
    "importlib.reload(src.flow.coordinates_extraction.CoordinatesLlmExtractor) \n",
    "from src.flow.coordinates_extraction.CoordinatesLlmExtractor import CoordinatesLlmExtractor\n",
    "\n",
    "import src.LlmManager\n",
    "importlib.reload(src.LlmManager) \n",
    "from src.LlmManager import LlmManager\n",
    "\n",
    "\n",
    "\n",
    "coordinates_regex_extractor = CoordinatesRegexExtractor()\n",
    "regex_extracted_coordinates = coordinates_regex_extractor.extract_coordinates(publication_text)\n",
    "\n",
    "llm_manager = LlmManager('gpt', 'gpt-4o-mini')\n",
    "llm = llm_manager.get_llm()\n",
    "\n",
    "coordinates_llm_extractor = CoordinatesLlmExtractor(llm)\n",
    "llm_extracted_coordinates = coordinates_llm_extractor.extract(publication_text)\n",
    "print(\"Regex extracted coordinates: \",regex_extracted_coordinates)\n",
    "print(\"LLM extracted coordinates: \",llm_extracted_coordinates)\n",
    "len(llm_extracted_coordinates)"
   ]
  },
  {
   "cell_type": "code",
   "execution_count": 13,
   "id": "a44b0a24",
   "metadata": {},
   "outputs": [
    {
     "ename": "NameError",
     "evalue": "name 'llm_extracted_coordinates_4o' is not defined",
     "output_type": "error",
     "traceback": [
      "\u001b[0;31m---------------------------------------------------------------------------\u001b[0m",
      "\u001b[0;31mNameError\u001b[0m                                 Traceback (most recent call last)",
      "Cell \u001b[0;32mIn[13], line 1\u001b[0m\n\u001b[0;32m----> 1\u001b[0m common_extracted_coordinates \u001b[38;5;241m=\u001b[39m \u001b[38;5;28mset\u001b[39m(llm_extracted_coordinates)\u001b[38;5;241m.\u001b[39mintersection(\u001b[38;5;28mset\u001b[39m(\u001b[43mllm_extracted_coordinates_4o\u001b[49m))\n\u001b[1;32m      2\u001b[0m \u001b[38;5;28mprint\u001b[39m(\u001b[38;5;124m\"\u001b[39m\u001b[38;5;124mWspólne koordynaty wyekstrahowane przez oba modele: \u001b[39m\u001b[38;5;124m\"\u001b[39m, common_extracted_coordinates)\n\u001b[1;32m      3\u001b[0m \u001b[38;5;28mprint\u001b[39m(\u001b[38;5;28mlen\u001b[39m(common_extracted_coordinates), \u001b[38;5;28mlen\u001b[39m(llm_extracted_coordinates), \u001b[38;5;28mlen\u001b[39m(llm_extracted_coordinates_4o))\n",
      "\u001b[0;31mNameError\u001b[0m: name 'llm_extracted_coordinates_4o' is not defined"
     ]
    }
   ],
   "source": [
    "common_extracted_coordinates = set(llm_extracted_coordinates).intersection(set(llm_extracted_coordinates_4o))\n",
    "print(\"Wspólne koordynaty wyekstrahowane przez oba modele: \", common_extracted_coordinates)\n",
    "print(len(common_extracted_coordinates), len(llm_extracted_coordinates), len(llm_extracted_coordinates_4o))"
   ]
  },
  {
   "cell_type": "code",
   "execution_count": null,
   "id": "cc50e115",
   "metadata": {},
   "outputs": [],
   "source": [
    "\n"
   ]
  },
  {
   "cell_type": "code",
   "execution_count": 14,
   "id": "5120f860",
   "metadata": {},
   "outputs": [
    {
     "ename": "NameError",
     "evalue": "name 'llm_extracted_coordinates_4o' is not defined",
     "output_type": "error",
     "traceback": [
      "\u001b[0;31m---------------------------------------------------------------------------\u001b[0m",
      "\u001b[0;31mNameError\u001b[0m                                 Traceback (most recent call last)",
      "Cell \u001b[0;32mIn[14], line 5\u001b[0m\n\u001b[1;32m      2\u001b[0m \u001b[38;5;28;01mimport\u001b[39;00m \u001b[38;5;21;01mnumpy\u001b[39;00m \u001b[38;5;28;01mas\u001b[39;00m \u001b[38;5;21;01mnp\u001b[39;00m\n\u001b[1;32m      4\u001b[0m \u001b[38;5;66;03m# Zbierz koordynaty\u001b[39;00m\n\u001b[0;32m----> 5\u001b[0m only_llm_mini \u001b[38;5;241m=\u001b[39m \u001b[38;5;28mset\u001b[39m(llm_extracted_coordinates) \u001b[38;5;241m-\u001b[39m \u001b[38;5;28mset\u001b[39m(\u001b[43mllm_extracted_coordinates_4o\u001b[49m)\n\u001b[1;32m      6\u001b[0m only_llm_4o \u001b[38;5;241m=\u001b[39m \u001b[38;5;28mset\u001b[39m(llm_extracted_coordinates_4o) \u001b[38;5;241m-\u001b[39m \u001b[38;5;28mset\u001b[39m(llm_extracted_coordinates)\n\u001b[1;32m      7\u001b[0m common_coordinates \u001b[38;5;241m=\u001b[39m \u001b[38;5;28mset\u001b[39m(llm_extracted_coordinates)\u001b[38;5;241m.\u001b[39mintersection(\u001b[38;5;28mset\u001b[39m(llm_extracted_coordinates_4o))\n",
      "\u001b[0;31mNameError\u001b[0m: name 'llm_extracted_coordinates_4o' is not defined"
     ]
    }
   ],
   "source": [
    "import matplotlib.pyplot as plt\n",
    "import numpy as np\n",
    "\n",
    "# Zbierz koordynaty\n",
    "only_llm_mini = set(llm_extracted_coordinates) - set(llm_extracted_coordinates_4o)\n",
    "only_llm_4o = set(llm_extracted_coordinates_4o) - set(llm_extracted_coordinates)\n",
    "common_coordinates = set(llm_extracted_coordinates).intersection(set(llm_extracted_coordinates_4o))\n",
    "import pandas as pd\n",
    "\n",
    "# Przygotuj dane do tabeli\n",
    "data = {\n",
    "    'Typ': ['Tylko GPT-4o-mini', 'Tylko GPT-4o', 'Wspólne'],\n",
    "    'Liczba koordynatów': [len(only_llm_mini), len(only_llm_4o), len(common_coordinates)],\n",
    "    'Koordynaty': [list(only_llm_mini), list(only_llm_4o), list(common_coordinates)]\n",
    "}\n",
    "\n",
    "# Tworzenie DataFrame\n",
    "df = pd.DataFrame(data)\n",
    "\n",
    "# Wyświetlanie tabeli\n",
    "print(df)\n",
    "\n"
   ]
  },
  {
   "cell_type": "code",
   "execution_count": 75,
   "id": "1fa2730e",
   "metadata": {},
   "outputs": [
    {
     "name": "stdout",
     "output_type": "stream",
     "text": [
      "[{'pubmed_id': '23502222', 'coordinates': [{'coordinate': 'c.1017+572C>T', 'context': 'recurrent ETS motif point mutation, c.1017+572C>T. The mutation, c.1017+572C>T (i5C>T), is predicted to disrupt an ETS motif within intron 5 following the composite cis-element. Additionally, within the same region, 1 patient was identified with a 28 base deletion of intron 5 that eliminated the E-box and 5 bp of the spacer of the E-box/GATA composite element. 4.II.1\\\\tT/B/NK/mono\\\\t26\\\\tCMV, MAC, recurrent pneumonias, histoplasmosis\\\\tMDS\\\\tc.1017+572C>T\\\\ti5\\\\t1 25.I.1\\\\tT/B/NK/mono\\\\t13\\\\tHPV, Mycobacterium kansasii, MAC\\\\tMDS\\\\tc.1017+572C>T\\\\ti5\\\\t 11.II.1\\\\tB/NK/mono\\\\t9\\\\tHPV, VZV, treatment-resistant Candida thrush and vaginitis\\\\t+Abnormal megakaryocytes\\\\tc.1017+572C>T\\\\ti5\\\\t1 28.I.1\\\\tB/NK/mono\\\\t21\\\\tCMV pneumonia\\\\t+Abnormal megakaryocytes\\\\tc.1017+572C>T\\\\ti5\\\\t 4.II.5\\\\tB/NK\\\\t19\\\\tHPV\\\\tMDS\\\\tc.1017+572C>T\\\\ti5\\\\t1 4.I.1\\\\tMonocytosis\\\\t78\\\\tNone\\\\tCMML\\\\tc.1017+572C>T\\\\ti5\\\\t1 4.III.2\\\\tNK\\\\t23\\\\tNone\\\\tNone\\\\tc.1017+572C>T\\\\ti5\\\\t 4.III.3\\\\tNK\\\\t21\\\\tNone\\\\tNone\\\\tc.1017+572C>T\\\\ti5\\\\t Reduced expression of mutant allele in a patient with c.1017+572C>T. (A) Genomic sequences of GATA2 exons in patient 4.II.1 and her sister 4.II.5 indicate the phase of the SNPs and the mutation. M, K, and S refer to base calls of mixed nucleotide bases at a single site, A/C, G/T, and C/G, respectively. (B) GATA2 cDNA sequences from isolated granulocytes (Grans), CD3+ T-cells (CD3+), and CD3– PBMCs (CD3–) demonstrate reduced expression of c.1017+572C>T allele.'}, {'coordinate': 'c.302delG', 'context': 'We conducted genomic sequencing of phenotypically identified MonoMAC patients (Table 1) lacking recognized mutations and their at-risk family members. The proband of each family had cytopenias, infections, and MDS. Their presentations were indistinguishable from those of patients with null alleles reported previously.2 All exons (coding and noncoding) of GATA2 as well as conserved intronic regions from each proband were sequenced. We identified small frameshift mutations within exon 4, c.302delG and c.586_593dup, in patients 26.I.1 and 27.I.1, respectively (Table 1).'}, {'coordinate': 'c.586_593dup', 'context': 'We conducted genomic sequencing of phenotypically identified MonoMAC patients (Table 1) lacking recognized mutations and their at-risk family members. The proband of each family had cytopenias, infections, and MDS. Their presentations were indistinguishable from those of patients with null alleles reported previously.2 All exons (coding and noncoding) of GATA2 as well as conserved intronic regions from each proband were sequenced. We identified small frameshift mutations within exon 4, c.302delG and c.586_593dup, in patients 26.I.1 and 27.I.1, respectively (Table 1).'}, {'coordinate': 'c.1017+512del28', 'context': '6.II.1\\\\tB/NK/mono\\\\t22\\\\tHPV, Group C Strep, M. tuberculosis\\\\tMDS\\\\tc.1017+512del28\\\\ti5\\\\t1, 17'}, {'coordinate': 'c.243_244delAinsGC', 'context': '8.I.1\\\\tB/NK/mono\\\\t28\\\\tHPV, MAC, Aspergillus\\\\tMDS\\\\tc.243_244delAinsGC\\\\tHaplo\\\\t2'}, {'coordinate': 'c.1-200_871+527 del 2033bp', 'context': '13.II.1\\\\tT/B/NK/mono\\\\t33\\\\tHPV, MAC, histoplasmosis, Neosartorya udagawae\\\\tMDS\\\\tc.1-200_871+527 del 2033bp\\\\tHaplo\\\\t1, 2, 7'}, {'coordinate': 'c.761C>T/unknown', 'context': '23.I.1\\\\tT/B/NK\\\\t21\\\\tMAC\\\\tMDS\\\\tc.761C>T/unknown\\\\tUnknown\\\\t2'}, {'coordinate': 'c.1017+512del28', 'context': '6.II.1\\\\tB/NK/mono\\\\t22\\\\tHPV, Group C Strep, M. tuberculosis\\\\tMDS\\\\tc.1017+512del28\\\\ti5\\\\t1, 17'}]}]\n"
     ]
    }
   ],
   "source": [
    "import json\n",
    "\n",
    "with open('../data/pubmed-articles/23502222.json', 'r') as file:\n",
    "    article_data = json.load(file)\n",
    "\n",
    "# Wyświetlenie załadowanych danych\n",
    "print(article_data)\n"
   ]
  },
  {
   "cell_type": "code",
   "execution_count": 76,
   "id": "b09298a9",
   "metadata": {},
   "outputs": [
    {
     "name": "stdout",
     "output_type": "stream",
     "text": [
      "Brakujące koordynaty w wyszukiwaniach gpt-4o-mini: {'c.761C>T/unknown'}\n"
     ]
    }
   ],
   "source": [
    "# Sprawdź, czy wszystkie koordynaty z article_data znajdują się w wyszukiwaniach gpt-4o-mini\n",
    "article_coordinates = {coord['coordinate'] for article in article_data for coord in article['coordinates']}\n",
    "gpt_4o_mini_coordinates = set(llm_extracted_coordinates)\n",
    "\n",
    "# Porównaj koordynaty\n",
    "missing_coordinates = article_coordinates - gpt_4o_mini_coordinates\n",
    "\n",
    "if missing_coordinates:\n",
    "    print(\"Brakujące koordynaty w wyszukiwaniach gpt-4o-mini:\", missing_coordinates)\n",
    "else:\n",
    "    print(\"Wszystkie koordynaty z article_data znajdują się w wyszukiwaniach gpt-4o-mini.\")\n"
   ]
  },
  {
   "cell_type": "code",
   "execution_count": 77,
   "id": "b6259d53",
   "metadata": {},
   "outputs": [
    {
     "name": "stdout",
     "output_type": "stream",
     "text": [
      "Brakujące koordynaty w wyszukiwaniach gpt-4o: {'c.1-200_871+527 del 2033bp', 'c.761C>T/unknown'}\n"
     ]
    }
   ],
   "source": [
    "missing_coordinates_4o = article_coordinates - set(llm_extracted_coordinates_4o)\n",
    "if missing_coordinates_4o:\n",
    "    print(\"Brakujące koordynaty w wyszukiwaniach gpt-4o:\", missing_coordinates_4o)\n",
    "else:\n",
    "    print(\"Wszystkie koordynaty z article_data znajdują się w wyszukiwaniach gpt-4o.\")\n",
    "\n"
   ]
  },
  {
   "cell_type": "code",
   "execution_count": 3,
   "id": "1f40ad2d",
   "metadata": {},
   "outputs": [],
   "source": [
    "import json"
   ]
  },
  {
   "cell_type": "code",
   "execution_count": null,
   "id": "2c95a5d1",
   "metadata": {},
   "outputs": [],
   "source": []
  },
  {
   "cell_type": "code",
   "execution_count": 44,
   "id": "cf44bb53",
   "metadata": {},
   "outputs": [],
   "source": [
    "def analyze_pubmed_coordinates(pubmed_id):\n",
    "    # Wczytaj dane z pliku JSON\n",
    "    with open(f'../data/pubmed-articles/{pubmed_id}.json', 'r') as file:\n",
    "        article_data = json.load(file)\n",
    "\n",
    "    # Wczytaj tekst publikacji z pliku TXT\n",
    "    with open(f'../data/pubmed-articles/{pubmed_id}.txt', 'r') as file:\n",
    "        publication_text = file.read()\n",
    "\n",
    "    # Wyodrębnij ręcznie koordynaty\n",
    "    manual_coordinates = {coord['coordinate'] for article in article_data for coord in article['coordinates']}\n",
    "\n",
    "    # Wyszukaj koordynaty w gpt-4o i gpt-4o-mini\n",
    "    coordinates_llm_extractor_4o = CoordinatesLlmExtractor(llm_4o)\n",
    "    llm_extracted_coordinates_4o = coordinates_llm_extractor_4o.extract(publication_text)\n",
    "\n",
    "    coordinates_llm_extractor_mini = CoordinatesLlmExtractor(llm)\n",
    "    llm_extracted_coordinates_mini = coordinates_llm_extractor_mini.extract(publication_text)\n",
    "\n",
    "    print(\"Liczba wyekstrahowanych koordynatów 4o:\", len(llm_extracted_coordinates_4o))\n",
    "    print(\"Wyekstrahowane koordynaty 4o:\", llm_extracted_coordinates_4o)\n",
    "    print(\"Liczba wyekstrahowanych koordynatów mini:\", len(llm_extracted_coordinates_mini))\n",
    "    print(\"Wyekstrahowane koordynaty mini:\", llm_extracted_coordinates_mini)\n",
    "\n",
    "    # Statystyki\n",
    "    common_coordinates = manual_coordinates.intersection(set(llm_extracted_coordinates_4o)).intersection(set(llm_extracted_coordinates_mini))\n",
    "    only_4o_coordinates = set(llm_extracted_coordinates_4o) - set(llm_extracted_coordinates_mini)\n",
    "    only_mini_coordinates = set(llm_extracted_coordinates_mini) - set(llm_extracted_coordinates_4o)\n",
    "\n",
    "    print(\"Wspólne koordynaty:\", common_coordinates)\n",
    "    print(\"Koordynaty tylko w gpt-4o:\", only_4o_coordinates)\n",
    "    print(\"Koordynaty tylko w gpt-4o-mini:\", only_mini_coordinates)\n",
    "\n",
    "    # Brakujące koordynaty w porównaniu z ręczną ekstrakcją\n",
    "    missing_coordinates_4o = manual_coordinates - set(llm_extracted_coordinates_4o)\n",
    "    missing_coordinates_mini = manual_coordinates - set(llm_extracted_coordinates_mini)\n",
    "\n",
    "\n",
    "    \n",
    "    print(\"Brakujące koordynaty w gpt-4o:\", missing_coordinates_4o)\n",
    "    print(\"Brakujące koordynaty w gpt-4o-mini:\", missing_coordinates_mini)\n",
    "    return {\n",
    "       \"llm_extracted_coordinates_4o\": llm_extracted_coordinates_4o,\n",
    "       \"llm_extracted_coordinates_mini\": llm_extracted_coordinates_mini,\n",
    "       \"manual_coordinates\": manual_coordinates\n",
    "    }\n"
   ]
  },
  {
   "cell_type": "code",
   "execution_count": 45,
   "id": "b3642883",
   "metadata": {},
   "outputs": [],
   "source": [
    "\n",
    "def calculate_metrics(tp, tn, fp, fn):\n",
    "    # Obliczanie metryk\n",
    "    precision = tp / (tp + fp) if (tp + fp) > 0 else 0\n",
    "    recall = tp / (tp + fn) if (tp + fn) > 0 else 0\n",
    "    f1 = 2 * (precision * recall) / (precision + recall) if (precision + recall) > 0 else 0\n",
    "\n",
    "    return {\n",
    "        \"F1 Score\": f1,\n",
    "        \"Precision\": precision,\n",
    "        \"Recall\": recall\n",
    "    }\n",
    "\n",
    "\n"
   ]
  },
  {
   "cell_type": "code",
   "execution_count": null,
   "id": "d471fb48",
   "metadata": {},
   "outputs": [],
   "source": []
  },
  {
   "cell_type": "code",
   "execution_count": 66,
   "id": "7988e3b6",
   "metadata": {},
   "outputs": [
    {
     "name": "stdout",
     "output_type": "stream",
     "text": [
      "Liczba wyekstrahowanych koordynatów 4o: 10\n",
      "Wyekstrahowane koordynaty 4o: ['c.700T>C', '14q12-q13.1', '2q11.2', 'c.263_278del16', 'c.460dupG', 'c.256C>T', 'c.757A>G', 'c.505_506delGGinsT', 'chr14:28,754,647-28,756,495 bp', '14q12']\n",
      "Liczba wyekstrahowanych koordynatów mini: 7\n",
      "Wyekstrahowane koordynaty mini: ['PRKD1', '14q12-q13.1', 'C14orf23', '2;14', 'FOXG1', '2q11.2', '14q12']\n",
      "Wspólne koordynaty: {'14q12-q13.1', '14q12'}\n",
      "Koordynaty tylko w gpt-4o: {'c.700T>C', 'chr14:28,754,647-28,756,495 bp', 'c.263_278del16', 'c.256C>T', 'c.505_506delGGinsT', 'c.757A>G', 'c.460dupG'}\n",
      "Koordynaty tylko w gpt-4o-mini: {'PRKD1', 'FOXG1', 'C14orf23', '2;14'}\n",
      "Brakujące koordynaty w gpt-4o: {'transitions c.757A>G (p.N253D)', '~5.4-Mb heterozygous deletion in 14q12-q13.1', '46,XX,t(2;14)(q13;q13)', '~1.09-Mb microdeletion downstream of FOXG1', '~10 kb gene-poor region in 14q12 located ~265 kb downstream of FOXG1', 'c.256C>T (p.R86X)', 'c.263_278del16 (p.R88PfsX99)', '1-Mb region downstream of FOXG1', 'c.460dupG mutation', '28,930,280-28,932,099 bp', 'c.700T>C (p.S234P)', 'chr14:28,930,280-28,932,099', 'c.460dupG (p.E154GfsX301)', '46,XX,del(14)(q13.1q13.2)', 'chr14:28,754,647-28,756,495'}\n",
      "Brakujące koordynaty w gpt-4o-mini: {'transitions c.757A>G (p.N253D)', '~5.4-Mb heterozygous deletion in 14q12-q13.1', '46,XX,t(2;14)(q13;q13)', '~1.09-Mb microdeletion downstream of FOXG1', '~10 kb gene-poor region in 14q12 located ~265 kb downstream of FOXG1', 'c.256C>T (p.R86X)', 'c.263_278del16 (p.R88PfsX99)', '1-Mb region downstream of FOXG1', 'c.460dupG mutation', '28,930,280-28,932,099 bp', 'c.700T>C (p.S234P)', 'chr14:28,930,280-28,932,099', 'c.460dupG (p.E154GfsX301)', '46,XX,del(14)(q13.1q13.2)', 'chr14:28,754,647-28,756,495'}\n"
     ]
    }
   ],
   "source": [
    "result = analyze_pubmed_coordinates('21441262')"
   ]
  },
  {
   "cell_type": "code",
   "execution_count": 69,
   "id": "e0c6c3ca",
   "metadata": {},
   "outputs": [
    {
     "name": "stdout",
     "output_type": "stream",
     "text": [
      "4o:  ['c.700T>C', '14q12-q13.1', '2q11.2', 'c.263_278del16', 'c.460dupG', 'c.256C>T', 'c.757A>G', 'c.505_506delGGinsT', 'chr14:28,754,647-28,756,495 bp', '14q12']\n",
      "mini:  ['PRKD1', '14q12-q13.1', 'C14orf23', '2;14', 'FOXG1', '2q11.2', '14q12']\n",
      "manual:  {'transitions c.757A>G (p.N253D)', '46,XX,t(2;14)(q13;q13)', '~5.4-Mb heterozygous deletion in 14q12-q13.1', '~1.09-Mb microdeletion downstream of FOXG1', '~10 kb gene-poor region in 14q12 located ~265 kb downstream of FOXG1', 'c.256C>T (p.R86X)', 'c.263_278del16 (p.R88PfsX99)', '1-Mb region downstream of FOXG1', '14q12-q13.1', 'c.460dupG mutation', '28,930,280-28,932,099 bp', 'c.700T>C (p.S234P)', 'chr14:28,930,280-28,932,099', 'c.460dupG (p.E154GfsX301)', '46,XX,del(14)(q13.1q13.2)', 'chr14:28,754,647-28,756,495', '14q12'}\n",
      "Koordynaty istniejące w gpt-4o, ale nieistniejące w ręcznej ekstrakcji: {'c.700T>C', 'chr14:28,754,647-28,756,495 bp', '2q11.2', 'c.263_278del16', 'c.256C>T', 'c.505_506delGGinsT', 'c.757A>G', 'c.460dupG'}\n",
      "TP: {'14q12-q13.1', '14q12'}\n",
      "TN: 0\n",
      "FP: {'c.700T>C', 'chr14:28,754,647-28,756,495 bp', '2q11.2', 'c.263_278del16', 'c.256C>T', 'c.505_506delGGinsT', 'c.757A>G', 'c.460dupG'}\n",
      "FN: 15\n",
      "{'F1 Score': 0.14814814814814817, 'Precision': 0.2, 'Recall': 0.11764705882352941}\n"
     ]
    },
    {
     "data": {
      "text/plain": [
       "0.14814814814814817"
      ]
     },
     "execution_count": 69,
     "metadata": {},
     "output_type": "execute_result"
    }
   ],
   "source": [
    "process_result(result)"
   ]
  },
  {
   "cell_type": "code",
   "execution_count": 68,
   "id": "912f4772",
   "metadata": {},
   "outputs": [],
   "source": [
    "def process_result(result):\n",
    "    print(\"4o: \", result['llm_extracted_coordinates_4o'])\n",
    "    print(\"mini: \", result['llm_extracted_coordinates_mini'])\n",
    "    print(\"manual: \", result['manual_coordinates'])\n",
    "    \n",
    "    only_llm_4o_not_in_manual = set(result['llm_extracted_coordinates_4o']) - set(result['manual_coordinates']) \n",
    "    print(\"Koordynaty istniejące w gpt-4o, ale nieistniejące w ręcznej ekstrakcji:\", only_llm_4o_not_in_manual)\n",
    "    \n",
    "    llm_extracted_coordinates_4o = result['llm_extracted_coordinates_4o']\n",
    "    manual_coordinates = result['manual_coordinates']\n",
    "    \n",
    "    tp = set(llm_extracted_coordinates_4o) & set(manual_coordinates)  # TP: koordynaty, które są w obu zbiorach\n",
    "    tn = 0  # TN: koordynaty manualne, które nie są w 4o\n",
    "    fp = set(llm_extracted_coordinates_4o) - set(manual_coordinates)  # FP: koordynaty 4o, które nie są w manualnych\n",
    "    fn = len(set(manual_coordinates) - set(llm_extracted_coordinates_4o))\n",
    "\n",
    "    print(\"TP:\", tp)\n",
    "    print(\"TN:\", tn)\n",
    "    print(\"FP:\", fp)\n",
    "    print(\"FN:\", fn)\n",
    "\n",
    "    print(calculate_metrics(len(tp), tn, len(fp), fn))\n",
    "    return calculate_metrics(len(tp), tn, len(fp), fn)['F1 Score']\n",
    "\n",
    "\n",
    "# Example usage\n",
    "# process_result(result)\n",
    "\n",
    "\n",
    "\n",
    "\n"
   ]
  },
  {
   "cell_type": "code",
   "execution_count": null,
   "id": "8f7dd668",
   "metadata": {},
   "outputs": [],
   "source": []
  },
  {
   "cell_type": "code",
   "execution_count": 55,
   "id": "7053b28f",
   "metadata": {},
   "outputs": [],
   "source": [
    "def process_result_mini(result):\n",
    "    print(\"mini: \", result['llm_extracted_coordinates_mini'])\n",
    "    print(\"manual: \", result['manual_coordinates'])\n",
    "    \n",
    "    only_llm_mini_not_in_manual = set(result['llm_extracted_coordinates_mini']) - set(result['manual_coordinates']) \n",
    "    print(\"Koordynaty istniejące w gpt-mini, ale nieistniejące w ręcznej ekstrakcji:\", only_llm_mini_not_in_manual)\n",
    "    \n",
    "    llm_extracted_coordinates_mini = result['llm_extracted_coordinates_mini']\n",
    "    manual_coordinates = result['manual_coordinates']\n",
    "    \n",
    "    tp = len(set(llm_extracted_coordinates_mini) & set(manual_coordinates))  # TP: koordynaty, które są w obu zbiorach\n",
    "    tn = 0  # TN: koordynaty manualne, które nie są w mini\n",
    "    fp = len(set(llm_extracted_coordinates_mini) - set(manual_coordinates))  # FP: koordynaty mini, które nie są w manualnych\n",
    "    fn = len(set(manual_coordinates) - set(llm_extracted_coordinates_mini))\n",
    "\n",
    "    print(\"TP:\", tp)\n",
    "    print(\"TN:\", tn)\n",
    "    print(\"FP:\", fp)\n",
    "    print(\"FN:\", fn)\n",
    "\n",
    "    print(calculate_metrics(tp, tn, fp, fn))\n",
    "    return calculate_metrics(tp, tn, fp, fn)['F1 Score']"
   ]
  },
  {
   "cell_type": "code",
   "execution_count": 61,
   "id": "163e825c",
   "metadata": {},
   "outputs": [
    {
     "data": {
      "text/plain": [
       "[0, 0, 0, 0]"
      ]
     },
     "execution_count": 61,
     "metadata": {},
     "output_type": "execute_result"
    }
   ],
   "source": [
    "f1s"
   ]
  },
  {
   "cell_type": "code",
   "execution_count": 15,
   "id": "60d13984",
   "metadata": {},
   "outputs": [
    {
     "name": "stdout",
     "output_type": "stream",
     "text": [
      "LLM 4o extracted coordinates:  []\n"
     ]
    },
    {
     "data": {
      "text/plain": [
       "0"
      ]
     },
     "execution_count": 15,
     "metadata": {},
     "output_type": "execute_result"
    }
   ],
   "source": [
    "llm_manager_4o = LlmManager('gpt', 'gpt-4o')\n",
    "llm_4o = llm_manager_4o.get_llm()\n",
    "\n",
    "coordinates_llm_extractor_4o = CoordinatesLlmExtractor(llm_4o)\n",
    "llm_extracted_coordinates_4o = coordinates_llm_extractor_4o.extract(publication_text)\n",
    "print(\"LLM 4o extracted coordinates: \",llm_extracted_coordinates_4o)\n",
    "len(llm_extracted_coordinates_4o)\n"
   ]
  },
  {
   "cell_type": "code",
   "execution_count": 62,
   "id": "e00c03e1",
   "metadata": {},
   "outputs": [
    {
     "name": "stdout",
     "output_type": "stream",
     "text": [
      "Wyciągnięte pubmed ids: ['18836447', '22996659', '21441262', '23502222']\n"
     ]
    }
   ],
   "source": [
    "import os\n",
    "\n",
    "# Ścieżka do folderu z artykułami\n",
    "folder_path = '../data/pubmed-articles'\n",
    "\n",
    "# Wyciągnij wszystkie pubmed ids z nazw plików\n",
    "pubmed_ids = [filename.split('.')[0] for filename in os.listdir(folder_path) if filename.endswith('.txt')]\n",
    "\n",
    "print(\"Wyciągnięte pubmed ids:\", pubmed_ids)\n"
   ]
  },
  {
   "cell_type": "code",
   "execution_count": 65,
   "id": "26213bc3",
   "metadata": {},
   "outputs": [
    {
     "name": "stdout",
     "output_type": "stream",
     "text": [
      "Liczba wyekstrahowanych koordynatów 4o: 1\n",
      "Wyekstrahowane koordynaty 4o: ['460kb upstream of SHH']\n",
      "Liczba wyekstrahowanych koordynatów mini: 2\n",
      "Wyekstrahowane koordynaty mini: ['6.5 kb downstream of SBE2', '10 bp-block of SBE2 sequence']\n",
      "Wspólne koordynaty: set()\n",
      "Koordynaty tylko w gpt-4o: {'460kb upstream of SHH'}\n",
      "Koordynaty tylko w gpt-4o-mini: {'6.5 kb downstream of SBE2', '10 bp-block of SBE2 sequence'}\n",
      "Brakujące koordynaty w gpt-4o: set()\n",
      "Brakujące koordynaty w gpt-4o-mini: set()\n",
      "4o:  ['460kb upstream of SHH']\n",
      "mini:  ['6.5 kb downstream of SBE2', '10 bp-block of SBE2 sequence']\n",
      "manual:  set()\n",
      "Koordynaty istniejące w gpt-4o, ale nieistniejące w ręcznej ekstrakcji: {'460kb upstream of SHH'}\n",
      "TP: 0\n",
      "TN: 0\n",
      "FP: 1\n",
      "FN: 0\n",
      "{'F1 Score': 0, 'Precision': 0.0, 'Recall': 0}\n",
      "mini:  ['6.5 kb downstream of SBE2', '10 bp-block of SBE2 sequence']\n",
      "manual:  set()\n",
      "Koordynaty istniejące w gpt-mini, ale nieistniejące w ręcznej ekstrakcji: {'6.5 kb downstream of SBE2', '10 bp-block of SBE2 sequence'}\n",
      "TP: 0\n",
      "TN: 0\n",
      "FP: 2\n",
      "FN: 0\n",
      "{'F1 Score': 0, 'Precision': 0.0, 'Recall': 0}\n",
      "Liczba wyekstrahowanych koordynatów 4o: 0\n",
      "Wyekstrahowane koordynaty 4o: []\n",
      "Liczba wyekstrahowanych koordynatów mini: 0\n",
      "Wyekstrahowane koordynaty mini: []\n",
      "Wspólne koordynaty: set()\n",
      "Koordynaty tylko w gpt-4o: set()\n",
      "Koordynaty tylko w gpt-4o-mini: set()\n",
      "Brakujące koordynaty w gpt-4o: {'NM_001145661.1 plus 6 kb upstream', 'c.572+512del28', 'c.481C>G'}\n",
      "Brakujące koordynaty w gpt-4o-mini: {'NM_001145661.1 plus 6 kb upstream', 'c.572+512del28', 'c.481C>G'}\n",
      "4o:  []\n",
      "mini:  []\n",
      "manual:  {'NM_001145661.1 plus 6 kb upstream', 'c.572+512del28', 'c.481C>G'}\n",
      "Koordynaty istniejące w gpt-4o, ale nieistniejące w ręcznej ekstrakcji: set()\n",
      "TP: 0\n",
      "TN: 0\n",
      "FP: 0\n",
      "FN: 3\n",
      "{'F1 Score': 0, 'Precision': 0, 'Recall': 0.0}\n",
      "mini:  []\n",
      "manual:  {'NM_001145661.1 plus 6 kb upstream', 'c.572+512del28', 'c.481C>G'}\n",
      "Koordynaty istniejące w gpt-mini, ale nieistniejące w ręcznej ekstrakcji: set()\n",
      "TP: 0\n",
      "TN: 0\n",
      "FP: 0\n",
      "FN: 3\n",
      "{'F1 Score': 0, 'Precision': 0, 'Recall': 0.0}\n",
      "Liczba wyekstrahowanych koordynatów 4o: 4\n",
      "Wyekstrahowane koordynaty 4o: ['~1-Mb microdeletion not covering FOXG1 in patient 4', '~1.09-Mb microdeletion downstream of FOXG1 in patient 4', 'FOXG1 syndrome or congenital Rett syndrome variant', '~5.4-Mb heterozygous deletion in 14q12-q13.1 in patient 3']\n",
      "Liczba wyekstrahowanych koordynatów mini: 5\n",
      "Wyekstrahowane koordynaty mini: ['14q12-q13.1', 'chr14:28,930,280-28,932,099', '-', 'chr14:28,754,647-28,756,495', '14q12']\n",
      "Wspólne koordynaty: set()\n",
      "Koordynaty tylko w gpt-4o: {'FOXG1 syndrome or congenital Rett syndrome variant', '~1-Mb microdeletion not covering FOXG1 in patient 4', '~1.09-Mb microdeletion downstream of FOXG1 in patient 4', '~5.4-Mb heterozygous deletion in 14q12-q13.1 in patient 3'}\n",
      "Koordynaty tylko w gpt-4o-mini: {'14q12-q13.1', 'chr14:28,930,280-28,932,099', '-', 'chr14:28,754,647-28,756,495', '14q12'}\n",
      "Brakujące koordynaty w gpt-4o: {'transitions c.757A>G (p.N253D)', '~5.4-Mb heterozygous deletion in 14q12-q13.1', '46,XX,t(2;14)(q13;q13)', '~1.09-Mb microdeletion downstream of FOXG1', '~10 kb gene-poor region in 14q12 located ~265 kb downstream of FOXG1', 'c.256C>T (p.R86X)', 'c.263_278del16 (p.R88PfsX99)', '1-Mb region downstream of FOXG1', '14q12-q13.1', 'c.460dupG mutation', '28,930,280-28,932,099 bp', 'c.700T>C (p.S234P)', 'chr14:28,930,280-28,932,099', 'c.460dupG (p.E154GfsX301)', '46,XX,del(14)(q13.1q13.2)', 'chr14:28,754,647-28,756,495', '14q12'}\n",
      "Brakujące koordynaty w gpt-4o-mini: {'transitions c.757A>G (p.N253D)', '~5.4-Mb heterozygous deletion in 14q12-q13.1', '46,XX,t(2;14)(q13;q13)', '~1.09-Mb microdeletion downstream of FOXG1', '~10 kb gene-poor region in 14q12 located ~265 kb downstream of FOXG1', 'c.256C>T (p.R86X)', 'c.263_278del16 (p.R88PfsX99)', '1-Mb region downstream of FOXG1', 'c.460dupG mutation', '28,930,280-28,932,099 bp', 'c.700T>C (p.S234P)', 'c.460dupG (p.E154GfsX301)', '46,XX,del(14)(q13.1q13.2)'}\n",
      "4o:  ['~1-Mb microdeletion not covering FOXG1 in patient 4', '~1.09-Mb microdeletion downstream of FOXG1 in patient 4', 'FOXG1 syndrome or congenital Rett syndrome variant', '~5.4-Mb heterozygous deletion in 14q12-q13.1 in patient 3']\n",
      "mini:  ['14q12-q13.1', 'chr14:28,930,280-28,932,099', '-', 'chr14:28,754,647-28,756,495', '14q12']\n",
      "manual:  {'transitions c.757A>G (p.N253D)', '46,XX,t(2;14)(q13;q13)', '~5.4-Mb heterozygous deletion in 14q12-q13.1', '~1.09-Mb microdeletion downstream of FOXG1', '~10 kb gene-poor region in 14q12 located ~265 kb downstream of FOXG1', 'c.256C>T (p.R86X)', 'c.263_278del16 (p.R88PfsX99)', '1-Mb region downstream of FOXG1', '14q12-q13.1', 'c.460dupG mutation', '28,930,280-28,932,099 bp', 'c.700T>C (p.S234P)', 'chr14:28,930,280-28,932,099', 'c.460dupG (p.E154GfsX301)', '46,XX,del(14)(q13.1q13.2)', 'chr14:28,754,647-28,756,495', '14q12'}\n",
      "Koordynaty istniejące w gpt-4o, ale nieistniejące w ręcznej ekstrakcji: {'FOXG1 syndrome or congenital Rett syndrome variant', '~1-Mb microdeletion not covering FOXG1 in patient 4', '~1.09-Mb microdeletion downstream of FOXG1 in patient 4', '~5.4-Mb heterozygous deletion in 14q12-q13.1 in patient 3'}\n",
      "TP: 0\n",
      "TN: 0\n",
      "FP: 4\n",
      "FN: 17\n",
      "{'F1 Score': 0, 'Precision': 0.0, 'Recall': 0.0}\n",
      "mini:  ['14q12-q13.1', 'chr14:28,930,280-28,932,099', '-', 'chr14:28,754,647-28,756,495', '14q12']\n",
      "manual:  {'transitions c.757A>G (p.N253D)', '46,XX,t(2;14)(q13;q13)', '~5.4-Mb heterozygous deletion in 14q12-q13.1', '~1.09-Mb microdeletion downstream of FOXG1', '~10 kb gene-poor region in 14q12 located ~265 kb downstream of FOXG1', 'c.256C>T (p.R86X)', 'c.263_278del16 (p.R88PfsX99)', '1-Mb region downstream of FOXG1', '14q12-q13.1', 'c.460dupG mutation', '28,930,280-28,932,099 bp', 'c.700T>C (p.S234P)', 'chr14:28,930,280-28,932,099', 'c.460dupG (p.E154GfsX301)', '46,XX,del(14)(q13.1q13.2)', 'chr14:28,754,647-28,756,495', '14q12'}\n",
      "Koordynaty istniejące w gpt-mini, ale nieistniejące w ręcznej ekstrakcji: {'-'}\n",
      "TP: 4\n",
      "TN: 0\n",
      "FP: 1\n",
      "FN: 13\n",
      "{'F1 Score': 0.3636363636363636, 'Precision': 0.8, 'Recall': 0.23529411764705882}\n",
      "Liczba wyekstrahowanych koordynatów 4o: 0\n",
      "Wyekstrahowane koordynaty 4o: []\n",
      "Liczba wyekstrahowanych koordynatów mini: 0\n",
      "Wyekstrahowane koordynaty mini: []\n",
      "Wspólne koordynaty: set()\n",
      "Koordynaty tylko w gpt-4o: set()\n",
      "Koordynaty tylko w gpt-4o-mini: set()\n",
      "Brakujące koordynaty w gpt-4o: {'c.1017+572C>T', 'c.586_593dup', 'c.761C>T/unknown', 'c.243_244delAinsGC', 'c.1-200_871+527 del 2033bp', 'c.1017+512del28', 'c.302delG'}\n",
      "Brakujące koordynaty w gpt-4o-mini: {'c.1017+572C>T', 'c.586_593dup', 'c.761C>T/unknown', 'c.243_244delAinsGC', 'c.1-200_871+527 del 2033bp', 'c.1017+512del28', 'c.302delG'}\n",
      "4o:  []\n",
      "mini:  []\n",
      "manual:  {'c.1017+572C>T', 'c.586_593dup', 'c.243_244delAinsGC', 'c.1-200_871+527 del 2033bp', 'c.761C>T/unknown', 'c.1017+512del28', 'c.302delG'}\n",
      "Koordynaty istniejące w gpt-4o, ale nieistniejące w ręcznej ekstrakcji: set()\n",
      "TP: 0\n",
      "TN: 0\n",
      "FP: 0\n",
      "FN: 7\n",
      "{'F1 Score': 0, 'Precision': 0, 'Recall': 0.0}\n",
      "mini:  []\n",
      "manual:  {'c.1017+572C>T', 'c.586_593dup', 'c.243_244delAinsGC', 'c.1-200_871+527 del 2033bp', 'c.761C>T/unknown', 'c.1017+512del28', 'c.302delG'}\n",
      "Koordynaty istniejące w gpt-mini, ale nieistniejące w ręcznej ekstrakcji: set()\n",
      "TP: 0\n",
      "TN: 0\n",
      "FP: 0\n",
      "FN: 7\n",
      "{'F1 Score': 0, 'Precision': 0, 'Recall': 0.0}\n",
      "F1 scores: [0, 0, 0, 0]\n"
     ]
    }
   ],
   "source": [
    "f1s = []\n",
    "results = []\n",
    "f1s_mini = []\n",
    "for pubmed_id in pubmed_ids:\n",
    "    result = analyze_pubmed_coordinates(pubmed_id)\n",
    "    results.append(result)\n",
    "    f1 = process_result(result)\n",
    "    f1_mini = process_result_mini(result)\n",
    "    f1s.append(f1)\n",
    "    f1s_mini.append(f1_mini)\n",
    "\n",
    "print(\"F1 scores:\", f1s)\n"
   ]
  },
  {
   "cell_type": "markdown",
   "id": "e5c07fe5",
   "metadata": {},
   "source": [
    "## Jak przeprowadzić analizę benchmarkową?\n",
    "1. Ściągnij pliki tekstowe dla podanych pubmed ids\n",
    "2. Wygeneruj koordynaty dla każdego z plików\n",
    "3. "
   ]
  },
  {
   "cell_type": "code",
   "execution_count": null,
   "id": "030923c3",
   "metadata": {},
   "outputs": [],
   "source": [
    "\n",
    "\n"
   ]
  },
  {
   "cell_type": "code",
   "execution_count": null,
   "id": "c54a4bd4",
   "metadata": {},
   "outputs": [],
   "source": []
  },
  {
   "cell_type": "code",
   "execution_count": 66,
   "id": "9e6d43b0",
   "metadata": {},
   "outputs": [
    {
     "data": {
      "text/html": [
       "<div>\n",
       "<style scoped>\n",
       "    .dataframe tbody tr th:only-of-type {\n",
       "        vertical-align: middle;\n",
       "    }\n",
       "\n",
       "    .dataframe tbody tr th {\n",
       "        vertical-align: top;\n",
       "    }\n",
       "\n",
       "    .dataframe thead th {\n",
       "        text-align: right;\n",
       "    }\n",
       "</style>\n",
       "<table border=\"1\" class=\"dataframe\">\n",
       "  <thead>\n",
       "    <tr style=\"text-align: right;\">\n",
       "      <th></th>\n",
       "      <th>0</th>\n",
       "    </tr>\n",
       "  </thead>\n",
       "  <tbody>\n",
       "    <tr>\n",
       "      <th>0</th>\n",
       "      <td>c.1187G&gt;A</td>\n",
       "    </tr>\n",
       "    <tr>\n",
       "      <th>1</th>\n",
       "      <td>c.1192C&gt;T</td>\n",
       "    </tr>\n",
       "    <tr>\n",
       "      <th>2</th>\n",
       "      <td>c.243_244delAinsGC</td>\n",
       "    </tr>\n",
       "    <tr>\n",
       "      <th>3</th>\n",
       "      <td>c.1163T&gt;C</td>\n",
       "    </tr>\n",
       "    <tr>\n",
       "      <th>4</th>\n",
       "      <td>c.1061C&gt;T</td>\n",
       "    </tr>\n",
       "    <tr>\n",
       "      <th>5</th>\n",
       "      <td>c.586_593dup</td>\n",
       "    </tr>\n",
       "    <tr>\n",
       "      <th>6</th>\n",
       "      <td>c.302delG</td>\n",
       "    </tr>\n",
       "    <tr>\n",
       "      <th>7</th>\n",
       "      <td>c.761C&gt;T</td>\n",
       "    </tr>\n",
       "    <tr>\n",
       "      <th>8</th>\n",
       "      <td>c.1017+572C&gt;T</td>\n",
       "    </tr>\n",
       "    <tr>\n",
       "      <th>9</th>\n",
       "      <td>c.769_778dup</td>\n",
       "    </tr>\n",
       "    <tr>\n",
       "      <th>10</th>\n",
       "      <td>c.941_951dup</td>\n",
       "    </tr>\n",
       "    <tr>\n",
       "      <th>11</th>\n",
       "      <td>c.1081C&gt;T</td>\n",
       "    </tr>\n",
       "    <tr>\n",
       "      <th>12</th>\n",
       "      <td>c.1186C&gt;T</td>\n",
       "    </tr>\n",
       "    <tr>\n",
       "      <th>13</th>\n",
       "      <td>c.1017+512del28</td>\n",
       "    </tr>\n",
       "  </tbody>\n",
       "</table>\n",
       "</div>"
      ],
      "text/plain": [
       "                     0\n",
       "0            c.1187G>A\n",
       "1            c.1192C>T\n",
       "2   c.243_244delAinsGC\n",
       "3            c.1163T>C\n",
       "4            c.1061C>T\n",
       "5         c.586_593dup\n",
       "6            c.302delG\n",
       "7             c.761C>T\n",
       "8        c.1017+572C>T\n",
       "9         c.769_778dup\n",
       "10        c.941_951dup\n",
       "11           c.1081C>T\n",
       "12           c.1186C>T\n",
       "13     c.1017+512del28"
      ]
     },
     "execution_count": 66,
     "metadata": {},
     "output_type": "execute_result"
    }
   ],
   "source": [
    "import pandas as pd\n",
    "pd.DataFrame(llm_extracted_coordinates_4o)"
   ]
  },
  {
   "cell_type": "code",
   "execution_count": 67,
   "id": "30478b79",
   "metadata": {},
   "outputs": [],
   "source": [
    "import json\n",
    "with open('../data/pubmed-articles/21441262.json', 'r') as file:\n",
    "    y = json.load(file)"
   ]
  },
  {
   "cell_type": "code",
   "execution_count": 68,
   "id": "0fb4d025",
   "metadata": {},
   "outputs": [
    {
     "data": {
      "text/plain": [
       "['46,XX,t(2;14)(q13;q13)',\n",
       " '14q12-q13.1',\n",
       " '14q12',\n",
       " 'chr14:28,754,647-28,756,495 bp',\n",
       " '28,930,280-28,932,099 bp',\n",
       " '~10 kb gene-poor region in 14q12 located ~265 kb downstream of FOXG1',\n",
       " '1-Mb region downstream of FOXG1',\n",
       " 'chr14:28,930,280-28,932,099',\n",
       " '46,XX,del(14)(q13.1q13.2)',\n",
       " '~5.4-Mb heterozygous deletion in 14q12-q13.1',\n",
       " '~1.09-Mb microdeletion downstream of FOXG1',\n",
       " 'transitions c.757A>G (p.N253D)',\n",
       " 'c.700T>C (p.S234P)',\n",
       " 'c.460dupG (p.E154GfsX301)',\n",
       " 'c.256C>T (p.R86X)',\n",
       " 'c.263_278del16 (p.R88PfsX99)',\n",
       " 'c.460dupG mutation']"
      ]
     },
     "execution_count": 68,
     "metadata": {},
     "output_type": "execute_result"
    }
   ],
   "source": [
    "y_coordinates = list(map(lambda x: x['coordinate'], next(article for article in y if article['pubmed_id'] == '21441262')['coordinates']))\n",
    "y_coordinates\n"
   ]
  },
  {
   "cell_type": "code",
   "execution_count": 69,
   "id": "1470a6d360b04c58",
   "metadata": {
    "ExecuteTime": {
     "end_time": "2024-09-08T19:40:44.919674Z",
     "start_time": "2024-09-08T19:40:39.843638Z"
    }
   },
   "outputs": [
    {
     "ename": "ModuleNotFoundError",
     "evalue": "No module named 'src.ContextExtractionService'",
     "output_type": "error",
     "traceback": [
      "\u001b[0;31m---------------------------------------------------------------------------\u001b[0m",
      "\u001b[0;31mModuleNotFoundError\u001b[0m                       Traceback (most recent call last)",
      "Cell \u001b[0;32mIn[69], line 1\u001b[0m\n\u001b[0;32m----> 1\u001b[0m \u001b[38;5;28;01mfrom\u001b[39;00m \u001b[38;5;21;01msrc\u001b[39;00m\u001b[38;5;21;01m.\u001b[39;00m\u001b[38;5;21;01mContextExtractionService\u001b[39;00m \u001b[38;5;28;01mimport\u001b[39;00m ContextExtractionService\n\u001b[1;32m      3\u001b[0m context_extraction_service \u001b[38;5;241m=\u001b[39m ContextExtractionService(\u001b[38;5;124m'\u001b[39m\u001b[38;5;124mgpt-4o-mini\u001b[39m\u001b[38;5;124m'\u001b[39m)\n\u001b[1;32m      4\u001b[0m coordinate \u001b[38;5;241m=\u001b[39m coordinates_list[\u001b[38;5;241m3\u001b[39m]\n",
      "\u001b[0;31mModuleNotFoundError\u001b[0m: No module named 'src.ContextExtractionService'"
     ]
    }
   ],
   "source": [
    "from src.ContextExtractionService import ContextExtractionService\n",
    "\n",
    "context_extraction_service = ContextExtractionService('gpt-4o-mini')\n",
    "coordinate = coordinates_list[3]\n",
    "coordinate_context = context_extraction_service.extract_context_from_coordinate(publication_text, coordinate)\n",
    "print(coordinate_context)"
   ]
  },
  {
   "cell_type": "code",
   "execution_count": 5,
   "id": "815937bce9a4e40f",
   "metadata": {
    "ExecuteTime": {
     "end_time": "2024-09-08T19:41:18.629658Z",
     "start_time": "2024-09-08T19:41:14.981553Z"
    }
   },
   "outputs": [
    {
     "name": "stderr",
     "output_type": "stream",
     "text": [
      "Asking to truncate to max_length but no maximum length is provided and the model has no predefined maximum length. Default to no truncation.\n"
     ]
    },
    {
     "name": "stdout",
     "output_type": "stream",
     "text": [
      "```json\n",
      "{\"name\": \"minus_1_frameshift_variant\", \"definition\": \"\\\"A sequence variant which causes a disruption of the translational reading frame, by shifting one base ahead.\\\" [http://arjournals.annualreviews.org/doi/pdf/10.1146/annurev.ge.08.120174.001535]\", \"comment\": null, \"_distance\": 156.83042907714844}\n",
      "```\n"
     ]
    }
   ],
   "source": [
    "import importlib\n",
    "import src.SequenceOntologyMappingService  # Initial import\n",
    "importlib.reload(src.SequenceOntologyMappingService)  # Reload the module\n",
    "from src.SequenceOntologyMappingService import SequenceOntologyMappingService  # Re-import the class\n",
    "\n",
    "sequence_ontology_mapping_service = SequenceOntologyMappingService('gpt-4o-mini')\n",
    "sequence_ontology_term = sequence_ontology_mapping_service.map_coordinates_to_sequence_ontology(coordinate, coordinate_context)\n",
    "print(sequence_ontology_term)"
   ]
  },
  {
   "cell_type": "code",
   "execution_count": 17,
   "id": "5b73571fa7dc4ddd",
   "metadata": {
    "ExecuteTime": {
     "end_time": "2024-09-08T19:52:46.565362Z",
     "start_time": "2024-09-08T19:52:41.600791Z"
    }
   },
   "outputs": [
    {
     "name": "stdout",
     "output_type": "stream",
     "text": [
      "Link between type of variant and frameshift: False. Type of relation is RELATION_TYPE  . Reasoning: The context indicates that the mutations listed (including chr10:23508365A>G and chr10:23508446A>C) do not specifically refer to a frameshift variant. Instead, the provided sequence ontology describes a \"minus_1_frameshift_variant,\" which is a specific type of sequence variant that disrupts the translational reading frame. There is no direct evidence in the context provided that links the user value \"frameshift\" specifically to the mentioned coordinates as a confirmed type of variant.\n"
     ]
    }
   ],
   "source": [
    "import src.LinksFromQueryExtractionService\n",
    "importlib.reload(src.LinksFromQueryExtractionService)\n",
    "from src.LinksFromQueryExtractionService import LinksFromQueryExtractionService\n",
    "\n",
    "links_from_query_extraction_service = LinksFromQueryExtractionService('gpt-4o-mini')\n",
    "user_query_dict = {'type of variant': 'frameshift'}\n",
    "links = links_from_query_extraction_service.extract_links_from_query(coordinate, coordinate_context, sequence_ontology_term, user_query_dict)"
   ]
  },
  {
   "cell_type": "code",
   "execution_count": 10,
   "id": "65f4db2545bdb537",
   "metadata": {
    "ExecuteTime": {
     "end_time": "2024-09-08T19:47:48.462044Z",
     "start_time": "2024-09-08T19:47:48.458440Z"
    }
   },
   "outputs": [
    {
     "data": {
      "text/plain": [
       "'The following sentences from the publication are relevant to the genomic coordinates chr10:23508365A>G and chr10:23508446A>C:\\n\\n1. \"We also identified a homozygous mutation in one patient with pancreatic agenesis and intrahepatic cholestatic failure.\"\\n2. \"Of the 10 probands with mutations in this element, 6 had the same chr10:23508437A>G mutation as part of a shared extended haplotype (minimal shared haplotype of 1.2Mb).\"\\n3. \"Three of the remaining probands had different base substitution mutations: a homozygous chr10:23508363A>G mutation, a homozygous chr10:23508305A>G mutation and compound heterozygous chr10:23508365A>G/chr10:23508446A>C mutations.\"\\n4. \"Testing of parents and siblings demonstrated co-segregation of the mutations with diabetes and exocrine insufficiency.\"\\n\\nThese sentences provide context about the specific mutations at the given coordinates, their occurrence in patients with pancreatic agenesis, and the analysis of genetic inheritance related to these mutations.'"
      ]
     },
     "execution_count": 10,
     "metadata": {},
     "output_type": "execute_result"
    }
   ],
   "source": [
    "coordinate_context"
   ]
  },
  {
   "cell_type": "code",
   "execution_count": null,
   "id": "8ed7143c06d8c1e1",
   "metadata": {},
   "outputs": [],
   "source": []
  }
 ],
 "metadata": {
  "kernelspec": {
   "display_name": "Python 3 (ipykernel)",
   "language": "python",
   "name": "python3"
  },
  "language_info": {
   "codemirror_mode": {
    "name": "ipython",
    "version": 3
   },
   "file_extension": ".py",
   "mimetype": "text/x-python",
   "name": "python",
   "nbconvert_exporter": "python",
   "pygments_lexer": "ipython3",
   "version": "3.12.7"
  }
 },
 "nbformat": 4,
 "nbformat_minor": 5
}
