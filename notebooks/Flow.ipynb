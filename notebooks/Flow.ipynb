{
 "cells": [
  {
   "cell_type": "code",
   "execution_count": 1,
   "id": "initial_id",
   "metadata": {
    "ExecuteTime": {
     "end_time": "2024-09-08T19:40:35.339317Z",
     "start_time": "2024-09-08T19:40:32.994115Z"
    }
   },
   "outputs": [],
   "source": [
    "import sys\n",
    "import os\n",
    "\n",
    "# Uzyskaj bieżący katalog roboczy\n",
    "current_dir = os.getcwd()  # Uzyskaj bieżący katalog roboczy\n",
    "src_dir = os.path.abspath(os.path.join(current_dir, '..'))  # Ścieżka do katalogu src\n",
    "\n",
    "# Dodaj katalog src do sys.path\n",
    "sys.path.append(src_dir)\n"
   ]
  },
  {
   "cell_type": "code",
   "execution_count": 2,
   "id": "23a3239a",
   "metadata": {},
   "outputs": [],
   "source": [
    "import logging\n",
    "logging.basicConfig(level=logging.INFO, filename='flow.log')\n"
   ]
  },
  {
   "cell_type": "code",
   "execution_count": 3,
   "id": "da5be054",
   "metadata": {},
   "outputs": [],
   "source": [
    "from src.flow.PubmedEndpoint import PubmedEndpoint\n",
    "\n",
    "publication_text = PubmedEndpoint.fetch_full_text_from_pubmed_id('21441262')"
   ]
  },
  {
   "cell_type": "code",
   "execution_count": 3,
   "id": "4c63a37a",
   "metadata": {},
   "outputs": [
    {
     "data": {
      "text/plain": [
       "'<?xml version=\"1.0\" ?>\\n<!DOCTYPE pmc-articleset PUBLIC \"-//NLM//DTD ARTICLE SET 2.0//EN\" \"https://dtd.nlm.nih.gov/ncbi/pmc/articleset/nlm-articleset-2.0.dtd\">\\n<pmc-articleset><article xmlns:xlink=\"http://www.w3.org/1999/xlink\" xmlns:mml=\"http://www.w3.org/1998/Math/MathML\" article-type=\"research-article\">\\n  <!--The publisher of this article does not allow downloading of the full text in XML form.-->\\n  <?properties manuscript?>\\n  <front>\\n    <journal-meta>\\n      <journal-id journal-id-type=\"nlm-journal-id\">2985087R</journal-id>\\n      <journal-id journal-id-type=\"pubmed-jr-id\">4945</journal-id>\\n      <journal-id journal-id-type=\"nlm-ta\">J Med Genet</journal-id>\\n      <journal-id journal-id-type=\"iso-abbrev\">J. Med. Genet.</journal-id>\\n      <journal-title-group>\\n        <journal-title>Journal of medical genetics</journal-title>\\n      </journal-title-group>\\n      <issn pub-type=\"ppub\">0022-2593</issn>\\n      <issn pub-type=\"epub\">1468-6244</issn>\\n    </journal-meta>\\n    <article-meta>\\n      <article-id pub-id-type=\"pmid\">21441262</article-id>\\n      <article-id pub-id-type=\"pmc\">5522617</article-id>\\n      <article-id pub-id-type=\"doi\">10.1136/jmg.2010.087528</article-id>\\n      <article-id pub-id-type=\"manuscript\">NIHMS870142</article-id>\\n      <article-categories>\\n        <subj-group subj-group-type=\"heading\">\\n          <subject>Article</subject>\\n        </subj-group>\\n      </article-categories>\\n      <title-group>\\n        <article-title>The core <italic>FOXG1</italic> syndrome phenotype consists of postnatal microcephaly, severe mental retardation, absent language, dyskinesia, and corpus callosum hypogenesis</article-title>\\n      </title-group>\\n      <contrib-group>\\n        <contrib contrib-type=\"author\">\\n          <name>\\n            <surname>Kort&#xFC;m</surname>\\n            <given-names>Fanny</given-names>\\n          </name>\\n          <xref ref-type=\"aff\" rid=\"A1\">1</xref>\\n        </contrib>\\n        <contrib contrib-type=\"author\">\\n          <name>\\n            <surname>Das</surname>\\n            <given-names>Soma</given-names>\\n          </name>\\n          <xref ref-type=\"aff\" rid=\"A2\">2</xref>\\n        </contrib>\\n        <contrib contrib-type=\"author\">\\n          <name>\\n            <surname>Flindt</surname>\\n            <given-names>Max</given-names>\\n          </name>\\n          <xref ref-type=\"aff\" rid=\"A1\">1</xref>\\n        </contrib>\\n        <contrib contrib-type=\"author\">\\n          <name>\\n            <surname>Morris-Rosendahl</surname>\\n            <given-names>Deborah J.</given-names>\\n          </name>\\n          <xref ref-type=\"aff\" rid=\"A3\">3</xref>\\n        </contrib>\\n        <contrib contrib-type=\"author\">\\n          <name>\\n            <surname>Stefanova</surname>\\n            <given-names>Irina</given-names>\\n          </name>\\n          <xref ref-type=\"aff\" rid=\"A4\">4</xref>\\n        </contrib>\\n        <contrib contrib-type=\"author\">\\n          <name>\\n            <surname>Goldstein</surname>\\n            <given-names>Amy</given-names>\\n          </name>\\n          <xref ref-type=\"aff\" rid=\"A5\">5</xref>\\n        </contrib>\\n        <contrib contrib-type=\"author\">\\n          <name>\\n            <surname>Horn</surname>\\n            <given-names>Denise</given-names>\\n          </name>\\n          <xref ref-type=\"aff\" rid=\"A6\">6</xref>\\n        </contrib>\\n        <contrib contrib-type=\"author\">\\n          <name>\\n            <surname>Klopocki</surname>\\n            <given-names>Eva</given-names>\\n          </name>\\n          <xref ref-type=\"aff\" rid=\"A6\">6</xref>\\n        </contrib>\\n        <contrib contrib-type=\"author\">\\n          <name>\\n            <surname>Kluger</surname>\\n            <given-names>Gerhard</given-names>\\n          </name>\\n          <xref ref-type=\"aff\" rid=\"A7\">7</xref>\\n        </contrib>\\n        <contrib contrib-type=\"author\">\\n          <name>\\n            <surname>Martin</surname>\\n            <given-names>Peter</given-names>\\n          </name>\\n          <xref ref-type=\"aff\" rid=\"A8\">8</xref>\\n        </contrib>\\n        <contrib contrib-type=\"author\">\\n          <name>\\n            <surname>Rauch</surname>\\n            <given-names>Anita</given-names>\\n          </name>\\n          <xref ref-type=\"aff\" rid=\"A9\">9</xref>\\n          <xref ref-type=\"aff\" rid=\"A10\">10</xref>\\n        </contrib>\\n        <contrib contrib-type=\"author\">\\n          <name>\\n            <surname>Roumer</surname>\\n            <given-names>Agathe</given-names>\\n          </name>\\n          <xref ref-type=\"aff\" rid=\"A11\">11</xref>\\n        </contrib>\\n        <contrib contrib-type=\"author\">\\n          <name>\\n            <surname>Saitta</surname>\\n            <given-names>Sulagna</given-names>\\n          </name>\\n          <xref ref-type=\"aff\" rid=\"A12\">12</xref>\\n        </contrib>\\n        <contrib contrib-type=\"author\">\\n          <name>\\n            <surname>Walsh</surname>\\n            <given-names>Laurence E.</given-names>\\n          </name>\\n          <xref ref-type=\"aff\" rid=\"A13\">13</xref>\\n        </contrib>\\n        <contrib contrib-type=\"author\">\\n          <name>\\n            <surname>Wieczorek</surname>\\n            <given-names>Dagmar</given-names>\\n          </name>\\n          <xref ref-type=\"aff\" rid=\"A14\">14</xref>\\n        </contrib>\\n        <contrib contrib-type=\"author\">\\n          <name>\\n            <surname>Uyanik</surname>\\n            <given-names>G&#xF6;khan</given-names>\\n          </name>\\n          <xref ref-type=\"aff\" rid=\"A1\">1</xref>\\n          <xref ref-type=\"aff\" rid=\"A15\">15</xref>\\n        </contrib>\\n        <contrib contrib-type=\"author\">\\n          <name>\\n            <surname>Kutsche</surname>\\n            <given-names>Kerstin</given-names>\\n          </name>\\n          <xref ref-type=\"aff\" rid=\"A1\">1</xref>\\n        </contrib>\\n        <contrib contrib-type=\"author\">\\n          <name>\\n            <surname>Dobyns</surname>\\n            <given-names>William B.</given-names>\\n          </name>\\n          <xref ref-type=\"aff\" rid=\"A16\">16</xref>\\n        </contrib>\\n      </contrib-group>\\n      <aff id=\"A1\">\\n<label>1</label>Institut f&#xFC;r Humangenetik, Universit&#xE4;tsklinikum Hamburg-Eppendorf, Hamburg, Germany</aff>\\n      <aff id=\"A2\">\\n<label>2</label>Department of Human Genetics, University of Chicago, Chicago, IL, USA</aff>\\n      <aff id=\"A3\">\\n<label>3</label>Institute for Human Genetics, University Clinic Freiburg, Germany</aff>\\n      <aff id=\"A4\">\\n<label>4</label>Institut f&#xFC;r Humangenetik, Universit&#xE4;t zu L&#xFC;beck, L&#xFC;beck, Germany</aff>\\n      <aff id=\"A5\">\\n<label>5</label>Division of Child Neurology, Children\\'s Hospital of Pittsburgh, Pittsburgh, PA, USA</aff>\\n      <aff id=\"A6\">\\n<label>6</label>Institut f&#xFC;r Medizinische Genetik, Charit&#xE9; Universit&#xE4;tsmedizin Berlin, Berlin, Germany</aff>\\n      <aff id=\"A7\">\\n<label>7</label>Neuropediatric Clinic and Clinic for Neurorehabilitation, Epilepsy Center for Children and Adolescents, Vogtareuth, Germany</aff>\\n      <aff id=\"A8\">\\n<label>8</label>S&#xE9;guin Clinic, Epilepsy Center Kork, Kehl-Kork, Germany</aff>\\n      <aff id=\"A9\">\\n<label>9</label>Institute of Human Genetics, University Hospital Erlangen, Erlangen, Germany</aff>\\n      <aff id=\"A10\">\\n<label>10</label>Institute of Medical Genetics, University of Zurich, Schwerzenbach, Switzerland</aff>\\n      <aff id=\"A11\">\\n<label>11</label>Sozialp&#xE4;diatrisches Zentrum Frankfurt Mitte, Frankfurt, Germany</aff>\\n      <aff id=\"A12\">\\n<label>12</label>Children\\'s Hospital of Philadelphia, Philadelphia, PA, USA</aff>\\n      <aff id=\"A13\">\\n<label>13</label>Department of Medical Genetics, Indiana University, Indianapolis, IN, USA</aff>\\n      <aff id=\"A14\">\\n<label>14</label>Institut f&#xFC;r Humangenetik, Universit&#xE4;tsklinikum Essen, Essen, Germany</aff>\\n      <aff id=\"A15\">\\n<label>15</label>Klinik und Poliklinik f&#xFC;r Neurologie, Universit&#xE4;t Regensburg, Regensburg, Germany</aff>\\n      <aff id=\"A16\">\\n<label>16</label>Departments of Pediatrics and Neurology, University of Washington, and Center for Integrative Brain Research, Seattle Children&#x2019;s Research Institute, Seattle, WA, USA</aff>\\n      <author-notes>\\n        <corresp id=\"FN1\">Corresponding authors: William B. Dobyns, MD, Seattle Children&#x2019;s Research Institute, Center for Integrative Brain Research, 1900 Ninth Avenue, M/S C9S-10, Seattle WA 98101, USA, Tel.: +1 206-884-1025, Fax: +1 206-884-1210, <email>wbd@uw.edu</email>. Kerstin Kutsche, PhD, Institut f&#xFC;r Humangenetik, Universit&#xE4;tsklinikum Hamburg-Eppendorf, Campus Forschung, Martinistra&#xDF;e 52, 20246 Hamburg Germany, Tel: +49 40 7410 54597, Fax: +49 40 7410 55138, <email>kkutsche@uke.de</email></corresp>\\n        <fn fn-type=\"COI-statement\" id=\"FN2\">\\n          <p>\\n            <bold>Competing interest</bold>\\n          </p>\\n          <p>None.</p>\\n        </fn>\\n      </author-notes>\\n      <pub-date pub-type=\"nihms-submitted\">\\n        <day>7</day>\\n        <month>6</month>\\n        <year>2017</year>\\n      </pub-date>\\n      <pub-date pub-type=\"epub\">\\n        <day>25</day>\\n        <month>3</month>\\n        <year>2011</year>\\n      </pub-date>\\n      <pub-date pub-type=\"ppub\">\\n        <month>6</month>\\n        <year>2011</year>\\n      </pub-date>\\n      <pub-date pub-type=\"pmc-release\">\\n        <day>22</day>\\n        <month>7</month>\\n        <year>2017</year>\\n      </pub-date>\\n      <volume>48</volume>\\n      <issue>6</issue>\\n      <fpage>396</fpage>\\n      <lpage>406</lpage>\\n      <!--elocation-id from pubmed: 10.1136/jmg.2010.087528-->\\n      <abstract>\\n        <sec id=\"S1\">\\n          <title>Background</title>\\n          <p id=\"P1\">Submicroscopic deletions in 14q12 spanning <italic>FOXG1</italic> or intragenic mutations have been reported in patients with a developmental disorder described as a congenital variant of Rett syndrome. We aimed to further characterize and delineate the phenotype of <italic>FOXG1</italic>-mutation positive patients.</p>\\n        </sec>\\n        <sec id=\"S2\">\\n          <title>Method</title>\\n          <p id=\"P2\">We mapped the breakpoints of a 2;14 translocation by fluorescence <italic>in situ</italic> hybridization and analyzed three chromosome rearrangements in 14q12 by cytogenetic analysis and/or array CGH. We sequenced the <italic>FOXG1</italic> gene in 210 patients, including 129 patients with unexplained developmental disorders and 81 <italic>MECP2</italic>-mutation negative individuals.</p>\\n        </sec>\\n        <sec id=\"S3\">\\n          <title>Results</title>\\n          <p id=\"P3\">We report one known mutation, seen in 2 patients, and 9 novel mutations of <italic>FOXG1</italic> including 2 deletions, 2 chromosome rearrangements disrupting or displacing putative <italic>cis</italic>-regulatory elements from <italic>FOXG1</italic>, and 7 sequence changes. Analysis of our 11 patients, and further 15 patients reported in the literature, demonstrates a complex constellation of features including mild postnatal growth deficiency, severe postnatal microcephaly, severe mental retardation with absent language development, deficient social reciprocity resembling autism, combined stereotypies and frank dyskinesias, epilepsy, poor sleep patterns, irritability in infancy, unexplained episodes of crying, recurrent aspiration, and gastroesophageal reflux. Brain imaging studies reveal simplified gyral pattern and reduced white matter volume in the frontal lobes, corpus callosum hypogenesis, and variable mild frontal pachgyria.</p>\\n        </sec>\\n        <sec id=\"S4\">\\n          <title>Conclusions</title>\\n          <p id=\"P4\">We significantly expanded the number of <italic>FOXG1</italic> mutations and identified two affecting possible <italic>cis</italic>-regulatory elements. While the phenotype of the patients overlaps both classic and congenital Rett syndrome, extensive clinical evaluation demonstrates a distinctive and clinically recognizable phenotype which we suggest to designate as the <italic>FOXG1</italic> syndrome.</p>\\n        </sec>\\n      </abstract>\\n      <kwd-group>\\n        <kwd>Rett syndrome</kwd>\\n        <kwd>FOXG1</kwd>\\n        <kwd>mental retardation</kwd>\\n        <kwd>microcephaly</kwd>\\n      </kwd-group>\\n    </article-meta>\\n  </front>\\n</article>\\n</pmc-articleset>'"
      ]
     },
     "execution_count": 3,
     "metadata": {},
     "output_type": "execute_result"
    }
   ],
   "source": []
  },
  {
   "cell_type": "code",
   "execution_count": 4,
   "id": "04968b3b",
   "metadata": {},
   "outputs": [],
   "source": []
  },
  {
   "cell_type": "code",
   "execution_count": 11,
   "id": "45b57c9e",
   "metadata": {},
   "outputs": [],
   "source": [
    "with open('../data/pubmed-articles/21441262.txt', 'r') as file:\n",
    "    publication_text = file.read()"
   ]
  },
  {
   "cell_type": "code",
   "execution_count": 10,
   "id": "364edb2f",
   "metadata": {},
   "outputs": [],
   "source": [
    "from src.LlmManager import LlmManager\n",
    "llm_manager = LlmManager('gpt', 'gpt-4o-mini')"
   ]
  },
  {
   "cell_type": "code",
   "execution_count": null,
   "id": "9690cd70",
   "metadata": {},
   "outputs": [],
   "source": []
  },
  {
   "cell_type": "code",
   "execution_count": 14,
   "id": "9f167e45db3da1ed",
   "metadata": {
    "ExecuteTime": {
     "end_time": "2024-09-08T19:40:39.842448Z",
     "start_time": "2024-09-08T19:40:35.340537Z"
    }
   },
   "outputs": [
    {
     "name": "stdout",
     "output_type": "stream",
     "text": [
      "Regex extracted coordinates:  []\n",
      "LLM extracted coordinates:  ['NC_000014.8:g.101179660_101179695', 'NC_000014.8:g.101179660_101179695', 'NC_000014.8:g.101179660_101179695', 'NC_000014.8:g.101179660_101179695', 'NC_000014.8:g.101179660_101179695', '', 'NC_000014.8:g.101179660_101179695', 'NC_000014.8:g.101179660_101179695', 'NC_000014.8:g.101179660_101179695', 'NC_000014.8:g.101179660_101179695', 'NC_000014.8:g.101179660_101179695']\n"
     ]
    }
   ],
   "source": [
    "import importlib\n",
    "import src.flow.coordinates_extraction.CoordinatesRegexExtractor\n",
    "importlib.reload(src.flow.coordinates_extraction.CoordinatesRegexExtractor) \n",
    "from src.flow.coordinates_extraction.CoordinatesRegexExtractor import CoordinatesRegexExtractor\n",
    "\n",
    "import src.flow.coordinates_extraction.CoordinatesLlmExtractor\n",
    "importlib.reload(src.flow.coordinates_extraction.CoordinatesLlmExtractor) \n",
    "from src.flow.coordinates_extraction.CoordinatesLlmExtractor import CoordinatesLlmExtractor\n",
    "\n",
    "import src.LlmManager\n",
    "importlib.reload(src.LlmManager) \n",
    "from src.LlmManager import LlmManager\n",
    "\n",
    "\n",
    "\n",
    "coordinates_regex_extractor = CoordinatesRegexExtractor()\n",
    "regex_extracted_coordinates = coordinates_regex_extractor.extract_coordinates(publication_text)\n",
    "\n",
    "llm_manager = LlmManager('gpt', 'gpt-4o-mini')\n",
    "llm = llm_manager.get_llm()\n",
    "\n",
    "coordinates_llm_extractor = CoordinatesLlmExtractor(llm)\n",
    "llm_extracted_coordinates = coordinates_llm_extractor.extract(publication_text)\n",
    "print(\"Regex extracted coordinates: \",regex_extracted_coordinates)\n",
    "print(\"LLM extracted coordinates: \",llm_extracted_coordinates)"
   ]
  },
  {
   "cell_type": "code",
   "execution_count": null,
   "id": "60d13984",
   "metadata": {},
   "outputs": [],
   "source": []
  },
  {
   "cell_type": "code",
   "execution_count": 11,
   "id": "30478b79",
   "metadata": {},
   "outputs": [],
   "source": [
    "import json\n",
    "with open('../data/pubmed-articles/21441262.json', 'r') as file:\n",
    "    y = json.load(file)"
   ]
  },
  {
   "cell_type": "code",
   "execution_count": 17,
   "id": "0fb4d025",
   "metadata": {},
   "outputs": [
    {
     "data": {
      "text/plain": [
       "['46,XX,t(2;14)(q13;q13)',\n",
       " '14q12-q13.1',\n",
       " '14q12',\n",
       " 'chr14:28,754,647-28,756,495 bp',\n",
       " '28,930,280-28,932,099 bp',\n",
       " '~10 kb gene-poor region in 14q12 located ~265 kb downstream of FOXG1',\n",
       " '1-Mb region downstream of FOXG1',\n",
       " 'chr14:28,930,280-28,932,099',\n",
       " '46,XX,del(14)(q13.1q13.2)',\n",
       " '~5.4-Mb heterozygous deletion in 14q12-q13.1',\n",
       " '~1.09-Mb microdeletion downstream of FOXG1',\n",
       " 'transitions c.757A>G (p.N253D)',\n",
       " 'c.700T>C (p.S234P)',\n",
       " 'c.460dupG (p.E154GfsX301)',\n",
       " 'c.256C>T (p.R86X)',\n",
       " 'c.263_278del16 (p.R88PfsX99)',\n",
       " 'c.460dupG mutation']"
      ]
     },
     "execution_count": 17,
     "metadata": {},
     "output_type": "execute_result"
    }
   ],
   "source": [
    "y_coordinates = list(map(lambda x: x['coordinate'], next(article for article in y if article['pubmed_id'] == '21441262')['coordinates']))\n",
    "y_coordinates\n"
   ]
  },
  {
   "cell_type": "code",
   "execution_count": 3,
   "id": "1470a6d360b04c58",
   "metadata": {
    "ExecuteTime": {
     "end_time": "2024-09-08T19:40:44.919674Z",
     "start_time": "2024-09-08T19:40:39.843638Z"
    }
   },
   "outputs": [
    {
     "name": "stdout",
     "output_type": "stream",
     "text": [
      "The following sentences from the publication are relevant to the genomic coordinates chr10:23508365A>G and chr10:23508446A>C:\n",
      "\n",
      "1. \"We also identified a homozygous mutation in one patient with pancreatic agenesis and intrahepatic cholestatic failure.\"\n",
      "2. \"Of the 10 probands with mutations in this element, 6 had the same chr10:23508437A>G mutation as part of a shared extended haplotype (minimal shared haplotype of 1.2Mb).\"\n",
      "3. \"Three of the remaining probands had different base substitution mutations: a homozygous chr10:23508363A>G mutation, a homozygous chr10:23508305A>G mutation and compound heterozygous chr10:23508365A>G/chr10:23508446A>C mutations.\"\n",
      "4. \"Testing of parents and siblings demonstrated co-segregation of the mutations with diabetes and exocrine insufficiency.\"\n",
      "\n",
      "These sentences provide context about the specific mutations at the given coordinates, their occurrence in patients with pancreatic agenesis, and the analysis of genetic inheritance related to these mutations.\n"
     ]
    }
   ],
   "source": [
    "from src.ContextExtractionService import ContextExtractionService\n",
    "\n",
    "context_extraction_service = ContextExtractionService('gpt-4o-mini')\n",
    "coordinate = coordinates_list[3]\n",
    "coordinate_context = context_extraction_service.extract_context_from_coordinate(publication_text, coordinate)\n",
    "print(coordinate_context)"
   ]
  },
  {
   "cell_type": "code",
   "execution_count": 5,
   "id": "815937bce9a4e40f",
   "metadata": {
    "ExecuteTime": {
     "end_time": "2024-09-08T19:41:18.629658Z",
     "start_time": "2024-09-08T19:41:14.981553Z"
    }
   },
   "outputs": [
    {
     "name": "stderr",
     "output_type": "stream",
     "text": [
      "Asking to truncate to max_length but no maximum length is provided and the model has no predefined maximum length. Default to no truncation.\n"
     ]
    },
    {
     "name": "stdout",
     "output_type": "stream",
     "text": [
      "```json\n",
      "{\"name\": \"minus_1_frameshift_variant\", \"definition\": \"\\\"A sequence variant which causes a disruption of the translational reading frame, by shifting one base ahead.\\\" [http://arjournals.annualreviews.org/doi/pdf/10.1146/annurev.ge.08.120174.001535]\", \"comment\": null, \"_distance\": 156.83042907714844}\n",
      "```\n"
     ]
    }
   ],
   "source": [
    "import importlib\n",
    "import src.SequenceOntologyMappingService  # Initial import\n",
    "importlib.reload(src.SequenceOntologyMappingService)  # Reload the module\n",
    "from src.SequenceOntologyMappingService import SequenceOntologyMappingService  # Re-import the class\n",
    "\n",
    "sequence_ontology_mapping_service = SequenceOntologyMappingService('gpt-4o-mini')\n",
    "sequence_ontology_term = sequence_ontology_mapping_service.map_coordinates_to_sequence_ontology(coordinate, coordinate_context)\n",
    "print(sequence_ontology_term)"
   ]
  },
  {
   "cell_type": "code",
   "execution_count": 17,
   "id": "5b73571fa7dc4ddd",
   "metadata": {
    "ExecuteTime": {
     "end_time": "2024-09-08T19:52:46.565362Z",
     "start_time": "2024-09-08T19:52:41.600791Z"
    }
   },
   "outputs": [
    {
     "name": "stdout",
     "output_type": "stream",
     "text": [
      "Link between type of variant and frameshift: False. Type of relation is RELATION_TYPE  . Reasoning: The context indicates that the mutations listed (including chr10:23508365A>G and chr10:23508446A>C) do not specifically refer to a frameshift variant. Instead, the provided sequence ontology describes a \"minus_1_frameshift_variant,\" which is a specific type of sequence variant that disrupts the translational reading frame. There is no direct evidence in the context provided that links the user value \"frameshift\" specifically to the mentioned coordinates as a confirmed type of variant.\n"
     ]
    }
   ],
   "source": [
    "import src.LinksFromQueryExtractionService\n",
    "importlib.reload(src.LinksFromQueryExtractionService)\n",
    "from src.LinksFromQueryExtractionService import LinksFromQueryExtractionService\n",
    "\n",
    "links_from_query_extraction_service = LinksFromQueryExtractionService('gpt-4o-mini')\n",
    "user_query_dict = {'type of variant': 'frameshift'}\n",
    "links = links_from_query_extraction_service.extract_links_from_query(coordinate, coordinate_context, sequence_ontology_term, user_query_dict)"
   ]
  },
  {
   "cell_type": "code",
   "execution_count": 10,
   "id": "65f4db2545bdb537",
   "metadata": {
    "ExecuteTime": {
     "end_time": "2024-09-08T19:47:48.462044Z",
     "start_time": "2024-09-08T19:47:48.458440Z"
    }
   },
   "outputs": [
    {
     "data": {
      "text/plain": [
       "'The following sentences from the publication are relevant to the genomic coordinates chr10:23508365A>G and chr10:23508446A>C:\\n\\n1. \"We also identified a homozygous mutation in one patient with pancreatic agenesis and intrahepatic cholestatic failure.\"\\n2. \"Of the 10 probands with mutations in this element, 6 had the same chr10:23508437A>G mutation as part of a shared extended haplotype (minimal shared haplotype of 1.2Mb).\"\\n3. \"Three of the remaining probands had different base substitution mutations: a homozygous chr10:23508363A>G mutation, a homozygous chr10:23508305A>G mutation and compound heterozygous chr10:23508365A>G/chr10:23508446A>C mutations.\"\\n4. \"Testing of parents and siblings demonstrated co-segregation of the mutations with diabetes and exocrine insufficiency.\"\\n\\nThese sentences provide context about the specific mutations at the given coordinates, their occurrence in patients with pancreatic agenesis, and the analysis of genetic inheritance related to these mutations.'"
      ]
     },
     "execution_count": 10,
     "metadata": {},
     "output_type": "execute_result"
    }
   ],
   "source": [
    "coordinate_context"
   ]
  },
  {
   "cell_type": "code",
   "execution_count": null,
   "id": "8ed7143c06d8c1e1",
   "metadata": {},
   "outputs": [],
   "source": []
  }
 ],
 "metadata": {
  "kernelspec": {
   "display_name": "Python 3 (ipykernel)",
   "language": "python",
   "name": "python3"
  },
  "language_info": {
   "codemirror_mode": {
    "name": "ipython",
    "version": 3
   },
   "file_extension": ".py",
   "mimetype": "text/x-python",
   "name": "python",
   "nbconvert_exporter": "python",
   "pygments_lexer": "ipython3",
   "version": "3.12.7"
  }
 },
 "nbformat": 4,
 "nbformat_minor": 5
}
