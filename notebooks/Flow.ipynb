{
 "cells": [
  {
   "cell_type": "code",
   "execution_count": 1,
   "id": "initial_id",
   "metadata": {
    "ExecuteTime": {
     "end_time": "2024-09-08T19:40:35.339317Z",
     "start_time": "2024-09-08T19:40:32.994115Z"
    }
   },
   "outputs": [],
   "source": [
    "import sys\n",
    "import os\n",
    "\n",
    "# Uzyskaj bieżący katalog roboczy\n",
    "current_dir = os.getcwd()  # Uzyskaj bieżący katalog roboczy\n",
    "src_dir = os.path.abspath(os.path.join(current_dir, '..'))  # Ścieżka do katalogu src\n",
    "\n",
    "# Dodaj katalog src do sys.path\n",
    "sys.path.append(src_dir)\n"
   ]
  },
  {
   "cell_type": "code",
   "execution_count": 2,
   "id": "da5be054",
   "metadata": {},
   "outputs": [],
   "source": [
    "from src.flow.PubmedEndpoint import PubmedEndpoint\n",
    "\n",
    "publication_text = PubmedEndpoint.fetch_full_text_from_pubmed_id('24212882')"
   ]
  },
  {
   "cell_type": "code",
   "execution_count": 3,
   "id": "04968b3b",
   "metadata": {},
   "outputs": [],
   "source": [
    "# write text from publication_text to file\n",
    "from src import LlmManager\n",
    "\n",
    "\n",
    "with open('publication_text.txt', 'w') as file:\n",
    "    file.write(publication_text)"
   ]
  },
  {
   "cell_type": "code",
   "execution_count": 4,
   "id": "364edb2f",
   "metadata": {},
   "outputs": [],
   "source": [
    "from src.LlmManager import LlmManager\n",
    "llm_manager = LlmManager('gpt', 'gpt-4o-mini')"
   ]
  },
  {
   "cell_type": "code",
   "execution_count": 5,
   "id": "9f167e45db3da1ed",
   "metadata": {
    "ExecuteTime": {
     "end_time": "2024-09-08T19:40:39.842448Z",
     "start_time": "2024-09-08T19:40:35.340537Z"
    }
   },
   "outputs": [
    {
     "ename": "ModuleNotFoundError",
     "evalue": "No module named 'src'",
     "output_type": "error",
     "traceback": [
      "\u001b[0;31m---------------------------------------------------------------------------\u001b[0m",
      "\u001b[0;31mModuleNotFoundError\u001b[0m                       Traceback (most recent call last)",
      "Cell \u001b[0;32mIn[5], line 2\u001b[0m\n\u001b[1;32m      1\u001b[0m \u001b[38;5;28;01mimport\u001b[39;00m \u001b[38;5;21;01mimportlib\u001b[39;00m\n\u001b[0;32m----> 2\u001b[0m \u001b[38;5;28;01mimport\u001b[39;00m \u001b[38;5;21;01msrc\u001b[39;00m\u001b[38;5;21;01m.\u001b[39;00m\u001b[38;5;21;01mflow\u001b[39;00m\u001b[38;5;21;01m.\u001b[39;00m\u001b[38;5;21;01mCoordinatesRetriever\u001b[39;00m\n\u001b[1;32m      3\u001b[0m importlib\u001b[38;5;241m.\u001b[39mreload(flow\u001b[38;5;241m.\u001b[39mCoordinatesRetriever) \n\u001b[1;32m      4\u001b[0m \u001b[38;5;28;01mfrom\u001b[39;00m \u001b[38;5;21;01msrc\u001b[39;00m\u001b[38;5;21;01m.\u001b[39;00m\u001b[38;5;21;01mflow\u001b[39;00m\u001b[38;5;21;01m.\u001b[39;00m\u001b[38;5;21;01mCoordinatesRetriever\u001b[39;00m \u001b[38;5;28;01mimport\u001b[39;00m CoordinatesRetriever\n",
      "\u001b[0;31mModuleNotFoundError\u001b[0m: No module named 'src'"
     ]
    }
   ],
   "source": [
    "import importlib\n",
    "import src.flow.CoordinatesRetriever\n",
    "importlib.reload(src.flow.CoordinatesRetriever) \n",
    "from src.flow.CoordinatesRetriever import CoordinatesRetriever\n",
    "\n",
    "coordinates_retriever = CoordinatesRetriever('gpt-4o-mini')\n",
    "coordinates_list = coordinates_retriever.extract_coordinates_from_text(publication_text)\n",
    "coordinates_list"
   ]
  },
  {
   "cell_type": "code",
   "execution_count": 3,
   "id": "1470a6d360b04c58",
   "metadata": {
    "ExecuteTime": {
     "end_time": "2024-09-08T19:40:44.919674Z",
     "start_time": "2024-09-08T19:40:39.843638Z"
    }
   },
   "outputs": [
    {
     "name": "stdout",
     "output_type": "stream",
     "text": [
      "The following sentences from the publication are relevant to the genomic coordinates chr10:23508365A>G and chr10:23508446A>C:\n",
      "\n",
      "1. \"We also identified a homozygous mutation in one patient with pancreatic agenesis and intrahepatic cholestatic failure.\"\n",
      "2. \"Of the 10 probands with mutations in this element, 6 had the same chr10:23508437A>G mutation as part of a shared extended haplotype (minimal shared haplotype of 1.2Mb).\"\n",
      "3. \"Three of the remaining probands had different base substitution mutations: a homozygous chr10:23508363A>G mutation, a homozygous chr10:23508305A>G mutation and compound heterozygous chr10:23508365A>G/chr10:23508446A>C mutations.\"\n",
      "4. \"Testing of parents and siblings demonstrated co-segregation of the mutations with diabetes and exocrine insufficiency.\"\n",
      "\n",
      "These sentences provide context about the specific mutations at the given coordinates, their occurrence in patients with pancreatic agenesis, and the analysis of genetic inheritance related to these mutations.\n"
     ]
    }
   ],
   "source": [
    "from src.ContextExtractionService import ContextExtractionService\n",
    "\n",
    "context_extraction_service = ContextExtractionService('gpt-4o-mini')\n",
    "coordinate = coordinates_list[3]\n",
    "coordinate_context = context_extraction_service.extract_context_from_coordinate(publication_text, coordinate)\n",
    "print(coordinate_context)"
   ]
  },
  {
   "cell_type": "code",
   "execution_count": 5,
   "id": "815937bce9a4e40f",
   "metadata": {
    "ExecuteTime": {
     "end_time": "2024-09-08T19:41:18.629658Z",
     "start_time": "2024-09-08T19:41:14.981553Z"
    }
   },
   "outputs": [
    {
     "name": "stderr",
     "output_type": "stream",
     "text": [
      "Asking to truncate to max_length but no maximum length is provided and the model has no predefined maximum length. Default to no truncation.\n"
     ]
    },
    {
     "name": "stdout",
     "output_type": "stream",
     "text": [
      "```json\n",
      "{\"name\": \"minus_1_frameshift_variant\", \"definition\": \"\\\"A sequence variant which causes a disruption of the translational reading frame, by shifting one base ahead.\\\" [http://arjournals.annualreviews.org/doi/pdf/10.1146/annurev.ge.08.120174.001535]\", \"comment\": null, \"_distance\": 156.83042907714844}\n",
      "```\n"
     ]
    }
   ],
   "source": [
    "import importlib\n",
    "import src.SequenceOntologyMappingService  # Initial import\n",
    "importlib.reload(src.SequenceOntologyMappingService)  # Reload the module\n",
    "from src.SequenceOntologyMappingService import SequenceOntologyMappingService  # Re-import the class\n",
    "\n",
    "sequence_ontology_mapping_service = SequenceOntologyMappingService('gpt-4o-mini')\n",
    "sequence_ontology_term = sequence_ontology_mapping_service.map_coordinates_to_sequence_ontology(coordinate, coordinate_context)\n",
    "print(sequence_ontology_term)"
   ]
  },
  {
   "cell_type": "code",
   "execution_count": 17,
   "id": "5b73571fa7dc4ddd",
   "metadata": {
    "ExecuteTime": {
     "end_time": "2024-09-08T19:52:46.565362Z",
     "start_time": "2024-09-08T19:52:41.600791Z"
    }
   },
   "outputs": [
    {
     "name": "stdout",
     "output_type": "stream",
     "text": [
      "Link between type of variant and frameshift: False. Type of relation is RELATION_TYPE  . Reasoning: The context indicates that the mutations listed (including chr10:23508365A>G and chr10:23508446A>C) do not specifically refer to a frameshift variant. Instead, the provided sequence ontology describes a \"minus_1_frameshift_variant,\" which is a specific type of sequence variant that disrupts the translational reading frame. There is no direct evidence in the context provided that links the user value \"frameshift\" specifically to the mentioned coordinates as a confirmed type of variant.\n"
     ]
    }
   ],
   "source": [
    "import src.LinksFromQueryExtractionService\n",
    "importlib.reload(src.LinksFromQueryExtractionService)\n",
    "from src.LinksFromQueryExtractionService import LinksFromQueryExtractionService\n",
    "\n",
    "links_from_query_extraction_service = LinksFromQueryExtractionService('gpt-4o-mini')\n",
    "user_query_dict = {'type of variant': 'frameshift'}\n",
    "links = links_from_query_extraction_service.extract_links_from_query(coordinate, coordinate_context, sequence_ontology_term, user_query_dict)"
   ]
  },
  {
   "cell_type": "code",
   "execution_count": 10,
   "id": "65f4db2545bdb537",
   "metadata": {
    "ExecuteTime": {
     "end_time": "2024-09-08T19:47:48.462044Z",
     "start_time": "2024-09-08T19:47:48.458440Z"
    }
   },
   "outputs": [
    {
     "data": {
      "text/plain": [
       "'The following sentences from the publication are relevant to the genomic coordinates chr10:23508365A>G and chr10:23508446A>C:\\n\\n1. \"We also identified a homozygous mutation in one patient with pancreatic agenesis and intrahepatic cholestatic failure.\"\\n2. \"Of the 10 probands with mutations in this element, 6 had the same chr10:23508437A>G mutation as part of a shared extended haplotype (minimal shared haplotype of 1.2Mb).\"\\n3. \"Three of the remaining probands had different base substitution mutations: a homozygous chr10:23508363A>G mutation, a homozygous chr10:23508305A>G mutation and compound heterozygous chr10:23508365A>G/chr10:23508446A>C mutations.\"\\n4. \"Testing of parents and siblings demonstrated co-segregation of the mutations with diabetes and exocrine insufficiency.\"\\n\\nThese sentences provide context about the specific mutations at the given coordinates, their occurrence in patients with pancreatic agenesis, and the analysis of genetic inheritance related to these mutations.'"
      ]
     },
     "execution_count": 10,
     "metadata": {},
     "output_type": "execute_result"
    }
   ],
   "source": [
    "coordinate_context"
   ]
  },
  {
   "cell_type": "code",
   "execution_count": null,
   "id": "8ed7143c06d8c1e1",
   "metadata": {},
   "outputs": [],
   "source": []
  }
 ],
 "metadata": {
  "kernelspec": {
   "display_name": "Python 3 (ipykernel)",
   "language": "python",
   "name": "python3"
  },
  "language_info": {
   "codemirror_mode": {
    "name": "ipython",
    "version": 3
   },
   "file_extension": ".py",
   "mimetype": "text/x-python",
   "name": "python",
   "nbconvert_exporter": "python",
   "pygments_lexer": "ipython3",
   "version": "3.12.7"
  }
 },
 "nbformat": 4,
 "nbformat_minor": 5
}
