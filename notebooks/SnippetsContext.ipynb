{
 "cells": [
  {
   "cell_type": "markdown",
   "metadata": {},
   "source": [
    "1. Get diverse genomic coordinates from file example_variants_HGVS.txt (divided by newlines)\n",
    "2. Generate a list of pubmed ids and acceptable formats of occurence in text for the given coordinates\n",
    "3. Get these publications from pubmed\n",
    "4. Get snippets of text from pubmed articles with given coordinates (the sentences that contain the coordinates and the surrounding 2 sentences to the left and surrounding 2 sentences to the right)\n",
    "5. Save the snippets to a file\n",
    "\n"
   ]
  },
  {
   "cell_type": "code",
   "execution_count": null,
   "metadata": {},
   "outputs": [],
   "source": []
  }
 ],
 "metadata": {
  "kernelspec": {
   "display_name": "coordinates-agent",
   "language": "python",
   "name": "python3"
  },
  "language_info": {
   "name": "python",
   "version": "3.12.7"
  }
 },
 "nbformat": 4,
 "nbformat_minor": 2
}
