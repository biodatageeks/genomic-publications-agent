{
 "cells": [
  {
   "cell_type": "code",
   "execution_count": 1,
   "id": "50327de0-144b-4019-a5b0-72ba84148530",
   "metadata": {},
   "outputs": [
    {
     "name": "stdout",
     "output_type": "stream",
     "text": [
      "Requirement already satisfied: pandas in /home/wojtek/anaconda3/envs/enhancerlit/lib/python3.11/site-packages (2.2.2)\n",
      "Requirement already satisfied: numpy>=1.23.2 in /home/wojtek/anaconda3/envs/enhancerlit/lib/python3.11/site-packages (from pandas) (1.26.4)\n",
      "Requirement already satisfied: python-dateutil>=2.8.2 in /home/wojtek/anaconda3/envs/enhancerlit/lib/python3.11/site-packages (from pandas) (2.9.0.post0)\n",
      "Requirement already satisfied: pytz>=2020.1 in /home/wojtek/anaconda3/envs/enhancerlit/lib/python3.11/site-packages (from pandas) (2024.1)\n",
      "Requirement already satisfied: tzdata>=2022.7 in /home/wojtek/anaconda3/envs/enhancerlit/lib/python3.11/site-packages (from pandas) (2024.1)\n",
      "Requirement already satisfied: six>=1.5 in /home/wojtek/anaconda3/envs/enhancerlit/lib/python3.11/site-packages (from python-dateutil>=2.8.2->pandas) (1.16.0)\n",
      "Note: you may need to restart the kernel to use updated packages.\n"
     ]
    }
   ],
   "source": [
    "pip install pandas"
   ]
  },
  {
   "cell_type": "code",
   "id": "93fdace3-ad1a-4650-8077-a73415c92349",
   "metadata": {
    "ExecuteTime": {
     "end_time": "2024-07-29T07:26:31.552788Z",
     "start_time": "2024-07-29T07:26:31.199870Z"
    }
   },
   "source": [
    "import requests\n",
    "from xml.etree import ElementTree\n",
    "import pandas as pd\n",
    "\n",
    "def pubmed_search(query, retmax=10):\n",
    "    base_url = \"https://eutils.ncbi.nlm.nih.gov/entrez/eutils/esearch.fcgi\"\n",
    "    params = {\n",
    "        \"db\": \"pubmed\",\n",
    "        \"term\": query,\n",
    "        \"retmode\": \"xml\",\n",
    "        \"retmax\": retmax\n",
    "    }\n",
    "    \n",
    "    response = requests.get(base_url, params=params)\n",
    "    response.raise_for_status()\n",
    "    \n",
    "    tree = ElementTree.fromstring(response.content)\n",
    "    ids = [id_elem.text for id_elem in tree.findall(\".//Id\")]\n",
    "    \n",
    "    return ids\n",
    "\n",
    "def fetch_details(id_list):\n",
    "    base_url = \"https://eutils.ncbi.nlm.nih.gov/entrez/eutils/efetch.fcgi\"\n",
    "    ids = \",\".join(id_list)\n",
    "    params = {\n",
    "        \"db\": \"pubmed\",\n",
    "        \"id\": ids,\n",
    "        \"retmode\": \"xml\",\n",
    "        \"rettype\": \"abstract\"\n",
    "    }\n",
    "    \n",
    "    response = requests.get(base_url, params=params)\n",
    "    response.raise_for_status()\n",
    "    \n",
    "    return response.content"
   ],
   "outputs": [],
   "execution_count": 1
  },
  {
   "cell_type": "code",
   "id": "424e46d1-3d77-46a2-9838-8aee4ddfbda1",
   "metadata": {
    "ExecuteTime": {
     "end_time": "2024-07-29T07:26:31.558342Z",
     "start_time": "2024-07-29T07:26:31.553764Z"
    }
   },
   "source": [
    "def preprocess_details_to_dataframe(xml_data):\n",
    "    tree = ElementTree.fromstring(xml_data)\n",
    "    articles = []\n",
    "\n",
    "    for article in tree.findall(\".//PubmedArticle\"):\n",
    "        article_data = {}\n",
    "        \n",
    "        # Extracting the title\n",
    "        title_elem = article.find(\".//ArticleTitle\")\n",
    "        article_data['Title'] = title_elem.text if title_elem is not None else \"N/A\"\n",
    "        \n",
    "        # Extracting the authors\n",
    "        authors = []\n",
    "        for author in article.findall(\".//Author\"):\n",
    "            last_name = author.find(\"LastName\")\n",
    "            fore_name = author.find(\"ForeName\")\n",
    "            if last_name is not None and fore_name is not None:\n",
    "                authors.append(f\"{fore_name.text} {last_name.text}\")\n",
    "        article_data['Authors'] = \", \".join(authors) if authors else \"N/A\"\n",
    "        \n",
    "        # Extracting the journal name\n",
    "        journal_elem = article.find(\".//Journal/Title\")\n",
    "        article_data['Journal'] = journal_elem.text if journal_elem is not None else \"N/A\"\n",
    "        \n",
    "        # Extracting the publication date\n",
    "        pub_date_elem = article.find(\".//PubDate\")\n",
    "        if pub_date_elem is not None:\n",
    "            year_elem = pub_date_elem.find(\"Year\")\n",
    "            month_elem = pub_date_elem.find(\"Month\")\n",
    "            day_elem = pub_date_elem.find(\"Day\")\n",
    "            pub_date = f\"{year_elem.text if year_elem is not None else ''}-{month_elem.text if month_elem is not None else ''}-{day_elem.text if day_elem is not None else ''}\"\n",
    "            article_data['Publication Date'] = pub_date\n",
    "        else:\n",
    "            article_data['Publication Date'] = \"N/A\"\n",
    "        \n",
    "        # Extracting the abstract\n",
    "        abstract_elem = article.find(\".//Abstract/AbstractText\")\n",
    "        article_data['Abstract'] = abstract_elem.text if abstract_elem is not None else \"N/A\"\n",
    "        \n",
    "        articles.append(article_data)\n",
    "\n",
    "    df = pd.DataFrame(articles)\n",
    "    return df"
   ],
   "outputs": [],
   "execution_count": 2
  },
  {
   "cell_type": "code",
   "id": "ca323139-6c36-438b-b6fa-7fe74e8248d9",
   "metadata": {
    "ExecuteTime": {
     "end_time": "2024-07-29T07:26:31.580753Z",
     "start_time": "2024-07-29T07:26:31.559192Z"
    }
   },
   "source": [
    "def fetch_full_text(pmc_id):\n",
    "    base_url = \"https://eutils.ncbi.nlm.nih.gov/entrez/eutils/efetch.fcgi\"\n",
    "    params = {\n",
    "        \"db\": \"pmc\",\n",
    "        \"id\": pmc_id,\n",
    "        \"retmode\": \"xml\"\n",
    "    }\n",
    "    \n",
    "    response = requests.get(base_url, params=params)\n",
    "    response.raise_for_status()\n",
    "    \n",
    "    return response.content"
   ],
   "outputs": [],
   "execution_count": 3
  },
  {
   "cell_type": "code",
   "id": "63201f21-301c-4c78-b878-f0d21c2862ac",
   "metadata": {
    "ExecuteTime": {
     "end_time": "2024-07-29T07:26:31.602539Z",
     "start_time": "2024-07-29T07:26:31.582932Z"
    }
   },
   "source": [
    "def preprocess_full_text_to_plain_text(xml_data):\n",
    "    tree = ElementTree.fromstring(xml_data)\n",
    "    text_content = []\n",
    "\n",
    "    # Extract text from <body> element of the article\n",
    "    body_elem = tree.find(\".//body\")\n",
    "    if body_elem is not None:\n",
    "        for elem in body_elem.iter():\n",
    "            if elem.text:\n",
    "                text_content.append(elem.text.strip())\n",
    "            if elem.tail:\n",
    "                text_content.append(elem.tail.strip())\n",
    "    \n",
    "    plain_text = \"\\n\".join(text_content)\n",
    "    return plain_text"
   ],
   "outputs": [],
   "execution_count": 4
  },
  {
   "cell_type": "code",
   "id": "d16363c4-02c6-4cac-8a78-7093d2a3ec72",
   "metadata": {
    "ExecuteTime": {
     "end_time": "2024-07-29T07:26:31.613978Z",
     "start_time": "2024-07-29T07:26:31.603492Z"
    }
   },
   "source": [
    "def fetch_text_from_pubmed_id(id):\n",
    "    # Convert PubMed ID to PMC ID using eLink\n",
    "    elink_base_url = \"https://eutils.ncbi.nlm.nih.gov/entrez/eutils/elink.fcgi\"\n",
    "    elink_params = {\n",
    "        \"dbfrom\": \"pubmed\",\n",
    "        \"db\": \"pmc\",\n",
    "        \"id\": id,\n",
    "        \"retmode\": \"xml\"\n",
    "    }\n",
    "    \n",
    "    elink_response = requests.get(elink_base_url, params=elink_params)\n",
    "    elink_response.raise_for_status()\n",
    "    \n",
    "    elink_tree = ElementTree.fromstring(elink_response.content)\n",
    "    pmc_id_elem = elink_tree.find(\".//LinkSetDb/Link/Id\")\n",
    "    if pmc_id_elem is not None:\n",
    "        pmc_id = pmc_id_elem.text\n",
    "        full_text_xml = fetch_full_text(pmc_id)\n",
    "        plain_text = preprocess_full_text_to_plain_text(full_text_xml)\n",
    "        return plain_text\n",
    "    else:\n",
    "        print(\"Full text not available in PMC for this article.\")\n",
    "        # Return the abstract instead\n",
    "        abstract = df.loc[df['Title'] == df.iloc[0]['Title'], 'Abstract'].values[0]\n",
    "        return abstract"
   ],
   "outputs": [],
   "execution_count": 5
  },
  {
   "cell_type": "code",
   "id": "bcf2f969-2003-4b20-ad7c-a0b93bdecb6e",
   "metadata": {
    "ExecuteTime": {
     "end_time": "2024-07-29T07:26:31.625319Z",
     "start_time": "2024-07-29T07:26:31.615176Z"
    }
   },
   "source": [
    "def fetch_articles_from_query(query):\n",
    "    ids = pubmed_search(query, retmax=10)  # You can adjust retmax to get more results\n",
    "    \n",
    "    if ids:\n",
    "        details = fetch_details(ids)\n",
    "        df = preprocess_details_to_dataframe(details)\n",
    "\n",
    "        return df, ids\n",
    "    else:\n",
    "        print(\"No results found\")\n",
    "        return None, None"
   ],
   "outputs": [],
   "execution_count": 6
  },
  {
   "cell_type": "code",
   "execution_count": 7,
   "id": "5157cd5e-ec40-41bf-9c7c-1cadd0406484",
   "metadata": {},
   "outputs": [],
   "source": [
    "# \"de Kok et al. 1996;\n",
    "# Ahn et al. 2009; Naranjo et al. 2010\"\n",
    "query = \"pou3f4 Kok AND 1996[dp]\"\n",
    "df, ids = fetch_articles_from_query(query)"
   ]
  },
  {
   "cell_type": "code",
   "execution_count": 8,
   "id": "a7ed2b30-7572-4eeb-bcb1-763c62671891",
   "metadata": {},
   "outputs": [],
   "source": [
    "pd.set_option('display.max_rows', None)  # Show all rows\n",
    "pd.set_option('display.max_columns', None)  # Show all columns\n",
    "pd.set_option('display.max_colwidth', None)  # Show full content of each column\n",
    "pd.set_option('display.width', None)  # Set the display width to be unlimited"
   ]
  },
  {
   "cell_type": "code",
   "execution_count": 9,
   "id": "7e8653fd-7a7e-4e8b-af9c-9f244ce35bc4",
   "metadata": {},
   "outputs": [
    {
     "data": {
      "text/html": [
       "<div>\n",
       "<style scoped>\n",
       "    .dataframe tbody tr th:only-of-type {\n",
       "        vertical-align: middle;\n",
       "    }\n",
       "\n",
       "    .dataframe tbody tr th {\n",
       "        vertical-align: top;\n",
       "    }\n",
       "\n",
       "    .dataframe thead th {\n",
       "        text-align: right;\n",
       "    }\n",
       "</style>\n",
       "<table border=\"1\" class=\"dataframe\">\n",
       "  <thead>\n",
       "    <tr style=\"text-align: right;\">\n",
       "      <th></th>\n",
       "      <th>Title</th>\n",
       "      <th>Authors</th>\n",
       "      <th>Journal</th>\n",
       "      <th>Publication Date</th>\n",
       "      <th>Abstract</th>\n",
       "    </tr>\n",
       "  </thead>\n",
       "  <tbody>\n",
       "    <tr>\n",
       "      <th>0</th>\n",
       "      <td>Identification of a hot spot for microdeletions in patients with X-linked deafness type 3 (DFN3) 900 kb proximal to the DFN3 gene POU3F4.</td>\n",
       "      <td>Y J de Kok, E R Vossenaar, C W Cremers, N Dahl, J Laporte, L J Hu, D Lacombe, N Fischel-Ghodsian, R A Friedman, L S Parnes, P Thorpe, M Bitner-Glindzicz, H J Pander, H Heilbronner, J Graveline, J T den Dunnen, H G Brunner, H H Ropers, F P Cremers</td>\n",
       "      <td>Human molecular genetics</td>\n",
       "      <td>1996-Sep-</td>\n",
       "      <td>Small mutations in the POU domain gene POU3F4 were recently shown to cause X-linked deafness type 3 (DFN3) in nine unrelated males. The POU3F4 gene was found to be located outside four of five deletions associated with DFN3. Two of these deletions were situated more than 400 kb proximal to POU3F4. Employing PCR analysis of sequence tagged sites from this region we initially identified novel deletions in two DFN3 patients. To investigate this chromosomal segment in more detail, we extended a previously established 850 kb cosmid contig in the centromeric direction to a total size of 1500 kb. Cosmids from this contig were hybridized to DNA of 11 unrelated males with DFN3. In two patients, we identified deletions encompassing the POU3F4 gene and variably sized segments of Xq21.1. In six of the nine remaining patients which lacked mutations in the POU3F4 gene, smaller deletions were identified which, with one exception, overlap in a 8 kb segment 900 kb proximal to the POU3F4 gene. In one patient, we identified several small deletions in the vicinity of the 8 kb DNA segment. Together, deletions account for 56% (13/23) of all known DFN3 mutations, most (10/13) of which do not encompass the POU3F4 gene. The combined molecular data suggest that the deletion hot spot region in Xq21.1 contains another DFN3 gene or, alternatively, a sequence element involved in transcriptional regulation of POU3F4.</td>\n",
       "    </tr>\n",
       "  </tbody>\n",
       "</table>\n",
       "</div>"
      ],
      "text/plain": [
       "                                                                                                                                       Title  \\\n",
       "0  Identification of a hot spot for microdeletions in patients with X-linked deafness type 3 (DFN3) 900 kb proximal to the DFN3 gene POU3F4.   \n",
       "\n",
       "                                                                                                                                                                                                                                                  Authors  \\\n",
       "0  Y J de Kok, E R Vossenaar, C W Cremers, N Dahl, J Laporte, L J Hu, D Lacombe, N Fischel-Ghodsian, R A Friedman, L S Parnes, P Thorpe, M Bitner-Glindzicz, H J Pander, H Heilbronner, J Graveline, J T den Dunnen, H G Brunner, H H Ropers, F P Cremers   \n",
       "\n",
       "                    Journal Publication Date  \\\n",
       "0  Human molecular genetics        1996-Sep-   \n",
       "\n",
       "                                                                                                                                                                                                                                                                                                                                                                                                                                                                                                                                                                                                                                                                                                                                                                                                                                                                                                                                                                                                                                                                                                                                                                                                                                                                                                                                                                                                                                                            Abstract  \n",
       "0  Small mutations in the POU domain gene POU3F4 were recently shown to cause X-linked deafness type 3 (DFN3) in nine unrelated males. The POU3F4 gene was found to be located outside four of five deletions associated with DFN3. Two of these deletions were situated more than 400 kb proximal to POU3F4. Employing PCR analysis of sequence tagged sites from this region we initially identified novel deletions in two DFN3 patients. To investigate this chromosomal segment in more detail, we extended a previously established 850 kb cosmid contig in the centromeric direction to a total size of 1500 kb. Cosmids from this contig were hybridized to DNA of 11 unrelated males with DFN3. In two patients, we identified deletions encompassing the POU3F4 gene and variably sized segments of Xq21.1. In six of the nine remaining patients which lacked mutations in the POU3F4 gene, smaller deletions were identified which, with one exception, overlap in a 8 kb segment 900 kb proximal to the POU3F4 gene. In one patient, we identified several small deletions in the vicinity of the 8 kb DNA segment. Together, deletions account for 56% (13/23) of all known DFN3 mutations, most (10/13) of which do not encompass the POU3F4 gene. The combined molecular data suggest that the deletion hot spot region in Xq21.1 contains another DFN3 gene or, alternatively, a sequence element involved in transcriptional regulation of POU3F4.  "
      ]
     },
     "execution_count": 9,
     "metadata": {},
     "output_type": "execute_result"
    }
   ],
   "source": [
    "df"
   ]
  },
  {
   "cell_type": "code",
   "execution_count": 10,
   "id": "4eb626bd-18b7-4d59-9c4f-df2bb10eac31",
   "metadata": {},
   "outputs": [
    {
     "data": {
      "text/plain": [
       "'\\n\\n\\n\\nIntroduction\\n\\nThe genetic basis for multiple Mendelian conditions was initially identified by studying individuals harboring chromosomal translocations, which provided a signpost for where in the genome a gene was disrupted. It quickly became apparent that many of these chromosomal translocations did not disrupt coding sequence, but rather disrupted the positioning of coding sequence relative to a distal regulatory element or gene promoter (Vortkamp et al.\\n\\n1991\\n; Wallis et al.\\n1999\\n; Fang et al.\\n2000\\n; Crisponi et al.\\n2001\\n). These initial studies helped establish that non-coding genetic variation can cause numerous Mendelian conditions, and work over the past several decades has solidified the central role of non-coding genetic variation in the pathogenesis of hundreds of Mendelian conditions.\\nIn this review, we compiled hundreds of non-coding genetic variants from ClinVar and the literature that cause rare human diseases via the disruption of gene regulatory patterns. In doing s'"
      ]
     },
     "execution_count": 10,
     "metadata": {},
     "output_type": "execute_result"
    }
   ],
   "source": [
    "text = fetch_text_from_pubmed_id(ids[0])\n",
    "text[:1000]"
   ]
  },
  {
   "cell_type": "code",
   "execution_count": 11,
   "id": "a5a3ca07-154b-4cce-b588-6c6ab9805718",
   "metadata": {},
   "outputs": [
    {
     "data": {
      "text/html": [
       "<div>\n",
       "<style scoped>\n",
       "    .dataframe tbody tr th:only-of-type {\n",
       "        vertical-align: middle;\n",
       "    }\n",
       "\n",
       "    .dataframe tbody tr th {\n",
       "        vertical-align: top;\n",
       "    }\n",
       "\n",
       "    .dataframe thead th {\n",
       "        text-align: right;\n",
       "    }\n",
       "</style>\n",
       "<table border=\"1\" class=\"dataframe\">\n",
       "  <thead>\n",
       "    <tr style=\"text-align: right;\">\n",
       "      <th></th>\n",
       "      <th>Title</th>\n",
       "      <th>Authors</th>\n",
       "      <th>Journal</th>\n",
       "      <th>Publication Date</th>\n",
       "      <th>Abstract</th>\n",
       "    </tr>\n",
       "  </thead>\n",
       "  <tbody>\n",
       "    <tr>\n",
       "      <th>0</th>\n",
       "      <td>Characterization of new otic enhancers of the pou3f4 gene reveal distinct signaling pathway regulation and spatio-temporal patterns.</td>\n",
       "      <td>Àlex Robert-Moreno, Silvia Naranjo, Elisa de la Calle-Mustienes, José Luis Gómez-Skarmeta, Berta Alsina</td>\n",
       "      <td>PloS one</td>\n",
       "      <td>2010-Dec-31</td>\n",
       "      <td>POU3F4 is a member of the POU-homedomain transcription factor family with a prominent role in inner ear development. Mutations in the human POU3F4 coding unit leads to X-linked deafness type 3 (DFN3), characterized by conductive hearing loss and progressive sensorineural deafness. Microdeletions found 1 Mb 5' upstream of the coding region also displayed the same phenotype, suggesting that cis-regulatory elements might be present in that region. Indeed, we and others have recently identified several enhancers at the 1 Mb 5' upstream interval of the pou3f4 locus. Here we characterize the spatio-temporal patterns of these regulatory elements in zebrafish transgenic lines. We show that the most distal enhancer (HCNR 81675) is activated earlier and drives GFP reporter expression initially to a broad ear domain to progressively restrict to the sensory patches. The proximal enhancer (HCNR 82478) is switched later during development and promotes expression, among in other tissues, in sensory patches from its onset. The third enhancer (HCNR 81728) is also active at later stages in the otic mesenchyme and in the otic epithelium. We also characterize the signaling pathways regulating these enhancers. While HCNR 81675 is regulated by very early signals of retinoic acid, HCNR 82478 is regulated by Fgf activity at a later stage and the HCNR 81728 enhancer is under the control of Hh signaling. Finally, we show that Sox2 and Pax2 transcription factors are bound to HCNR 81675 genomic region during otic development and specific mutations to these transcription factor binding sites abrogates HCNR 81675 enhancer activity. Altogether, our results suggest that pou3f4 expression in inner ear might be under the control of distinct regulatory elements that fine-tune the spatio-temporal activity of this gene and provides novel data on the signaling mechanisms controlling pou3f4 function.</td>\n",
       "    </tr>\n",
       "    <tr>\n",
       "      <th>1</th>\n",
       "      <td>Multiple enhancers located in a 1-Mb region upstream of POU3F4 promote expression during inner ear development and may be required for hearing.</td>\n",
       "      <td>Silvia Naranjo, Krysta Voesenek, Elisa de la Calle-Mustienes, Alex Robert-Moreno, Haris Kokotas, Maria Grigoriadou, John Economides, Guy Van Camp, Nele Hilgert, Felipe Moreno, Berta Alsina, Michael B Petersen, Hannie Kremer, José Luis Gómez-Skarmeta</td>\n",
       "      <td>Human genetics</td>\n",
       "      <td>2010-Oct-</td>\n",
       "      <td>POU3F4 encodes a POU-domain transcription factor required for inner ear development. Defects in POU3F4 function are associated with X-linked deafness type 3 (DFN3). Multiple deletions affecting up to ~900-kb upstream of POU3F4 are found in DFN3 patients, suggesting the presence of essential POU3F4 enhancers in this region. Recently, an inner ear enhancer was reported that is absent in most DFN3 patients with upstream deletions. However, two indications suggest that additional enhancers in the POU3F4 upstream region are required for POU3F4 function during inner ear development. First, there is at least one DFN3 deletion that does not eliminate the reported enhancer. Second, the expression pattern driven by this enhancer does not fully recapitulate Pou3f4 expression in the inner ear. Here, we screened a 1-Mb region upstream of the POU3F4 gene for additional cis-regulatory elements and searched for novel DFN3 mutations in the identified POU3F4 enhancers. We found several novel enhancers for otic vesicle expression. Some of these also drive expression in kidney, pancreas and brain, tissues that are known to express Pou3f4. In addition, we report a new and smallest deletion identified so far in a DFN3 family which eliminates 3.9 kb, comprising almost exclusively the previous reported inner ear enhancer. We suggest that multiple enhancers control the expression of Pou3f4 in the inner ear and these may contribute to the phenotype observed in DFN3 patients. In addition, the novel deletion demonstrates that the previous reported enhancer, although not sufficient, is essential for POU3F4 function during inner ear development.</td>\n",
       "    </tr>\n",
       "  </tbody>\n",
       "</table>\n",
       "</div>"
      ],
      "text/plain": [
       "                                                                                                                                             Title  \\\n",
       "0             Characterization of new otic enhancers of the pou3f4 gene reveal distinct signaling pathway regulation and spatio-temporal patterns.   \n",
       "1  Multiple enhancers located in a 1-Mb region upstream of POU3F4 promote expression during inner ear development and may be required for hearing.   \n",
       "\n",
       "                                                                                                                                                                                                                                                     Authors  \\\n",
       "0                                                                                                                                                    Àlex Robert-Moreno, Silvia Naranjo, Elisa de la Calle-Mustienes, José Luis Gómez-Skarmeta, Berta Alsina   \n",
       "1  Silvia Naranjo, Krysta Voesenek, Elisa de la Calle-Mustienes, Alex Robert-Moreno, Haris Kokotas, Maria Grigoriadou, John Economides, Guy Van Camp, Nele Hilgert, Felipe Moreno, Berta Alsina, Michael B Petersen, Hannie Kremer, José Luis Gómez-Skarmeta   \n",
       "\n",
       "          Journal Publication Date  \\\n",
       "0        PloS one      2010-Dec-31   \n",
       "1  Human genetics        2010-Oct-   \n",
       "\n",
       "                                                                                                                                                                                                                                                                                                                                                                                                                                                                                                                                                                                                                                                                                                                                                                                                                                                                                                                                                                                                                                                                                                                                                                                                                                                                                                                                                                                                                                                                                                                                                                                                                                                                                                                                                                                                                                                                                                                                                                 Abstract  \n",
       "0  POU3F4 is a member of the POU-homedomain transcription factor family with a prominent role in inner ear development. Mutations in the human POU3F4 coding unit leads to X-linked deafness type 3 (DFN3), characterized by conductive hearing loss and progressive sensorineural deafness. Microdeletions found 1 Mb 5' upstream of the coding region also displayed the same phenotype, suggesting that cis-regulatory elements might be present in that region. Indeed, we and others have recently identified several enhancers at the 1 Mb 5' upstream interval of the pou3f4 locus. Here we characterize the spatio-temporal patterns of these regulatory elements in zebrafish transgenic lines. We show that the most distal enhancer (HCNR 81675) is activated earlier and drives GFP reporter expression initially to a broad ear domain to progressively restrict to the sensory patches. The proximal enhancer (HCNR 82478) is switched later during development and promotes expression, among in other tissues, in sensory patches from its onset. The third enhancer (HCNR 81728) is also active at later stages in the otic mesenchyme and in the otic epithelium. We also characterize the signaling pathways regulating these enhancers. While HCNR 81675 is regulated by very early signals of retinoic acid, HCNR 82478 is regulated by Fgf activity at a later stage and the HCNR 81728 enhancer is under the control of Hh signaling. Finally, we show that Sox2 and Pax2 transcription factors are bound to HCNR 81675 genomic region during otic development and specific mutations to these transcription factor binding sites abrogates HCNR 81675 enhancer activity. Altogether, our results suggest that pou3f4 expression in inner ear might be under the control of distinct regulatory elements that fine-tune the spatio-temporal activity of this gene and provides novel data on the signaling mechanisms controlling pou3f4 function.  \n",
       "1                                                                                                                                                                                                                                                             POU3F4 encodes a POU-domain transcription factor required for inner ear development. Defects in POU3F4 function are associated with X-linked deafness type 3 (DFN3). Multiple deletions affecting up to ~900-kb upstream of POU3F4 are found in DFN3 patients, suggesting the presence of essential POU3F4 enhancers in this region. Recently, an inner ear enhancer was reported that is absent in most DFN3 patients with upstream deletions. However, two indications suggest that additional enhancers in the POU3F4 upstream region are required for POU3F4 function during inner ear development. First, there is at least one DFN3 deletion that does not eliminate the reported enhancer. Second, the expression pattern driven by this enhancer does not fully recapitulate Pou3f4 expression in the inner ear. Here, we screened a 1-Mb region upstream of the POU3F4 gene for additional cis-regulatory elements and searched for novel DFN3 mutations in the identified POU3F4 enhancers. We found several novel enhancers for otic vesicle expression. Some of these also drive expression in kidney, pancreas and brain, tissues that are known to express Pou3f4. In addition, we report a new and smallest deletion identified so far in a DFN3 family which eliminates 3.9 kb, comprising almost exclusively the previous reported inner ear enhancer. We suggest that multiple enhancers control the expression of Pou3f4 in the inner ear and these may contribute to the phenotype observed in DFN3 patients. In addition, the novel deletion demonstrates that the previous reported enhancer, although not sufficient, is essential for POU3F4 function during inner ear development.  "
      ]
     },
     "execution_count": 11,
     "metadata": {},
     "output_type": "execute_result"
    }
   ],
   "source": [
    "# \"de Kok et al. 1996;\n",
    "# Ahn et al. 2009; Naranjo et al. 2010\"\n",
    "query = \"pou3f4 Naranjo AND 2010[dp]\"\n",
    "prompt_df, ids = fetch_articles_from_query(query)\n",
    "prompt_df"
   ]
  },
  {
   "cell_type": "code",
   "execution_count": 12,
   "id": "489c53b7-0d1d-41ee-8a44-d9cbf1caa0f7",
   "metadata": {},
   "outputs": [
    {
     "data": {
      "text/html": [
       "<div>\n",
       "<style scoped>\n",
       "    .dataframe tbody tr th:only-of-type {\n",
       "        vertical-align: middle;\n",
       "    }\n",
       "\n",
       "    .dataframe tbody tr th {\n",
       "        vertical-align: top;\n",
       "    }\n",
       "\n",
       "    .dataframe thead th {\n",
       "        text-align: right;\n",
       "    }\n",
       "</style>\n",
       "<table border=\"1\" class=\"dataframe\">\n",
       "  <thead>\n",
       "    <tr style=\"text-align: right;\">\n",
       "      <th></th>\n",
       "      <th>Title</th>\n",
       "      <th>Authors</th>\n",
       "      <th>Journal</th>\n",
       "      <th>Publication Date</th>\n",
       "      <th>Abstract</th>\n",
       "    </tr>\n",
       "  </thead>\n",
       "  <tbody>\n",
       "    <tr>\n",
       "      <th>0</th>\n",
       "      <td>Otic mesenchyme expression of Cre recombinase directed by the inner ear enhancer of the Brn4/Pou3f4 gene.</td>\n",
       "      <td>Kyung J Ahn, Frank Passero, E Bryan Crenshaw</td>\n",
       "      <td>Genesis (New York, N.Y. : 2000)</td>\n",
       "      <td>2009-Mar-</td>\n",
       "      <td>Brn4/Pou3f4 is a POU-domain transcription factor expressed in the otic mesenchyme that is required for the normal development of the inner ear. In this report, we describe the isolation of an otic mesenchyme enhancer in the Brn4 gene. Subsequently, this enhancer was used to drive the expression of Cre recombinase in the otic mesenchyme of transgenic mice. When intercrossed with the ROSA reporter strain, R26R, ss-galactosidase expression is detected in several inner ear structures derived from otic mesenchyme, including the temporal bone, spiral ligament, spiral limbus, and mesenchyme underlying sensory epithelium of the utricle, saccule and semicircular canals. Thus, this Cre pedigree can induce conditional rearrangement of genes in the otic mesenchyme, and will serve as a powerful genetic tool to characterize the function of genes in the mesenchymal tissues of the inner ear.</td>\n",
       "    </tr>\n",
       "  </tbody>\n",
       "</table>\n",
       "</div>"
      ],
      "text/plain": [
       "                                                                                                       Title  \\\n",
       "0  Otic mesenchyme expression of Cre recombinase directed by the inner ear enhancer of the Brn4/Pou3f4 gene.   \n",
       "\n",
       "                                        Authors  \\\n",
       "0  Kyung J Ahn, Frank Passero, E Bryan Crenshaw   \n",
       "\n",
       "                           Journal Publication Date  \\\n",
       "0  Genesis (New York, N.Y. : 2000)        2009-Mar-   \n",
       "\n",
       "                                                                                                                                                                                                                                                                                                                                                                                                                                                                                                                                                                                                                                                                                                                                                                                                                                                                                                                   Abstract  \n",
       "0  Brn4/Pou3f4 is a POU-domain transcription factor expressed in the otic mesenchyme that is required for the normal development of the inner ear. In this report, we describe the isolation of an otic mesenchyme enhancer in the Brn4 gene. Subsequently, this enhancer was used to drive the expression of Cre recombinase in the otic mesenchyme of transgenic mice. When intercrossed with the ROSA reporter strain, R26R, ss-galactosidase expression is detected in several inner ear structures derived from otic mesenchyme, including the temporal bone, spiral ligament, spiral limbus, and mesenchyme underlying sensory epithelium of the utricle, saccule and semicircular canals. Thus, this Cre pedigree can induce conditional rearrangement of genes in the otic mesenchyme, and will serve as a powerful genetic tool to characterize the function of genes in the mesenchymal tissues of the inner ear.  "
      ]
     },
     "execution_count": 12,
     "metadata": {},
     "output_type": "execute_result"
    }
   ],
   "source": [
    "query = \"pou3f4 Ahn AND 2009[dp]\"\n",
    "prompt_df, ids = fetch_articles_from_query(query)\n",
    "prompt_df"
   ]
  },
  {
   "cell_type": "code",
   "id": "a749f6b2-4d09-49ec-bbff-af007587108b",
   "metadata": {
    "ExecuteTime": {
     "end_time": "2024-07-29T07:27:21.009019Z",
     "start_time": "2024-07-29T07:27:20.994168Z"
    }
   },
   "source": [
    "import pandas as pd\n",
    "import re\n",
    "\n",
    "# Load the CSV file into a pandas DataFrame\n",
    "file_path = '~/Documents/Badawcze/enhancerlit/enhancer_candidates.csv'\n",
    "df = pd.read_csv(file_path)\n",
    "\n",
    "# Function to create queries from the Literature column\n",
    "def create_queries(row):\n",
    "    gene_name = re.sub(r'[^a-zA-Z0-9]', '', row['Gene name'].lower())  # Remove non-alphanumeric characters\n",
    "    queries = []\n",
    "    if pd.notna(row['Literature']):\n",
    "        for ref in row['Literature'].split(';'):\n",
    "            ref = ref.strip()\n",
    "            parts = ref.split()\n",
    "            if len(parts) >= 3:\n",
    "                # Remove 'et al.' and 'i wsp.' from the author's name\n",
    "                if 'et' in parts and 'al.' in parts:\n",
    "                    etal_index = parts.index('et')\n",
    "                    first_author_surname = ' '.join(parts[:etal_index])\n",
    "                elif 'i' in parts and 'wsp.' in parts:\n",
    "                    iwsp_index = parts.index('i')\n",
    "                    first_author_surname = ' '.join(parts[:iwsp_index])\n",
    "                else:\n",
    "                    first_author_surname = ' '.join(parts[:-1])  # Include all parts except the last one as the surname\n",
    "                \n",
    "                year_of_publication = parts[-1].strip(';,')\n",
    "                query = f\"{gene_name} {first_author_surname} AND {year_of_publication}[dp]\"\n",
    "                queries.append(query)\n",
    "    return queries\n",
    "\n",
    "# Apply the function to each row in the DataFrame\n",
    "df['Queries'] = df.apply(create_queries, axis=1)\n",
    "\n",
    "# Extract the list of lists of queries\n",
    "list_of_queries = df['Queries'].tolist()"
   ],
   "outputs": [],
   "execution_count": 7
  },
  {
   "cell_type": "code",
   "id": "767c7dc3-7350-4220-ab87-be0e830dce19",
   "metadata": {
    "ExecuteTime": {
     "end_time": "2024-07-29T07:27:22.446052Z",
     "start_time": "2024-07-29T07:27:22.441773Z"
    }
   },
   "source": [
    "# Display the resulting list of lists of queries\n",
    "list_of_queries"
   ],
   "outputs": [
    {
     "data": {
      "text/plain": [
       "[['pou3f4 de Kok AND 1996[dp]',\n",
       "  'pou3f4 Ahn AND 2009[dp]',\n",
       "  'pou3f4 Naranjo AND 2010[dp]'],\n",
       " ['sost Balemans AND 2002[dp]', 'sost Loots AND 2005[dp]'],\n",
       " ['shox Sabherwal AND 2007[dp]',\n",
       "  'shox Fukami AND 2005[dp]',\n",
       "  'shox Benito-Sanz AND 2012[dp]'],\n",
       " ['nr0b1 Smyk AND 2007b[dp]'],\n",
       " ['sry McElreavy AND 1992[dp]',\n",
       "  'sry Capel AND 1993[dp]',\n",
       "  'sry McElreavy AND 1996[dp]',\n",
       "  'sry Sharp AND 2005[dp]'],\n",
       " ['hbb Driscoll AND 1989[dp]'],\n",
       " ['hba1hba2 Viprakasit AND 2006[dp]'],\n",
       " ['pitx2 Trembath AND 2004[dp]'],\n",
       " ['foxc1 Davies AND 1999[dp]'],\n",
       " ['foxl2 Beysen AND 2005[dp]', \"foxl2 D'haene AND 2009[dp]\"],\n",
       " ['sox9 Benko AND 2009[dp]',\n",
       "  'sox9 Fukami AND 2012[dp]',\n",
       "  'sox9 Sanchez-Castro AND 2013[dp]'],\n",
       " ['sox9 Kim AND 2015[dp]'],\n",
       " ['pitx2 Volkmann AND 2011[dp]'],\n",
       " ['atoh7 Ghiasvand AND 2011[dp]'],\n",
       " ['dlx6dlx5 Brown AND 2010[dp]'],\n",
       " ['dlx6dlx5 Tayebi AND 2014[dp]'],\n",
       " ['pax6 Wawrocka AND 2012[dp]'],\n",
       " ['foxg1 Allou AND 2012[dp]'],\n",
       " ['foxf1 Szafranski AND 2013[dp]'],\n",
       " ['nr0b1 Skinningsrud AND 2009[dp]'],\n",
       " ['hbb Kioussis AND 1983[dp]'],\n",
       " ['pax6 Fantes AND 1995[dp]', 'pax6 Kleinjan AND 2001[dp]'],\n",
       " ['twist Cai AND 2003[dp]'],\n",
       " ['pitx2 Flomen AND 1997[dp]'],\n",
       " ['pitx1 Spielmann AND 2012[dp]'],\n",
       " ['gli3 Vortkamp AND 1991[dp]'],\n",
       " ['maf Jamieson AND 2002[dp]'],\n",
       " ['foxc2 Fang AND 2000[dp]'],\n",
       " ['foxl2 Crisponi AND 2004[dp]'],\n",
       " ['foxp2 Scherer AND 2003[dp]'],\n",
       " ['tgfb2 David AND 2003[dp]'],\n",
       " ['sox9 Leipoldt AND 2007[dp]', 'sox9 Velagaleti AND 2005[dp]'],\n",
       " ['sox9 Benko AND 2009[dp]', 'sox9 Jakobsen AND 2007[dp]'],\n",
       " ['plp1 Muncke AND 2004[dp]'],\n",
       " ['alx4ext2 Wakui AND 2005[dp]'],\n",
       " ['satb2 FitzPatrick AND 2003[dp]'],\n",
       " ['sall1 Marlin AND 1999[dp]'],\n",
       " ['six3 Wallis AND 1999[dp]'],\n",
       " ['runx2 Fernandez AND 2005[dp]'],\n",
       " ['reep3 Castermans AND 2007[dp]'],\n",
       " ['sox3 Bowl AND 2005[dp]'],\n",
       " ['shh Roessler AND 1997[dp]', 'shh Fernandez AND 2005[dp]'],\n",
       " ['hoxd131 Spitz AND 2002[dp]', 'hoxd131 Dlugaszewska AND 2006[dp]'],\n",
       " ['dlx6dlx5 Brown AND 2010[dp]'],\n",
       " ['shh Lettice AND 2002[dp]'],\n",
       " ['lct Enattah AND 2002[dp]'],\n",
       " ['irf6 Rahimov AND 2008[dp]'],\n",
       " ['sox9 Benko AND 2009[dp]'],\n",
       " ['shh Jeong AND 2008[dp]'],\n",
       " ['shh Lettice AND 2012[dp]'],\n",
       " ['pax6 Bhatia AND 2013[dp]'],\n",
       " ['ptf1a Weedon AND 2014[dp]'],\n",
       " ['dlx6dlx5 Poitras AND 2010[dp]'],\n",
       " ['fgfr2 Leslie AND 2015[dp]'],\n",
       " ['hba1hba2 Tufarelli AND 2003[dp]'],\n",
       " ['msh2 Ligtenberg AND 2009[dp]'],\n",
       " ['hba1hba2 de Gobbi AND 2006[dp]'],\n",
       " ['dux4 Wijmenga AND 1992[dp]',\n",
       "  'dux4 van Deutekom AND 1993[dp]',\n",
       "  'dux4 Ottaviani AND 2009[dp]',\n",
       "  'dux4 Snider AND 2009[dp]'],\n",
       " ['shh Klopocki AND 2008[dp]', 'shh Sun M AND 2008[dp]'],\n",
       " ['sox9 Kim AND 2015[dp]', 'sox9 Hyon AND 2015[dp]'],\n",
       " ['plp1 Lee AND 2006[dp]'],\n",
       " ['ihh Klopocki AND 2011[dp]'],\n",
       " ['sox9 Kurth AND 2009[dp]'],\n",
       " ['bmp2 Dathe AND 2009[dp]', 'bmp2 Su AND 2011[dp]'],\n",
       " ['shh Klopocki AND 2008[dp]'],\n",
       " ['cyp19 Demura AND 2007[dp]'],\n",
       " ['myc Erikson AND 1983[dp]', 'myc Hayday AND 1984[dp]']]"
      ]
     },
     "execution_count": 8,
     "metadata": {},
     "output_type": "execute_result"
    }
   ],
   "execution_count": 8
  },
  {
   "cell_type": "code",
   "execution_count": 14,
   "id": "4d0d9dbd-5736-4d37-94b8-ce8990c4483d",
   "metadata": {},
   "outputs": [
    {
     "data": {
      "text/plain": [
       "['pou3f4 de Kok AND 1996[dp]',\n",
       " 'pou3f4 Ahn AND 2009[dp]',\n",
       " 'pou3f4 Naranjo AND 2010[dp]']"
      ]
     },
     "execution_count": 14,
     "metadata": {},
     "output_type": "execute_result"
    }
   ],
   "source": [
    "list_of_queries[0]"
   ]
  },
  {
   "cell_type": "code",
   "id": "bd6a1dcb-fb39-44c4-abd5-94b609aece7b",
   "metadata": {
    "ExecuteTime": {
     "end_time": "2024-07-29T07:27:38.716223Z",
     "start_time": "2024-07-29T07:27:38.713620Z"
    }
   },
   "source": [
    "research_id = 1"
   ],
   "outputs": [],
   "execution_count": 9
  },
  {
   "cell_type": "code",
   "id": "6c34993f-6607-49c7-8f8a-1ca24ccf9442",
   "metadata": {
    "ExecuteTime": {
     "end_time": "2024-07-29T07:27:43.787629Z",
     "start_time": "2024-07-29T07:27:39.353198Z"
    }
   },
   "source": [
    "ids_for_row_2d = [fetch_articles_from_query(q)[research_id] for q in list_of_queries[0]]\n",
    "# Flatten\n",
    "ids_for_row = [query for sublist in ids_for_row_2d for query in sublist]\n",
    "\n",
    "ids_for_row"
   ],
   "outputs": [
    {
     "data": {
      "text/plain": [
       "['8872461', '19217071', '21209840', '20668882']"
      ]
     },
     "execution_count": 10,
     "metadata": {},
     "output_type": "execute_result"
    }
   ],
   "execution_count": 10
  },
  {
   "cell_type": "code",
   "execution_count": 17,
   "id": "49383a5d-becf-4304-9497-e6e9d1b1bce9",
   "metadata": {},
   "outputs": [],
   "source": [
    "texts = [fetch_text_from_pubmed_id(id) for id in ids_for_row]"
   ]
  },
  {
   "cell_type": "code",
   "execution_count": null,
   "id": "4aa0f819-da20-4571-84d5-76ce95419e98",
   "metadata": {},
   "outputs": [],
   "source": []
  },
  {
   "metadata": {},
   "cell_type": "markdown",
   "source": "# Extracting half-manual",
   "id": "3629f065badb1651"
  },
  {
   "metadata": {
    "ExecuteTime": {
     "end_time": "2024-07-29T07:41:57.071583Z",
     "start_time": "2024-07-29T07:41:55.005040Z"
    }
   },
   "cell_type": "code",
   "source": [
    "pubmed_id = '24212882'\n",
    "text = fetch_text_from_pubmed_id(pubmed_id)\n",
    "text"
   ],
   "id": "a9c0be625b64d52d",
   "outputs": [
    {
     "data": {
      "text/plain": [
       "'\\n\\nMost patients with syndromic pancreatic agenesis have heterozygous dominant mutations in\\n\\nGATA6\\n. Extra-pancreatic features in these individuals include cardiac malformations, biliary tract defects, gut and other endocrine abnormalities. Four families have been reported with syndromic pancreatic agenesis with severe neurological features and cerebellar agenesis caused by recessive coding mutations in\\n1\\n,\\n2\\nPTF1A\\n. Most cases of isolated, non-syndromic pancreatic agenesis remain unexplained with the only cause described being recessive coding mutations in\\n3\\n-\\n5\\nPDX1\\nthat have been reported in two families\\n. We previously noted that individuals with unexplained pancreatic agenesis were often born to consanguineous parents and rarely had extra-pancreatic features\\n6\\n,\\n7\\n. This suggested an autosomal recessive defect underlying isolated pancreatic agenesis.\\n1\\nTo identify recessive mutations causing isolated pancreatic agenesis we used linkage and whole genome sequencing. Initially we performed homozygosity mapping in 6 affected and 1 unaffected subject from 3 unrelated consanguineous families (\\n\\nSupplementary Figure 1\\n). This highlighted a single shared locus on chromosome 10 that included\\nPTF1A\\n, but mutations in coding and promoter sequences of\\nPTF1A\\nand the coding sequences of 24 other genes in the region were excluded by Sanger sequencing (\\nSupplementary Figure 1\\nand\\nSupplementary Table 1\\n). We next performed whole genome sequencing on probands from the two families with multiple affected individuals. We first looked for homozygous coding mutations in the exomes of the two whole genome sequenced patients. Each patient had ~ 3.6 million variants, from which we filtered out any that were present in 81 control genomes or that were present at >1% frequency in the 1000 Genomes Project\\n. This left a total of 2,868 and 3,188 rare or novel homozygous SNVs and indels per patient. Of these, 8 and 19 were annotated as missense, nonsense, frameshift or essential splice site (\\n8\\nSupplementary Table 2\\n). However, these coding variants either did not co-segregate with the disease or were not considered plausible candidates for a role in pancreas development (\\nSupplementary Table 2\\n).\\nWe next searched for non-coding disease-causing mutations among the remaining candidate homozygous variants. We reasoned that any causal variants should disrupt a non-coding genomic element that is active in cells that are relevant to this disease. As isolated pancreatic agenesis must be the result of a defect in early pancreas development, we determined if any of the rare or novel homozygous variants in these patients mapped to active regulatory regions from pancreatic endoderm cells derived from human embryonic stem cells (hESC) (\\n\\nFigure 1\\n,\\nSupplementary Figure 2\\nand\\nSupplementary Figure 3\\n). We thus defined 6,109 embryonic pancreatic progenitor putative transcriptional enhancers that were enriched in H3K4me1, a post-translational histone modification that is associated with enhancer regions, and were also bound by two or more pancreatic developmental transcription factors that are known to be essential for early pancreas development. Seven homozygous variants from each patient occurred in one of these annotated non-coding regions. However, only one of the 6,109 regulatory regions contained a variant in both sequenced individuals, and it was the same variant in the two unrelated patients (\\nSupplementary Figure 2\\n). This variant, chr10:23508437A>G, was located ~25kb downstream of\\nPTF1A\\n, in the region previously identified by homozygosity mapping (\\nFigure 1\\n). The novel variant occurred in a short (~400bp) evolutionary conserved region that showed enrichment for enhancer marks (H3K4me1 and H3K27Ac), and was bound by the transcription factors FOXA2 and PDX1 in hESC-derived pancreatic progenitor cells (\\nFigure 1\\nand\\nSupplementary Figure 4\\n). Remarkably, this region lacked active chromatin features in 68 embryonic and adult cell types from the Epigenome RoadMap project and in 125 cell types from the ENCODE project (which includes an adult pancreatic exocrine cell line) indicating that it is specifically active in pancreatic embryonic progenitors (\\nSupplementary Figure 5\\n). A combination of whole genome sequencing and\\ncis\\n-regulatory annotations therefore identified a recessive mutation that mapped to a putative stage- and lineage-restricted transcriptional enhancer.\\nWe sequenced this putative pancreatic developmental enhancer in 19 additional probands with pancreatic agenesis of unknown aetiology (9 with extra-pancreatic features and 10 isolated cases) and identified recessive mutations in 7 of the 10 patients with non-syndromic pancreatic agenesis. We also identified a homozygous mutation in one patient with pancreatic agenesis and intrahepatic cholestatic failure (\\n\\nFigure 2\\nand\\nSupplementary Table 3\\n). Of the 10 probands with mutations in this element, 6 had the same chr10:23508437A>G mutation as part of a shared extended haplotype (minimal shared haplotype of 1.2Mb;\\nSupplementary Figure 6\\n). Three of the remaining probands had different base substitution mutations: a homozygous chr10:23508363A>G mutation, a homozygous chr10:23508305A>G mutation and compound heterozygous chr10:23508365A>G/chr10:23508446A>C mutations (\\nFigure 2\\n). In the tenth family a 7.6kb deletion was identified by long range PCR, and sequence analysis showed that the deleted region (chr10:23502416-23510031) included the entire putative enhancer (\\nSupplementary Figure 7\\n).\\nTesting of parents and siblings demonstrated co-segregation of the mutations with diabetes and exocrine insufficiency (\\n\\nFigure 2\\nand\\nSupplementary Table 3\\n). None of the mutations were present in 1092 individuals from the 1000 genomes project\\nor in dbSNP137, and Sanger sequencing of 299 controls did not detect any of these variants. The deletion was not observed in the Database of Genomic Variants\\n8\\n. There is very little diversity in humans within this element; the only 3 variants reported in dbSNP137 or the 1000 genomes project are rare (<0.2% allele frequency). These results provide overwhelming genetic evidence that we have identified mutations causing non-syndromic pancreatic agenesis in a non-coding genomic region that is likely to be a transcriptional enhancer during pancreas development.\\n9\\nWe next tested whether this previously uncharacterized non-coding element acts as a developmental enhancer of\\n\\nPTF1A\\n. We linked the wild type sequence to a minimal promoter and performed luciferase assays in human pancreatic progenitor cells, which demonstrated lineage-specific enhancer activity (\\nFigure 3A\\n). The enhancer was not active in adult exocrine pancreatic cell lines, consistent with a stage-specific regulatory function (\\nFigure 3A\\n). To assess if this enhancer truly targets\\nPTF1A\\n, we performed chromatin conformation capture (3C) experiments. This demonstrated that the enhancer region establishes direct interactions with the\\nPTF1A\\npromoter in human pancreatic progenitor cells (\\nFigure 3B\\nand\\nFigure 3C\\n).\\nWe next demonstrated that the five base-substitution mutations prevent enhancer activity by abolishing transcription factor binding. We noted that three of the mutations disrupt binding sites for FOXA2 and a fourth disrupts a binding site for PDX1 (\\n\\nFigure 3C\\n). FOXA2 and PDX1 are essential transcription factors for pancreatic development\\n. Electrophoretic mobility shift assays confirmed that these four mutations abolished binding of FOXA2 or PDX1, as predicted, whereas the remaining point mutation disrupted the affinity of an uncharacterized sequence-specific DNA-binding protein present in mouse pancreatic progenitors (\\n6\\n,\\n10\\nFigure 3D\\n,\\nFigure 3E\\nand\\nSupplementary Figure 8\\n). Importantly, all five mutations disrupted the enhancer activity of this region in hESC-derived human pancreatic progenitors (\\nFigure 3A\\n). Collectively, these findings show that multiple mutations causing isolated pancreas agenesis disrupt the function of a previously unrecognized enhancer that targets\\nPTF1A\\nin human embryonic pancreatic progenitor cells.\\nThe contribution of non-coding variants to human disease remains poorly understood. There are examples of mutations in distal regulatory elements causing monogenic disease\\n\\n, but the number is small compared to coding mutations. Although whole genome sequencing technologies can potentially solve this problem, the discrimination of functional non-coding causal variants amongst millions of non-coding variants present in each individual remains a formidable challenge. The ENCODE project has recently uncovered functional elements throughout the non-coding genome, leading to expectations that these can be integrated with genome sequencing to discover causal non-coding mutations\\n11\\n-\\n14\\n. Our study now provides an example that validates this expectation, and shows that recessively inherited distal\\n15\\ncis\\n-regulatory mutations in a novel developmental enhancer are the most common cause of a rare Mendelian disease. The fact that the mutated regulatory element was exclusive to embryonic pancreatic progenitors among a broad panel of adult and embryonic tissues highlights the importance of analyzing disease-relevant genomic annotations. Our results support efforts to identify novel regulatory element mutations in monogenic disorders by integrating genome sequencing data with functional annotation from projects such as ENCODE\\nand the Epigenome Roadmap\\n15\\n. These findings may also be relevant for future efforts to discover causal alleles in common non-Mendelian diseases, where many susceptibility variants appear to lie outside coding regions\\n16\\n.\\n17\\nIn summary, we have demonstrated that mutation of a novel, distal, developmental enhancer of\\n\\nPTF1A\\nis a common cause of isolated pancreatic agenesis in humans and demonstrate the potential of integrating genome sequencing with epigenomics to identify mutations in novel regulatory elements that cause disease.\\n\\n\\nOnline Methods\\n\\n\\n\\nSubjects\\n\\nPancreatic agenesis was defined as a) pancreatic beta-cell failure indicated by neonatal diabetes requiring insulin treatment and b) exocrine pancreatic insufficiency requiring enzyme replacement therapy, as previously described\\n\\n. Isolated disease was defined as pancreatic agenesis with normal development and no neurological or other major clinical features. Clinical details of the patients are provided in\\n1\\nSupplementary Table 3\\n. Subjects with pancreatic agenesis were recruited by their clinicians for molecular genetic analysis in the Exeter Molecular Genetics Laboratory. The study was conducted in accordance with the Declaration of Helsinki and all subjects or their parents gave informed consent for genetic testing.\\n\\n\\nWhole genome sequencing\\n\\nWhole genome sequencing of probands from families 1 and 2 was performed at Complete Genomics (Mountain View, CA, USA). The method has been described previously\\n\\n. Complete Genomics software version 1.8.0.30 was used to align reads to the hg19 genome and call SNVs and indels. A total of 222 and 190Gb of bases were mapped with an average coverage of 73× and 63×. Ninety-five percent of hg19 bases had sufficient coverage to be fully called. 3,197,771 and 3,182,809 SNVs were called per sample with a Ti/Tv ratio of 2.15 and 2.14, and a novel (dbSNP131) SNP rate of 4.7 and 4.8%, respectively. 445,141 and 440,357 indels were called per sample with a dbSNP131 novelty rate of 22.4 and 22.8%.\\n18\\nFor filtering SNVs and indels we used 69 publically available whole genomes provided by Complete Genomics\\n\\nand 12 additional whole genomes that had also been sequenced by Complete Genomics for a non-overlapping disease. We also filtered out variants present at >1% minor allele frequency in the 1000 genomes project\\n18\\n.\\n8\\n\\n\\nDifferentiation of pancreatic endoderm from human embryonic stem cells\\n\\nHuman ESCs (H9 from WiCell, Maddison, WI, USA) were imported under the guidelines of the UK Stem Cell Bank Steering Committee (authorisation SCSC10-44). Cells were maintained and differentiated into artificial pancreatic progenitors using a previously fully described protocol\\n\\n. These artificial pancreatic progenitors express a constellation of pancreatic endoderm markers including PDX1, HLXB9, NKX6.1, SOX9, HNF6, and PTF1A\\n19\\n. In brief, definitive endoderm (DE) was induced by growing hESCs in CDM-PVA + Activin-A (100ng/mL), BMP4 (10ng/mL), bFGF (20ng/mL) and LY (10 μM) (AFBLy). The CDM-PVA AFBLy cocktail was replenished daily, and daily media changes were made during the entire differentiation protocol. After the DE stage (days 1-3), cells were cultured in Advanced DMEM (Invitrogen) supplemented with SB-431542 (10 μM; Tocris), FGF10 (50 ng/ml; AutogenBioclear), all-trans retinoic acid (RA, 2 μM; Sigma) and Noggin (150 ng/ml; R&D Systems) for 3 days (days 4-6). For the next stage (days 7-10), the cells were cultured in Advanced DMEM supplemented with human FGF10 (50 ng/ml; AutogenBioclear), all-trans retinoic acid (RA, 2 uM; Sigma), KAAD-cyclopamine (0.25 μM; Toronto Research Chemicals) and Noggin (150 ng/ml; R&D Systems) for 3 days. For the last stage (days 10-12), the cells were cultured in human FGF10 (50 ng/ml; R&D Systems) for 3 days. For maturation of pancreatic progenitors (day 15 and day 18 artificial pMPCs), cells were grown in Advanced DMEM + 1% vol/vol B27 and DAPT (1 mM) for 3 days and for 3 additional days in Advanced DMEM + 1% vol/vol B27.\\n19\\n\\n\\nChIP-Seq maps of pancreatic progenitor regulatory elements\\n\\nChromatin immunoprecipitations (ChIPs) for H3K4me1 (Abcam ab-8895; n=2), FOXA2 (Santa Cruz Biotechnology sc-6554, n=2), GATA6 (Santa Cruz Biotechnology sc-9055X; n=1), HNF1β (Santa Cruz Biotechnology sc-22840-X, n=1), ONECUT1 (Santa Cruz Biotechnology sc-13050, n=1) and PDX1 (BCBC AB2027; n=1) were performed essentially as described\\n\\n, using ~10 million artificially derived pancreatic progenitors for each experiment. These transcription factors were chosen because they are known to be essential regulators of early pancreas development\\n20\\n, and because of the availability of antibodies that recognize human epitopes in chromatin immunoprecipitation experiments. Sequencing of ChIPs and input DNA was performed on an IlluminaHiSeq2000 platform. Transcription factor enrichment sites were detected with MACS v1.4.0beta\\n1\\n,\\n6\\n,\\n10\\n,\\n21\\n-\\n25\\nand H3K4me1-enriched regions were defined with SICER v1.03\\n26\\n. We identified genomic regions that showed H3K4me1 enrichment in duplicate samples, and then defined H3K4me1-enriched regions bound by at least two transcription factors that were not located within 1 Kb from the transcriptional start sites of RefSeq genes. We then defined the limits of remaining regions as the outer limits of the transcription factor binding sites that cluster in each H3K4me1-enriched region. This resulted in 6,109 putative enhancer regions. ChIP-seq analysis of pancreatic progenitors, as well as global integrative and functional analysis of these regulatory maps is described elsewhere (SRS, CHC, IC, LV, JF, unpublished).\\n27\\n\\n\\nH3K27Ac ChIP\\n\\nChromatin immunoprecipitation (ChIP) for H3K27ac (Abcam ab-4729: n=2) was performed as previously described\\n\\n, using ~10 million artificially derived pancreatic progenitors. Fold enrichment was calculated using\\n28\\nNANOG\\nTSS as negative control. The oligonucleotides used in this analysis are listed in\\nSupplementary Table 4\\n.\\n\\n\\nHomozygosity Mapping\\n\\nGenome wide single nucleotide polymorphism genotyping was performed using the Affymetrix Mapping 10K Xba SNP genotyping chip by Medical Solutions, Nottingham (formerly GeneService; Nottingham, UK) with an average call rate of >96%. Runs of homozygous SNP calls that exceeded 3cM from at least 20 consecutive probes were identified in the 6 affected probands and one unaffected sibling from 3 families. Common genomic regions of homozygosity were sought across the affected patients, excluding any shared with the unaffected sibling (\\n\\nSupplementary Figure 1\\n). The coding exons of all 25 RefSeq genes contained within the single shared region of homozygosity on chromosome 10 and the promoter and upstream conserved region of\\nPTF1A\\nwere sequenced using capillary sequencing on the Applied BioSystems 3730xl DNA Analyzer (Life Technologies). Primers were designed to cover −50 to plus 10 base pairs of each exon in overlapping fragments if required (Primer designs are available on request). There was no evidence to support any causative variants within these genes\\n\\n\\nConservation analysis\\n\\nEighty percent of bases between positions chr10:23508149 to chr10:23508510 were classified as being part of a vertebrate conserved element by PhastCons\\n\\n(LOD>17). Multiz alignment from the UCSC genome browser\\n29\\nshows that there is conservation of the entire element down to Chicken, and that over half the element is conserved down to X. Tropicalis. All mutated bases are highly conserved with all having GERP\\n30\\nscores of 5.65.\\n31\\n\\n\\nSanger sequencing of the PTF1A element\\n\\nWe amplified the conserved ~400bp element using primers in\\n\\nSupplementary Table 4\\n. PCR products were sequenced on an ABI3730 capillary machine (Applied Biosystems, Warrington, UK) and analyzed using Mutation Surveyor v3.98 (SoftGenetics, Pennsylvania, USA).\\n\\n\\nShared haplotype analysis and cryptic relatedness testing\\n\\nWe first tested for a shared haplotype from the individuals in whom whole genome sequencing was undertaken. We only used SNPs where both alleles in both samples were fully called. There were 1,234 consecutive SNP calls between chr10:21314935 to 24693292 that were identical between the two samples, except for 4 discrepancies (which is within the expected genotyping error rate). For shared haplotype analyses of additional families with the 437A>G mutation we also included 3 patients genotyped on the Affymetrix Genome-wide Human SNP 5.0 or 6.0, and extracted genotypes from these SNPs for the two individuals who underwent genome sequencing. Sample 6-1 was not included in this analysis because of a lack of dense genotyping data. Any SNP that was not called for at least one sample was excluded from the analysis. One discrepancy per 50 SNPs was tolerated to allow for genotyping error.\\n\\nSupplementary Figure 6\\npresents a graphical representation of the shared haplotype.\\nTo test whether the shared haplotype could be explained by cryptic relatedness between families we used KING\\n\\nto estimate relatedness between probands from each of the families with the 437A>G mutation. We only used SNPs that were present on both the Affymetrix Genome-wide Human SNP 5.0 or 6.0. All pairs of probands had a kinship coefficient < 0.022 consistent with them being “unrelated”\\n32\\n.\\n32\\n\\n\\nDeletion analysis\\n\\nThe genomic region chr10:23501386-23512912 was amplified in patients 7-4 and 7-8 by long-range PCR using the SequalPrep Long PCR kit (Life Technologies). PCR products were sheared by sonication (Diagenode Bioruptor), and fragments in the size range of 200–300 bp were isolated for library preparation with NextFlex adapters with a 6 base index sequence tag. Individual libraries were enriched by 6 cycles of PCR amplification and were then pooled in equimolar quantities for 100 bp paired-end sequencing on an Illumina HiSeq2000 sequencer. We used BWA (v0.6.2)\\n\\nto align sequence reads to the hg19 reference genome and then visualized the breakpoints using the Integrative Genomics Viewer\\n33\\nwhich demonstrated that the deletion breakpoints occurred at chr10:23502416 and chr10:23510031 (\\n34\\nSupplementary Figure 7\\n). The deletion mutation was investigated in all available members of family 7 using a junction fragment PCR assay (primer sequences available on request).\\n\\n\\nSanger sequencing of the PTF1A enhancer in control samples\\n\\nWe sequenced the putative\\n\\nPTF1A\\nenhancer element in 150 healthy controls of European descent from the Exeter Family Study of Childhood health\\nand 149 individuals from Turkey using Sanger sequencing (\\n35\\nSupplementary Table 4\\n). No variants were identified.\\n\\n\\nTranscription factor binding motif analysis\\n\\nMotif discovery over the point mutation sites comparing wild type and mutation-containing sequences was performed using HOMER\\n\\n.\\n36\\n\\n\\nElectrophoretic mobility-shift assays\\n\\nMouse pancreatic buds were dissected from E11.5 and E12.5 C57Bl/6J mouse embryos as described\\n\\n. Nuclear extracts were purified as described\\n37\\n. Binding of nuclear extracts from embryonic pancreas and MIN6 β-cells to\\n38\\n32\\nP-labeled oligonucleotides that contained either wild type or the mutation-containing sequence was performed as described previously\\n. The oligonucleotide sequences used are listed in\\n39\\nSupplementary Table 4\\n. Assay specificity was assessed by preincubation of the nuclear lysates with 30- and 100-fold excess of unlabelled wild type, mutant or consensus double-stranded oligonucleotides. Supershifts were performed using 2 μl of goat polyclonal serum anti-FOXA2 (sc-6554), anti-PDX1 (sc-14662) or control IgG (sc-2028; Santa Cruz Biotechnologies).\\n\\n\\nChromosome conformation capture assay\\n\\nApproximately 10\\n\\n7\\nartificial pancreatic progenitors were fixed for 20 minutes at 4°C in 4% paraformaldehyde, washed three times in PBS and lysed (10 mM Tris-HCl pH 8, 10 mM NaCl, 0.3% IGEPAL CA-630 (Sigma-Aldrich, Cat. No. I8896), 1× protease inhibitor cocktail (Complete, Roche). Nuclei were digested with HindIII endonuclease (New England Biolabs). DNA was then ligated with T4 DNA ligase (Promega). Locus specific primers were designed with Primer3 v. 0.4.0\\nas described previously\\n40\\n. Relative enrichment of each ligation product was measured by real time quantitative PCR. The primer specific to\\n41\\nPTF1A\\nenhancer (3C-E) was considered fixed and interaction with\\nPTF1A\\npromoter was tested using primers close either to the promoter (3C-P) or to adjacent control regions (3C-Crt1, 3C-Crt2 and 3C-Crt3). A primer specific to the\\nXBP1\\npromoter was used as an unrelated locus control (3C-XBP1). All primers are shown in\\nSupplementary Table 4\\n. Amplimers were compared with parallel amplifications of serial dilutions of control bacterial artificial chromosomes (BAC) that encompass the genomic region of interest (RP11-938O7) and the XBP1 control locus (RP11-594I15), which were processed identically to the pancreatic progenitor chromatin.\\n\\n\\nPTF1A enhancer cloning and luciferase reporter assays\\n\\n\\nPTF1A\\nenhancer wild type and mutant sequences were PCR amplified from genomic DNA of a control individual and patients carrying the mutations, respectively, with Phusion High-Fidelity DNA Polymerase (New England Biolabs) (see\\nSupplementary Table 4\\nfor primer sequences) and cloned into pENTR/D-TOPO (Invitrogen). The enhancers were then shuttled into a pGL4.23[\\nluc2\\n/minP] Vector backbone (Promega) previously adapted for Gateway cloning pGL4.23-GW (Pasquali L, unpublished), using Gateway LR Clonase II Enzyme Mix (Invitrogen). Correct cloning was assessed by Sanger sequencing and restriction enzyme digestion.\\nDNA was prepared with PureYieldTM Plasmid Maxiprep System (Promega). At day 10 of differentiation the artificial pancreatic progenitors were transfected in 24-well plates with 400ng of pGL4.23-GW-PTF1A_Enhancer vectors and 4ng Renilla normalizer control using Lipofectamine 2000 (Invitrogen) Opti-MEM (Gibco) according to manufacturer’s instructions. Panc-1 (human pancreatic ductal), 266-6 (mouse pancreatic acinar), AR42J (rat pancreatic acinar) and HeLa cells were transfected in 96-well plates using Lipofectamine 2000 and Opti-MEM (Gibco) at a density of 4×10\\n\\n4\\nof cells per well, according to manufacturer’s instructions for this format. 48 hours after transfection, luciferase activity was measured with Dual-Luciferase Reporter Assay System (Promega). Firefly luciferase activity was normalized to Renilla luciferase activity and then to the pGL4.23[\\nluc2\\n/minP] Vector backbone. Statistical significance was determined by comparing firefly/renilla luciferase values of each mutant to the wild type construct using a two-sided T-test. All DNA preparations were transfected in triplicate.\\n\\n\\nSupplementary Material\\n\\n\\n\\nSupplementary Information\\n\\n'"
      ]
     },
     "execution_count": 20,
     "metadata": {},
     "output_type": "execute_result"
    }
   ],
   "execution_count": 20
  },
  {
   "metadata": {
    "ExecuteTime": {
     "end_time": "2024-07-29T07:29:52.185822Z",
     "start_time": "2024-07-29T07:29:52.183001Z"
    }
   },
   "cell_type": "code",
   "source": "len(text)",
   "id": "ece4397aad76c97f",
   "outputs": [
    {
     "data": {
      "text/plain": [
       "24096"
      ]
     },
     "execution_count": 16,
     "metadata": {},
     "output_type": "execute_result"
    }
   ],
   "execution_count": 16
  },
  {
   "metadata": {},
   "cell_type": "code",
   "outputs": [],
   "execution_count": null,
   "source": "",
   "id": "3ba7b9ba8a202bf4"
  },
  {
   "cell_type": "markdown",
   "id": "83b14efa-b547-4c3f-8342-722367d05064",
   "metadata": {},
   "source": [
    "## Retreive metadata of searches"
   ]
  },
  {
   "metadata": {},
   "cell_type": "code",
   "outputs": [],
   "execution_count": null,
   "source": "",
   "id": "d013773c1053b878"
  },
  {
   "cell_type": "code",
   "execution_count": 18,
   "id": "1aa04f01-57f5-46ae-a0f0-f906e3ede213",
   "metadata": {},
   "outputs": [],
   "source": [
    "def generate_string_list(row):\n",
    "    string_list = []\n",
    "    for column in row.index[:-3]:  # Exclude the last two columns\n",
    "        value = row[column]\n",
    "        # Ensure that NaN values are handled appropriately\n",
    "        value_str = str(value) if pd.notna(value) else \"brak danych\"\n",
    "        string_list.append(f\"{column}: {value_str}\")\n",
    "    return string_list\n",
    "\n",
    "searches_metadata = df.apply(generate_string_list, axis=1).tolist()"
   ]
  },
  {
   "cell_type": "code",
   "execution_count": 19,
   "id": "c061991e-d741-4e3d-ba3b-0557907e8d25",
   "metadata": {},
   "outputs": [
    {
     "data": {
      "text/plain": [
       "['Disease name: Van Buchem disease',\n",
       " 'Disease OMIM: 239100',\n",
       " 'Gene name: SOST',\n",
       " 'Gene OMIM: 605740',\n",
       " 'Locus: 17q21.31',\n",
       " \"Distance from regulated gene: 35 kpz 3'\",\n",
       " 'Literature: Balemans et al. 2002;\\nLoots et al. 2005',\n",
       " 'Type: deletion of cis element']"
      ]
     },
     "execution_count": 19,
     "metadata": {},
     "output_type": "execute_result"
    }
   ],
   "source": [
    "searches_metadata[1]"
   ]
  },
  {
   "cell_type": "markdown",
   "id": "3eb8987c-f96a-4934-90b0-519b60789fb5",
   "metadata": {},
   "source": [
    "# Answering the question about ClinVar and coordinates\n",
    "Having the full texts of the biomedical articles"
   ]
  },
  {
   "cell_type": "code",
   "execution_count": null,
   "id": "af3fdd70-12ee-449c-88cf-dca0edef39b0",
   "metadata": {},
   "outputs": [],
   "source": [
    "pip install openai==0.28"
   ]
  },
  {
   "cell_type": "code",
   "id": "6edcfb4f-0b44-41fb-94d1-666b1935c47e",
   "metadata": {
    "ExecuteTime": {
     "end_time": "2024-07-29T07:36:52.479302Z",
     "start_time": "2024-07-29T07:36:51.960209Z"
    }
   },
   "source": [
    "import openai\n",
    "from langchain.prompts import PromptTemplate\n",
    "\n",
    "# Set your OpenAI API key\n",
    "openai.api_key = 'sk-proj-K52pv0IIXeL6j8NFSjlST3BlbkFJP28Uknmmb22SHR9Wjef2'"
   ],
   "outputs": [],
   "execution_count": 17
  },
  {
   "cell_type": "code",
   "id": "19c863ed-a381-4fc0-b7e7-6f3e6a5d563a",
   "metadata": {
    "ExecuteTime": {
     "end_time": "2024-07-29T07:36:53.855788Z",
     "start_time": "2024-07-29T07:36:53.852146Z"
    }
   },
   "source": [
    "openai.__version__"
   ],
   "outputs": [
    {
     "data": {
      "text/plain": [
       "'0.28.0'"
      ]
     },
     "execution_count": 18,
     "metadata": {},
     "output_type": "execute_result"
    }
   ],
   "execution_count": 18
  },
  {
   "cell_type": "code",
   "execution_count": 22,
   "id": "1b9b299a-ad80-4aa2-8ff5-3c72b5eceac0",
   "metadata": {},
   "outputs": [],
   "source": [
    "# Define the context strings\n",
    "context_strings = [f\"CONTEXT INFO: Publication {i}: {text}\" for i, text in enumerate(texts)]\n",
    "# context_strings.extend([f\"CONTEXT INFO: {x}\" for x in searches_metadata[research_id]])"
   ]
  },
  {
   "cell_type": "code",
   "execution_count": null,
   "id": "8b95a0db-01df-4ebf-9a65-abff6c1286ee",
   "metadata": {},
   "outputs": [],
   "source": []
  },
  {
   "cell_type": "code",
   "id": "e4c33757-2a70-4435-9b04-ef82d2958a51",
   "metadata": {
    "ExecuteTime": {
     "end_time": "2024-07-29T07:42:11.845497Z",
     "start_time": "2024-07-29T07:42:11.842088Z"
    }
   },
   "source": [
    "def split_text_into_chunks(text, chunk_size=25000):\n",
    "    # List to hold chunks\n",
    "    chunks = []\n",
    "    # Loop through the text, adding chunks to the list\n",
    "    for i in range(0, len(text), chunk_size):\n",
    "        chunks.append(text[i:i + chunk_size])\n",
    "    return chunks\n",
    "\n",
    "# Example usage\n",
    "chunks = split_text_into_chunks(text)\n",
    "\n",
    "# Print the first chunk to verify\n",
    "print([len(c) for c in chunks])\n",
    "#overlap"
   ],
   "outputs": [
    {
     "name": "stdout",
     "output_type": "stream",
     "text": [
      "[24096]\n"
     ]
    }
   ],
   "execution_count": 22
  },
  {
   "cell_type": "code",
   "id": "7507578f-702c-4b35-b7d5-2c60890639d4",
   "metadata": {
    "ExecuteTime": {
     "end_time": "2024-07-29T08:33:30.261808Z",
     "start_time": "2024-07-29T08:33:30.257915Z"
    }
   },
   "source": [
    "\n",
    "# Define the prompt template with the context\n",
    "prompt_template = PromptTemplate(\n",
    "    input_variables=[\"question\", \"publication\"],\n",
    "    template=\"\"\"\n",
    "    Question:\n",
    "    {question}\n",
    "    \n",
    "    Publication:\n",
    "    {publication}\n",
    "    \"\"\"\n",
    ")\n",
    "\n",
    "# Create the final prompt using the template\n",
    "def create_prompt(question, publication):\n",
    "    return prompt_template.format(question=question, publication=publication)\n",
    "\n",
    "# Define the question you want to ask\n",
    "# question = \"What are the related ClinVar variant ids in this context?\"\n",
    "question = \"Please give me all fragments of text (of length circa 25 words) where there are genomic region coordinates in the format like here or similar: chr10:23508365, chrY:∼124349-409949; chrY:∼134349–439949\"\n",
    "\n",
    "def get_coordinates_for_text(publication):\n",
    "    final_prompt = create_prompt(question, publication)\n",
    "    response = openai.ChatCompletion.create(\n",
    "        # model=\"gpt-3.5-turbo\",\n",
    "        model=\"gpt-4o-mini\",\n",
    "        messages=[\n",
    "            {\"role\": \"system\", \"content\": \"You are a helpful assistant.\"},\n",
    "            {\"role\": \"user\", \"content\": final_prompt}\n",
    "        ]\n",
    "    )\n",
    "    return response.choices[0].message[\"content\"]\n",
    "\n",
    "def get_answers(text):\n",
    "    answers = []\n",
    "    for chunk in split_text_into_chunks(text):\n",
    "        coordinates = get_coordinates_for_text(chunk)\n",
    "        print(\"NEXT ANSWER\")\n",
    "        print(coordinates)\n",
    "        answers.append(coordinates)\n",
    "    return answers"
   ],
   "outputs": [],
   "execution_count": 40
  },
  {
   "metadata": {
    "ExecuteTime": {
     "end_time": "2024-07-29T08:33:32.244473Z",
     "start_time": "2024-07-29T08:33:32.241610Z"
    }
   },
   "cell_type": "code",
   "source": [
    "def test_example(pmid, label):\n",
    "    text = fetch_text_from_pubmed_id(pmid)\n",
    "    answers = get_answers(text)\n",
    "    y = ' '.join(answers)\n",
    "    return label in y"
   ],
   "id": "dfd7a5a736b48ba1",
   "outputs": [],
   "execution_count": 41
  },
  {
   "metadata": {
    "ExecuteTime": {
     "end_time": "2024-07-29T08:15:49.990637Z",
     "start_time": "2024-07-29T08:15:49.988061Z"
    }
   },
   "cell_type": "code",
   "source": [
    "positive_examples = [\n",
    "    ('24212882', 'chr10:23502416-23510031'),\n",
    "    ('24212882', 'chr10:23508437'),\n",
    "    ('24212882', 'chr10:23508363'),\n",
    "    ('24212882', 'chr10:23508305'),\n",
    "    ('24212882', 'chr10:23508365'),\n",
    "    ('24212882', 'chr10:23508446'),\n",
    "    ('22071895', 'chrY:∼124349-409949'),\n",
    "    ('22071895', 'chrY:∼134349–439949'),\n",
    "    ('19234473', 'chr17:66,187,898'),\n",
    "    ('19234473', 'chr17:66,400,448'),\n",
    "    ('22543974', 'chr12:114,701,207–114,704,691')\n",
    "]"
   ],
   "id": "bdc19c5735ad6fc",
   "outputs": [],
   "execution_count": 30
  },
  {
   "metadata": {
    "ExecuteTime": {
     "end_time": "2024-07-29T08:30:27.135782Z",
     "start_time": "2024-07-29T08:30:27.132869Z"
    }
   },
   "cell_type": "code",
   "source": [
    "positive_examples2 = [\n",
    "    ('19234473', 'chr17:66,187,898'),\n",
    "    ('19234473', 'chr17:66,400,448'),\n",
    "    ('22543974', 'chr12:114,701,207–114,704,691')\n",
    "]"
   ],
   "id": "1a5410fb7dc01594",
   "outputs": [],
   "execution_count": 38
  },
  {
   "metadata": {
    "ExecuteTime": {
     "end_time": "2024-07-29T08:45:59.650031Z",
     "start_time": "2024-07-29T08:44:39.602497Z"
    }
   },
   "cell_type": "code",
   "source": [
    "rate = [test_example(pmid, label) for pmid, label in positive_examples]\n",
    "existing = [label in fetch_text_from_pubmed_id(pmid) for pmid, label in positive_examples]\n"
   ],
   "id": "4ad1bc7e38ecac44",
   "outputs": [
    {
     "name": "stdout",
     "output_type": "stream",
     "text": [
      "NEXT ANSWER\n",
      "Here are the text fragments containing genomic region coordinates from the provided publication:\n",
      "\n",
      "1. \"This variant, chr10:23508437A>G, was located ~25kb downstream of PTF1A, in the region previously identified by homozygosity mapping.\"\n",
      "\n",
      "2. \"Three of the remaining probands had different base substitution mutations: a homozygous chr10:23508363A>G mutation, a homozygous chr10:23508305A>G mutation and compound heterozygous chr10:23508365A>G/chr10:23508446A>C mutations.\"\n",
      "\n",
      "3. \"In the tenth family a 7.6kb deletion was identified by long range PCR, and sequence analysis showed that the deleted region (chr10:23502416-23510031) included the entire putative enhancer.\" \n",
      "\n",
      "4. \"The genomic region chr10:23501386-23512912 was amplified in patients 7-4 and 7-8 by long-range PCR using the SequalPrep Long PCR kit.\"\n",
      "\n",
      "These fragments discuss specific genomic coordinates related to mutations and deletions relevant to the study of pancreatic agenesis.\n",
      "NEXT ANSWER\n",
      "Here are the fragments of text from the publication that contain genomic region coordinates in the requested format:\n",
      "\n",
      "1. \"This variant, chr10:23508437A>G, was located ~25kb downstream of PTF1A, in the region previously identified by homozygosity mapping.\" \n",
      "\n",
      "2. \"Three of the remaining probands had different base substitution mutations: a homozygous chr10:23508363A>G mutation, a homozygous chr10:23508305A>G mutation and compound heterozygous chr10:23508365A>G/chr10:23508446A>C mutations.\"\n",
      "\n",
      "3. \"In the tenth family a 7.6kb deletion was identified by long range PCR, and sequence analysis showed that the deleted region (chr10:23502416-23510031) included the entire putative enhancer.\"\n",
      "\n",
      "4. \"We used BWA (v0.6.2) to align sequence reads to the hg19 reference genome and then visualized the breakpoints using the Integrative Genomics Viewer which demonstrated that the deletion breakpoints occurred at chr10:23502416 and chr10:23510031.\"\n",
      "\n",
      "These fragments contain genomic coordinates that fit the specified format.\n",
      "NEXT ANSWER\n",
      "Here are the text fragments that contain genomic region coordinates in the specified format:\n",
      "\n",
      "1. \"... The novel variant occurred in a short (~400bp) evolutionary conserved region that showed enrichment for enhancer marks (H3K4me1 and H3K27Ac), and was bound by the transcription factors FOXA2 and PDX1 in hESC-derived pancreatic progenitor cells (Figure 1 and Supplementary Figure 4). Remarkably, this region lacked active chromatin features in 68 embryonic and adult cell types from the Epigenome RoadMap project and in 125 cell types from the ENCODE project (which includes an adult pancreatic exocrine cell line) indicating that it is specifically active in pancreatic embryonic progenitors (Supplementary Figure 5). A combination of whole genome sequencing and cis-regulatory annotations therefore identified a recessive mutation that mapped to a putative stage- and lineage-restricted transcriptional enhancer.\"\n",
      "\n",
      "2. \"Seven homozygous variants from each patient occurred in one of these annotated non-coding regions. However, only one of the 6,109 regulatory regions contained a variant in both sequenced individuals, and it was the same variant in the two unrelated patients (Supplementary Figure 2). This variant, chr10:23508437A>G, was located ~25kb downstream of PTF1A, in the region previously identified by homozygosity mapping (Figure 1).\"\n",
      "\n",
      "3. \"Three of the remaining probands had different base substitution mutations: a homozygous chr10:23508363A>G mutation, a homozygous chr10:23508305A>G mutation and compound heterozygous chr10:23508365A>G/chr10:23508446A>C mutations (Figure 2). In the tenth family a 7.6kb deletion was identified by long range PCR, and sequence analysis showed that the deleted region (chr10:23502416-23510031) included the entire putative enhancer (Supplementary Figure 7).\"\n",
      "\n",
      "4. \"Testing of parents and siblings demonstrated co-segregation of the mutations with diabetes and exocrine insufficiency (Figure 2 and Supplementary Table 3). None of the mutations were present in 1092 individuals from the 1000 genomes project or in dbSNP137, and Sanger sequencing of 299 controls did not detect any of these variants. The deletion was not observed in the Database of Genomic Variants.\"\n",
      "\n",
      "These fragments each contain genomic coordinates relevant to the context of the publication.\n",
      "NEXT ANSWER\n",
      "Here are the fragments from the provided text that contain genomic region coordinates in the specified format:\n",
      "\n",
      "1. \"This variant, chr10:23508437A>G, was located ~25kb downstream of PTF1A, in the region previously identified by homozygosity mapping.\"\n",
      "\n",
      "2. \"...and three of the remaining probands had different base substitution mutations: a homozygous chr10:23508363A>G mutation, a homozygous chr10:23508305A>G mutation and compound heterozygous chr10:23508365A>G/chr10:23508446A>C mutations...\"\n",
      "\n",
      "3. \"...a 7.6kb deletion was identified by long range PCR, and sequence analysis showed that the deleted region (chr10:23502416-23510031) included the entire putative enhancer.\"\n",
      "\n",
      "4. \"We identified genomic regions that showed H3K4me1 enrichment in duplicate samples, and then defined H3K4me1-enriched regions bound by at least two transcription factors that were not located within 1 Kb.\"\n",
      "\n",
      "These excerpts include genomic region coordinates that match your requested format.\n",
      "NEXT ANSWER\n",
      "Here are the fragments of text from the provided publication that contain genomic region coordinates in the specified format:\n",
      "\n",
      "1. \"This variant, chr10:23508437A>G, was located ~25kb downstream of PTF1A, in the region previously identified by homozygosity mapping.\"\n",
      "\n",
      "2. \"Three of the remaining probands had different base substitution mutations: a homozygous chr10:23508363A>G mutation, a homozygous chr10:23508305A>G mutation and compound heterozygous chr10:23508365A>G/chr10:23508446A>C mutations.\"\n",
      "\n",
      "3. \"In the tenth family a 7.6kb deletion was identified by long range PCR, and sequence analysis showed that the deleted region (chr10:23502416-23510031) included the entire putative enhancer.\"\n",
      "\n",
      "4. \"We noted that three of the mutations disrupt binding sites for FOXA2 and a fourth disrupts a binding site for PDX1 (Figure 3C).\"  (Note: Although this does not include coordinates, it mentions relevant genes in the context of specific mutations related to genomic regions.)\n",
      "\n",
      "These fragments refer directly to genomic coordinates present in the specified format.\n",
      "NEXT ANSWER\n",
      "Here are the fragments of text from the publication that contain genomic region coordinates in the specified formats:\n",
      "\n",
      "1. \"This variant, chr10:23508437A>G, was located ~25kb downstream of PTF1A, in the region previously identified by homozygosity mapping.\"\n",
      "\n",
      "2. \"In three of the remaining probands had different base substitution mutations: a homozygous chr10:23508363A>G mutation, a homozygous chr10:23508305A>G mutation and compound heterozygous chr10:23508365A>G/chr10:23508446A>C mutations.\"\n",
      "\n",
      "3. \"In the tenth family a 7.6kb deletion was identified by long range PCR, and sequence analysis showed that the deleted region (chr10:23502416-23510031) included the entire putative enhancer.\"\n",
      "\n",
      "4. \"We noted that three of the mutations disrupt binding sites for FOXA2 and a fourth disrupts a binding site for PDX1 (chr10:23508149 to chr10:23508510 were classified as being part of a vertebrate conserved element by PhastCons).\"\n",
      "\n",
      "These fragments all contain genomic region coordinates formatted similarly to what you requested.\n"
     ]
    }
   ],
   "execution_count": 42
  },
  {
   "metadata": {
    "ExecuteTime": {
     "end_time": "2024-07-29T09:10:33.974042Z",
     "start_time": "2024-07-29T09:10:32.638098Z"
    }
   },
   "cell_type": "code",
   "source": "tgambin_text = fetch_text_from_pubmed_id('26195989')",
   "id": "fcde3bdfc41227d2",
   "outputs": [],
   "execution_count": 51
  },
  {
   "metadata": {
    "ExecuteTime": {
     "end_time": "2024-07-29T09:10:33.978031Z",
     "start_time": "2024-07-29T09:10:33.974953Z"
    }
   },
   "cell_type": "code",
   "source": "tgambin_text",
   "id": "7800253db969f276",
   "outputs": [
    {
     "data": {
      "text/plain": [
       "'\\n\\n\\n\\nBackground\\n\\nExome and genome sequencing is becoming an integral part of health care. Their role as molecular diagnostic tools in obstetrics [\\n\\n1\\n] and pediatrics [\\n2\\n] is firmly established, as is their potential in hereditary cancer [\\n3\\n] and somatic testing [\\n4\\n]. Less well touted, but likely of broader application, is the use of sequencing in carrier testing for recessive disorders, as a subclinical marker of potential disease susceptibility or undiagnosed disease, and the development of genetic risk scores [\\n5\\n] to identify high risk individuals for a number of common chronic diseases. Like any test or procedure, DNA sequencing is able to detect findings for conditions other than the primary reason for which the original test was performed. These findings can be broadly divided into two groups. First, so-called secondary findings (SFs) [\\n6\\n,\\n7\\n], i.e., variants in genes not directly related to the primary clinical diagnosis but actively screened due to their clinical importance, can have a direct impact on the health of the ascertained individual or family members with the same genotype. Second, sequence analysis can identify heterozygous alleles that have no obvious clinical manifestation in the carrier state but may impact future generations and reproduction decisions.\\nPrevious reports of SF rates vary widely and generally focus on individuals highly ascertained on specific phenotypes and studies of relatively small sample sizes. Based on available data, it is expected that one to two percent of individuals will have at least one of the well-studied pathogenic variants originally identified in the American College of Medical Genetics and Genomics (ACMG) guidelines [\\n\\n8\\n]. For example, Dorschner et al. [\\n9\\n] report the frequency of actionable pathogenic variants in 114 genes to be 3.4\\xa0% in European-descent and 1.2\\xa0% in African-descent individuals ascertained to be part of multiple case–control studies. To our knowledge no study has reported the rates of SFs in a large (e.g., >1,000 individuals) sample of individuals randomly selected from the US population. Further, the distortion of SF frequencies in regions populated with individuals with different specific continental origins is largely unexplored.\\nWe identified both SFs and recessive carrier alleles in a large random sample of African-Americans (AAs;\\n\\nN\\n=\\u20092836) and European-Americans (EAs;\\nN\\n=\\u20095718) from the US population. We also ascertained European (\\nN\\n=\\u20091455), African (\\nN\\n=\\u2009122) Turkish (\\nN\\n=\\u2009498), Hispanic (\\nN\\n=\\u2009388) and Asian (\\nN\\n=\\u200951) samples that were part of systematic studies to discover novel Mendelian disease genes. We utilized the same platform and algorithms for all samples analyzed in this study, and were therefore able to compare the rates in the AA/EA populations with those in the other groups. By including information from multiple data sources ranging from the widely agreed upon and adjudicated variants in ClinVar [\\n10\\n] to predicted deleterious variants using dbNSFP [\\n11\\n], we were able to establish the lower and upper bounds, respectively, of both the SFs and recessive carrier alleles in diverse populations. The data presented here enable assessment of the impact of a comprehensive carrier testing program for established recessive disorders, keeping in mind the ever-changing nature of the reference databases, such as ClinVar and dbNSFP.\\n\\n\\nMethods\\n\\nThis research conforms to the Helsinki Declaration and was approved by local institutional review boards. All study participants provided written informed consent and agreed to participate in genetic studies. Genetic studies in the Atherosclerosis Risk in Communities (ARIC) study have been approved by the Institutional Review Board at the University of Texas Health Science Center at Houston. Genetic studies in the Baylor-Johns Hopkins Center for Mendelian Genomics (CMG) have been approved by the Institutional Review Board at the Baylor College of Medicine at Houston. The data are available from dbGAP under the following accession numbers: ARIC phs000668.v1.p1, and Baylor Hopkins Center for Mendelian Genomics (CMG) phs000711.v2.p1.\\n\\n\\n\\nCohorts\\n\\nWhole exome sequencing was performed on 8554 individuals derived from the Atherosclerosis Risk in Communities study [\\n\\n12\\n] (ARIC) and from 2514 patients sequenced at the CMG at Baylor College of Medicine [\\n13\\n]. As part of ongoing efforts to identify genes influencing risk of common heart, lung and blood diseases, we are performing exome sequencing on members of the ARIC study. A total of 15,792 individuals, predominantly EA and AA, participated in the ARIC study baseline examination in 1987–1989, with three additional triennial follow-up examinations and a fifth exam in 2011–2013. The ARIC cohort includes a sample of individuals aged 45–64 years randomly selected and recruited from four US communities: suburban Minneapolis, MN; Washington County, MD; Forsyth County, NC; and Jackson, MS [\\n12\\n]. All individuals whose data are included here provided written informed consent for large-scale genomic studies and broad data sharing. Ethnic classification of the ARIC study sample was confirmed with principal components analysis performed using the EIGENSTRAT software [\\n14\\n].\\nThe primary goal of the CMG is to identify novel genes responsible for Mendelian conditions [\\n\\n13\\n]. CMG study participants are heterogeneous in terms of phenotypic presentation and ethnic origins. The total number of distinct Mendelian conditions representing clinical diagnoses included in this sample set was 250 (Additional file\\n1\\n). Samples were collected from 23 countries from North and South Americas, Europe, Asia and Australia. To obtain unbiased ethnic classification of the CMG study participants, we used PRIMUS [\\n15\\n] and genotype data from Illumina’s Human Exome (v.1-1 or v.1-2) arrays. PRIMUS encapsulates the upstream quality control (QC) required before principal components analysis and uses a clustering algorithm to assign ancestral groups to the samples using principal components derived from the EIGENSTRAT software [\\n14\\n].\\n\\n\\nSequencing and QC\\n\\nDNA samples were processed according to protocols previously described [\\n\\n16\\n]. Sequencing was performed using Illumina Hi-Seq (San Diego, CA) instruments after exome capture with the Baylor Human Genome Sequencing Center VCRome 2.1 (ARIC samples) or CORE [\\n17\\n] (CMG samples) designs. To minimize the influence of differences between the two designs on the results of the comparative analysis, we identified the intersection of the capture designs and excluded variants located outside the regions of overlap. Raw sequence data were post-processed using the Mercury pipeline [\\n18\\n]. The Mercury pipeline performs conversion of raw sequencing data (bcl files) to a fastq format using Casava, mapping of the short reads against a human genome reference sequence (GRCh37) using the Burrows-Wheeler Alignment (BWA), recalibration using GATK [\\n19\\n], and variant calling using the Atlas2 suite [\\n20\\n]. Finally, Cassandra [\\n21\\n] was used to annotate relevant information about gene names, predicted variant pathogenicity, reference allele frequencies and metadata from external resources, and then to add these to the Variant Call Format (VCF) file.\\nAfter initial data processing every sample was evaluated using rigorous QC metrics, including percentage of targets covered at 20× or greater and concordance of single nucleotide polymorphisms (SNPs) calls between exome sequencing and SNP array data. Additionally, each SNP variant call was filtered using the following criteria: low single nucleotide variant (SNV) posterior probability (<0.95), strand-bias of more than 99\\xa0% variant reads in a single strand direction and total coverage less than tenfold. Moreover, sample level QC for ARIC cohort removed known and blind duplicates, samples with known sex mismatches (indicating sample contamination), samples with missing rate >65\\xa0% and extreme outliers (e.g., singleton counts). Only samples that passed QC were included in this analysis.\\n\\n\\n\\nVariants filtering\\n\\nFrom the variants obtained by exome sequencing, we selected nonsynonymous variants in a prespecified list of 56 SF genes or 1423 autosomal recessive disorder genes. Additionally, for the analysis of females, we selected nonsynonymous variants in an additional set of 112 X-linked recessive genes. The list of SF genes was obtained from the ACMG recommendations for reporting of secondary findings in clinical exomes [\\n\\n8\\n], and includes 56 genes associated with 24 conditions, most of which are inherited dominantly. The list of autosomal recessive genes was created based on an extensive search of the MedGen database [\\n22\\n], for all autosomal recessive disorders (see Additional file\\n2\\nfor details of gene extraction procedure). The initial set of 1496 genes obtained from MedGen was compared with the lists of autosomal recessive disease genes described in previous studies [\\n23\\n,\\n24\\n] (Additional file\\n3\\n). Next, we manually evaluated Online Mendelian Inheritance in Man (OMIM) entries for 314 MedGen genes not reported in the previous studies to confirm that these genes are truly associated with the autosomal recessive disorders. We were able to identify a corresponding OMIM entry for each of the 314 genes. Of those, we excluded 72 genes in which we did not find evidence of homozygous or compound heterozygous variants causing Mendelian disease. We excluded\\nTTN\\n, which is the most commonly mutated gene and could have an exaggerated influence on these results. We present the list of genes at each filtering step in Additional file\\n4\\n. The final list of 1423 genes associated with 1493 disorders is presented in Additional file\\n5\\n. Similarly, the list of 112 genes associated with 159 X-linked recessive disorders (Additional file\\n6\\n) was obtained using the MedGen database and then manually curated. Since the number of genes was significantly smaller than in the case of autosomal recessive disease genes, we evaluated all of these genes in OMIM without comparing them with the lists from previous studies. From the original list of the 126 genes extracted from MedGen, we excluded genes for which we did not find evidence that a hemizygous variant in a male is associated with a Mendelian condition (Additional file\\n7\\n).\\nTo establish an upper bound for the frequency of potential secondary findings, we considered the list of stop-gain (nonsense), stop-loss and missense variants predicted to be deleterious by the RadialSVM algorithm [\\n\\n11\\n,\\n25\\n]. We excluded variants with minor allele frequency (MAF) >1\\xa0% in control databases (Exome Sequencing Project [ESP] and 1000 Genomes) or with MAF >2\\xa0% in our cohort and variants of low quality, i.e., with depth of coverage <20 and/or with the ratio of variant reads to total reads <0.2. The list of predicted deleterious variants was determined using the RadialSVM score provided in dbNSFP v.2.5 [\\n11\\n,\\n25\\n]. This support vector machine (SVM)-based ensemble prediction score incorporates ten other scores (SIFT, PolyPhen-2 HDIV, PolyPhen-2 HVAR, GERP++, MutationTaster, Mutation Assessor, FATHMM, LRT, SiPhy, PhyloP) and the maximum allele frequency observed in the 1000 Genomes populations [\\n11\\n]. In comparison studies [\\n26\\n], this method was shown to outperform other prediction algorithms with the highest Mathews correlation coefficient (0.474) and relatively low false negative rate (5\\xa0%) and false positive rate (57\\xa0%). RadialSVM was applied to all rare variants regardless of their classification in HGMD or ClinVar. We removed nonsense variants that are located in the last exon or in the last 50\\xa0bp of the penultimate exon, which are likely to escape nonsense-mediated decay (NMD) and thus they may be less damaging [\\n27\\n].\\nReported pathogenic variants were obtained from the ClinVar [\\n\\n10\\n] and HGMD (Professional version 2012.4) [\\n28\\n] databases. In this analysis, we considered a HGMD variant as reported pathogenic if it was annotated as “Disease-causing Mutation” (DM).\\nThe ClinVar data used in this analysis were extracted from the “clinvar-latest.vcf” file generated on 4 June 2014. Variants in ClinVar are reported by single or multiple submitters, which may result in discordant classifications. In this study, we defined a variant as “pathogenic” if: (i) no submitter reported this variant as “benign” or “likely benign”; and (ii) at least one submitter classified this variant as “pathogenic”. We did not include variants classified as “likely pathogenic” unless another submitter reported them as “pathogenic”. We did not use the recently implemented star rating in this analysis.\\n\\n\\n\\nNumber of ClinVar submissions for different ethnic groups\\n\\nWe performed a comparison of the number of ClinVar submission entries among four populations, including Europeans, Africans, Hispanics and Asians (see Additional file\\n\\n2\\nfor details).\\n\\n\\nResults\\n\\nAfter QC, 8554 exomes were available from the ARIC cohort and 2514 exomes were available from the CMG. The average coverage was 92× and 105×, respectively. We calculated coverage for the genes considered in this analysis and the average percentage of bases with coverage of 20× or greater was 95\\xa0% for both ARIC and CMG. ARIC included 5718 and 2836 self-reported EAs and AAs, respectively. The average numbers of variants per individual with a MAF <5\\xa0% were 1765 and 3870 for ARIC EAs and AAs, respectively. The CMG sample set is more ethnically heterogeneous resulting from the overall objective of the program and the global nature of their ascertainment. Additional file\\n\\n8\\nshows the distributions of the first two principal components relative to HapMap comparison groups. A pie diagram of the assigned ethnic group and study (ARIC or CMG) is presented as Fig.\\n1\\n.\\nFig. 1\\nAssigned ethnicity by study origin for 8554 ARIC and 2514 CMG individuals\\n\\n\\nReported pathogenic variants in SF genes\\n\\nIn the 11,068 exomes from ARIC and the CMG, 6221 unique nonsynonymous variants in the 56 ACMG SF genes had a MAF of less than 1\\xa0%, and these variants occurred 23,892 times across the study sample. The number of SF gene variants in an individual ranged from 0–11, with an average of 2.2 (median of 2) variants per individual. In 1550 individuals (~14\\xa0%), there were no nonsynonymous variants in any of the\\n\\na priori\\nidentified SF genes, and six individuals had 10 or 11 such variants (Fig.\\n2\\n). More than half of the variants (3831 out of 6221) were observed only once and, of those, 3091 variants were absent in the 1000 Genomes and ESP databases. Out of the 6221 nonsynonymous variants, we identified 2815 predicted deleterious variants occurring 8167 times. These variants were found in 51\\xa0% of individuals (5674 out of 11,068) with an average of 0.74 (median 1) predicted deleterious variants in the SF genes per individual (Fig.\\n2\\n).\\nFig. 2\\nDistribution of the number of annotated variants per individual in 56 ACMG SF genes.\\na\\nRare nonsynonymous variants.\\nb\\nPredicted deleterious variants\\nIn the 56 ACMG SF genes, we observed 642 occurrences of 136 unique variants reported in ClinVar as pathogenic. These variants were present in 5.6\\xa0% of study samples (623 out of 11,068 individuals); 19 individuals had more than one ClinVar reported pathogenic variant (Fig.\\n\\n3\\n). Considering the HGMD-Disease-causing Mutation (HGMD-DM) categorization, approximately 10\\xa0% of all unique variants (645 out of 6221) were reported as pathogenic. Analysis of the distribution of HGMD-DM variants showed that 35\\xa0% of individuals (3871 out of 11,068) have at least one DM variant and of those 847 have two or more (Fig.\\n3\\n).\\nFig. 3\\nDistribution of the number of reported pathogenic variants per individual in 56 ACMG SF genes according to HGMD-DM (\\nblack bars\\n), ClinVar (\\nlight gray bars\\n) and combined (\\ndark gray bars\\n) databases\\nNonsense variants in SF genes were found in 2\\xa0% of the study sample (243 out of 11,068). Out of 76 unique nonsense variants, 13 were reported as pathogenic by both ClinVar and HGMD; one variant was reported only by ClinVar and 18 only by HGMD. We detected 40 novel nonsense variants (53\\xa0% of all nonsense variants) in the SF genes not classified in ClinVar or HGMD. After excluding variants located in NMD-escaping regions, we observed 30 (32 occurrences) rare nonsense variants in the SF genes that are likely to be pathogenic.\\n\\n\\n\\nCarrier detection\\n\\nWe identified 111,049 rare nonsynonymous variants in the a priori defined list of 1423 autosomal recessive disease genes. The frequency distribution of the number of autosomal recessive disease variants per individual is shown in Fig.\\n\\n4\\nand appears bimodal, which reflects differences among ethnic groups, with EAs having lower numbers and AAs having higher numbers. After excluding non-deleterious variants, we observed 32,213 unique deleterious variants occurring 105,323 times. Individuals carried from 0–25 autosomal recessive disease variants with an average of ten (median nine), and one individual carried zero (Fig.\\n4\\n). The majority of all variants (20,028 out of 32,213) were observed only once, and 16,106 of these were not reported in 1000 Genomes and ESP databases.\\nFig. 4\\nDistribution of the number of variants per individual in autosomal recessive disease genes.\\na\\nRare nonsynonymous variants.\\nb\\nPredicted deleterious variants\\nThere were 1366 reported pathogenic ClinVar variants observed in the list of 1423 autosomal recessive disease genes, and these occurred 8634 times in the study sample. Fifty-three percent of individuals in the sample (5858 out of 11,068) carry at least one reported pathogenic ClinVar variant with an average of 0.78 (median\\u2009=\\u20091) variants per individual. Significantly more unique reported pathogenic variants (4435) were identified using HGMD-DM, and 95\\xa0% of the individuals (10,531 out of 11,068) contain at least one HGMD-DM variant in an autosomal recessive gene. The number of HGMD-DM variants in an individual ranged from 0 to 13 with an average of 3.2 (median of 3) per individual (Fig.\\n\\n5\\n). The majority of reported pathogenic ClinVar variants (1261 out of 1366) had a concordant annotation in HGMD. For these autosomal recessive genes, we also observed significantly higher MAFs of HGMD-DM variants (average MAF\\u2009=\\u20090.23\\xa0%; median MAF\\u2009=\\u20090.19\\xa0%) in comparison with the ClinVar variants (average MAF\\u2009=\\u20090.21\\xa0%; median MAF\\u2009=\\u20090.13\\xa0%) (Wilcoxon rank sum test,\\np\\nvalue\\u2009=\\u20094.2e-33).\\nFig. 5\\nDistribution of the number of reported pathogenic variants per individual in autosomal recessive disease genes according to HGMD-DM (\\nblack bars\\n), ClinVar (\\nlight gray bars\\n), and combined (\\ndark gray bars\\n) databases\\nWe found that 40\\xa0% of individuals (4164 out of 11,068) carry a nonsense variant in one of the autosomal recessive disease genes. From the total number of 2737 nonsense variants (5295 occurrences, average MAF\\u2009=\\u20090.06\\xa0%), 478 (1139 occurrences, average MAF\\u2009=\\u20090.09\\xa0%) were found in NMD-escaping regions, further supporting previous observations of a significantly higher average nonsense frequency in NMD-escaping regions than in other regions of a gene where they are expected to reduce gene expression [\\n\\n29\\n,\\n30\\n]. Approximately 10\\xa0% of nonsense variants in autosomal recessive genes (265 out of 2737) were reported as pathogenic by ClinVar and HGMD. Additionally, 393 variants were reported as pathogenic by only one of these databases (15 by ClinVar and 378 by HGMD). Seventy-five percent of the nonsense variants (2059 out of 2737) were not found in the 1000 Genomes and ESP databases. Out of those, 1667 (from 2705 occurrences) were located outside presumed NMD-escaping regions. These novel nonsense variants were identified in 22\\xa0% of all individuals (2380 out of 11,068).\\n\\n\\nPercentage of couples at risk of having affected offspring\\n\\nTo estimate the percentage of couples in the general population in which both partners have a reported pathogenic variant in the same autosomal recessive disease gene, we performed the following resampling experiment using data from the ARIC study. From this random sample of individuals, which is likely representative of EA and AA couples planning to have children, we randomly sampled two exomes (one from a male and one from a female) to evaluate if they share at least one autosomal recessive disease gene with a reported pathogenic ClinVar variant. After 1,000,000 iterations, we observed that 0.5\\xa0% of couples are at risk of having an affected offspring. When this experiment was repeated using predicted deleterious variants in the same list of genes, the proportion of at-risk couples was 17.6\\xa0%, which forms a likely upper bound for the estimate. Additionally, we calculated that 5\\xa0% of females (241 out of 4817) are carriers of a ClinVar reported pathogenic variant in an X-linked recessive disease gene. A predicted deleterious variant in at least one X-linked disease gene was found in 33\\xa0% of females (1587 out of 4817).\\n\\n\\n\\nComparison among ethnic groups\\n\\nTo compare the total burden of alleles in the SF and autosomal recessive genes among five ethnic groups included in this study, we determined the average number of variants per individual and the fraction of individuals carrying at least one variant for each ethnic group (Table\\n\\n1\\n). AAs carry, on average, around three nonsynonymous variants in SF genes, and at least one SF variant was identified in 96\\xa0% of all AAs, whereas individuals from the other groups contain significantly fewer (Fig.\\n6\\n). The fewest numbers of variants were found in individuals of European descent, where we observed that ~20\\xa0% of individuals do not have any nonsynonymous variants in SF genes. We did not observe significant differences in the number of reported pathogenic variants in ClinVar/HGMD among ethnic groups. Except in individuals of Asian descent where the sample size was small, 5–6\\xa0% of individuals in each group were carriers for at least one reported pathogenic variant according to ClinVar and 33–39\\xa0% in each group had an HGMD-DM variant.\\nTable 1\\nAverage frequencies of variants in 56 ACMG SF genes among five ethnic groups\\nPopulation\\nEuropean Americans (ARIC)\\nEuropeans (CMG)\\nAfrican Americans (ARIC)\\nAfricans (CMG)\\nTurks (CMG)\\nHispanics (CMG)\\nAsians (CMG)\\nNumber of samples\\n5718\\n1455\\n2836\\n122\\n498\\n388\\n51\\nAverage number of nonsynonymous variants per individual\\n1.683\\n1.878\\n3.159\\n2.852\\n2.271\\n2.472\\n2.667\\nFraction of individuals with nonsynonymous variants\\n0.807\\n0.84\\n0.955\\n0.959\\n0.896\\n0.93\\n0.922\\nAverage number of predicted deleterious variants per individual\\n0.612\\n0.737\\n0.963\\n0.779\\n0.865\\n0.765\\n0.843\\nFraction of individuals with predicted deleterious variants\\n0.449\\n0.529\\n0.615\\n0.549\\n0.578\\n0.539\\n0.569\\nAverage number of ClinVar variants per individual\\n0.06\\n0.049\\n0.06\\n0.057\\n0.056\\n0.044\\n0.137\\nFraction of individuals with ClinVar variants\\n0.058\\n0.048\\n0.058\\n0.057\\n0.052\\n0.044\\n0.137\\nAverage number of HGMD variants per individual\\n0.416\\n0.463\\n0.485\\n0.459\\n0.4\\n0.428\\n0.412\\nFraction of individuals with HGMD-DM variants\\n0.335\\n0.355\\n0.38\\n0.393\\n0.333\\n0.34\\n0.353\\nAverage number of nonsense variants per individual\\n0.007\\n0.006\\n0.013\\n0.008\\n0.008\\n0.003\\n0\\nFraction of individuals with nonsense variants\\n0.007\\n0.006\\n0.013\\n0.008\\n0.008\\n0.003\\n0\\nThese frequencies are reported for: 1) all rare nonsynonymous variants, 2) predicted deleterious variants, 3) reported pathogenic ClinVar variants, 4) HGMD-DM variants, 5) nonsense variants\\nFig. 6\\nDistributions of the number of annotated nonsynonymous variants among ethnic groups in 56 ACMG SF genes (\\na\\n) and in autosomal recessive disease genes (\\nb\\n)\\nAnalysis of autosomal recessive genes showed that, on average, individuals of European ancestry carry from 32–35 nonsynonymous variants, whereas individuals of Hispanic (46), Turkish (46), Asian (57) and African descent (56–60) carry more (Table\\n\\n2\\n). An analogous pattern was observed for deleterious variants, but the relative differences among populations are slightly smaller. In contrast, the highest average number of reported pathogenic ClinVar variants was found in the European descent population (0.88–0.92), whereas the average in the African descent population was significantly smaller (0.49–0.53). The averages for other populations varied from 0.63 (Asians) and 0.67 (Hispanic) to 0.80 (Turkish). Similarly, the average number of HGMD-DM variants in individuals of European descent (3.44–3.59) was ~50\\xa0% higher than the average in those of African descent (2.23–2.35). Individuals with Turkish ancestry had the highest carrier frequency of HGMD-DM autosomal recessive alleles (3.85).\\nTable 2\\nAverage frequencies of variants in autosomal recessive disease genes among five ethnic groups\\nPopulation\\nEuropean Americans (ARIC)\\nEuropeans (CMG)\\nAfrican Americans (ARIC)\\nAfricans (CMG)\\nTurks (CMG)\\nHispanics (CMG)\\nAsians (CMG)\\nNumber of samples\\n5718\\n1455\\n2836\\n122\\n498\\n388\\n51\\nAverage number of nonsynonymous variants per individual\\n32.332\\n35.135\\n60.265\\n56.156\\n46.177\\n45.943\\n57.176\\nFraction of individuals with nonsynonymous variants\\n1\\n1\\n1\\n1\\n1\\n1\\n1\\nAverage number of predicted deleterious variants per individual\\n8.132\\n8.792\\n12.187\\n11.984\\n10.871\\n10.369\\n11.176\\nFraction of individuals with predicted deleterious variants\\n1\\n1\\n1\\n1\\n1\\n1\\n1\\nAverage number of ClinVar variants per individual\\n0.883\\n0.919\\n0.527\\n0.492\\n0.801\\n0.675\\n0.627\\nFraction of individuals with ClinVar variants\\n0.583\\n0.601\\n0.397\\n0.369\\n0.538\\n0.487\\n0.431\\nAverage number of HGMD variants per individual\\n3.44\\n3.59\\n2.346\\n2.23\\n3.851\\n3.423\\n3.039\\nFraction of individuals with HGMD-DM variants\\n0.965\\n0.977\\n0.904\\n0.926\\n0.978\\n0.969\\n1\\nAverage number of nonsense variants per individuals\\n0.358\\n0.402\\n0.385\\n0.311\\n0.416\\n0.423\\n0.412\\nFraction of individuals with nonsense variants\\n0.301\\n0.321\\n0.316\\n0.27\\n0.345\\n0.338\\n0.353\\nThese frequencies are reported for: 1) all rare nonsynonymous variants, 2) predicted deleterious variants, 3) reported pathogenic ClinVar variants, 4) HGMD-DM variants, 5) nonsense variants\\n\\n\\nPopulation diversity in ClinVar\\n\\nA comparison of the number of ClinVar entries among different populations revealed apparent enrichment of variants submitted for European individuals (12,918 out of 36,933 records; Additional file\\n\\n9\\n). Asians (11,712 records) and Africans (6148 records) are underrepresented in ClinVar, especially if one takes into account the size of the populations in comparison to Europeans.\\n\\n\\nDiscussion\\n\\nWe sequenced the exomes of 11,068 individuals from a large biracial cohort study and from a study of presumed Mendelian disease that includes individuals from five ethnic groups, and analyzed the frequency of SFs and assessed the autosomal recessive disease allele carrier status. In the 56 ACMG SF genes, the average number of deleterious variants per individual was 0.74, and 51\\xa0% of individuals had at least one such variant. There were 642 occurrences of 136 unique SF variants reported in the ClinVar database as pathogenic. There were 1366 reported pathogenic ClinVar variants observed in the list of 1423 autosomal recessive disease genes. We observed 32,213 unique deleterious variants in autosomal recessive disease genes occurring 105,323 times, with an average of 10 such variants per individual. About one-half of one percent of couples are at risk of having an affected offspring for an autosomal recessive disorder based on ClinVar variants reported as pathogenic. Surprisingly, this number is 17.6\\xa0% if all observed predicted deleterious alleles in autosomal recessive disorder genes are considered. This forms a likely upper bound for the frequency of at-risk couples as many of these presumed damaging variants may have no effect on protein function or disease risk, emphasizing the future value of experimentally evaluating their potential functional consequences and elucidating their real pathogenicity.\\n\\nAn informative comparison of the SFs observed here with the frequencies reported from previous studies is challenging because the list of genes, variant classification databases and interpretation of clinical significance are evolving. For example, Johnston et al. [\\n\\n31\\n] screened variants in 37 cancer-susceptibility genes, but only 23 of these genes were included in the ACMG list. Berg et al. [\\n32\\n] studied SFs in 2016 genes categorized into “bins” based on clinical utility and validity. One of these bins includes 161 clinically actionable genes, from which 31 genes were used in our study. Dorschner et al. [\\n9\\n] analyzed 114 genes, including 52 from the ACMG recommendation. Despite these differences, it is possible to identify emerging trends.\\nIt is known that individuals of African descent have more nonsynonymous SNVs than individuals from other populations [\\n\\n33\\n] so that one would expect an enrichment of reported pathogenic variants in this group. In fact, we found that the average number of nonsense variants in AAs (0.013) is significantly higher than in EAs (0.007). The analysis of predicted deleterious variants further supports this finding. Similarly, Dorschner et al. [\\n9\\n], who analyzed 500 EAs and 500 AAs, noted that out of five novel likely pathogenic nonsense variants, three were found in AAs. On the other hand, we observe the opposite trend when only previously reported pathogenic variants are considered. For example, the average number of reported pathogenic ClinVar variants in autosomal recessive disease-causing genes is 0.53 in AAs and 0.88 in EAs. Consistent with our observation of the striking deficit of pathogenic variants in AAs, Dorschner et al. [\\n9\\n] reported that only 3 out of 18 pathogenic or likely pathogenic variants were present in individuals of African descent. It was postulated that the most likely explanation for this finding is the underrepresentation of African descent individuals in the clinical genetics literature [\\n9\\n]. Although other hypotheses, such as a European bottleneck, were previously considered to explain the increased number of deleterious variants in Europeans [\\n34\\n], recent studies show no evidence of a higher load of deleterious variants in non-African populations [\\n35\\n]. In this study, we explore the frequency of SF variants in Turkish, Hispanic and Asian populations. In general, we observed that the frequencies of both reported pathogenic and predicted deleterious variants are between the range of the two extremes defined by European and African descent populations.\\nAs previously noted [\\n\\n31\\n], large scale manual curation of variants in the era of massive whole exome or whole genome sequencing to identify clinical pathogenicity is not practical. Therefore, automation of curated databases containing pathogenic variants and better prediction algorithms are each necessary. In addition to the number of HGMD-DM variants, our study reports the frequencies of reported pathogenic variants derived from the ClinVar database. The number of pathogenic variants reported in ClinVar is one-sixth of the number in HGMD-DM [\\n36\\n], and 136 SF ClinVar and 645 SF HGMD-DM variants were identified in this study. Our estimate of the reported pathogenic variant frequency in SF genes (5.6\\xa0%) based on ClinVar is slightly higher than the frequencies reported by Dorschner et al. [\\n9\\n] (1.2–3.4\\xa0%), who performed additional manual curation. On the other hand, our estimate was based on the annotations provided in ClinVar, which established more conservative and transparent inclusion criteria for pathogenic variants. Although no database is error-free, well-structured repositories not only provide an opportunity to streamline variant filtering and automate the first pass analysis, but also help avoid error-prone subjective decisions intrinsically introduced by manual curation.\\nIn this study, 2171 annotated predicted deleterious nonsynonymous variants in SF genes were not present in either ClinVar or HGMD, and these variants have a significantly lower allele frequency than the variants found in those data resources (Additional file\\n\\n10\\n). The high frequency of HGMD/ClinVar variants is most likely because they have already been seen in other studies, which increases the prior probability of observing this variant again in a sample from the general population. Having a low MAF is a predictor of variant pathogenicity [\\n37\\n] and a fraction of these rare unclassified variants are likely to be pathogenic. In the case of nonsense variants in SF genes, this fraction can be as high as 39\\xa0% based on the observation that 30 out of 76 likely pathogenic nonsense variants in SF genes were not reported in HGMD or ClinVar.\\nAlthough reported pathogenic ClinVar variants and novel nonsense variants were found in only a small percentage of individuals, we observed that about half of the individuals in our sample (5674 out of 11,068) have a predicted deleterious nonsynonymous variant in at least one SF gene. We anticipate that with the accelerated pace of gene and pathogenic variant discovery and the growth of commercial clinical sequencing programs [\\n\\n2\\n], the number of ClinVar variants and the amount of additional data evaluating the level of clinical significance of previously reported variants will greatly increase, which will further improve the quality of variant classification. We also observed that African and Asian populations are underrepresented in the ClinVar database (Additional file\\n9\\n). Therefore, a larger number of submissions from ethnicities other than Europeans will enable more accurate comparison of the burden of pathogenic variants among different populations.\\nThere is growing interest among the public regarding carrier detection for autosomal recessive conditions. Carrier testing is no longer limited to specific ethnic groups having a high frequency of certain conditions or extended families aggregating for a specific condition. Surveys indicate that more than two-thirds of people would like to have their genome sequenced [\\n\\n38\\n]. As the cost of sequencing continues to decline and the ability to interpret the sequence information with respect to health and disease improves, the frequency is likely to continue to increase. Sequence-based carrier tests fall into two subtypes: targeted sequencing of known disease genes and exome or whole genome sequencing. Targeted sequencing lacks the ability to rapidly incorporate newly reported disease genes. In a recent study, 30\\xa0% of whole exome-based diagnoses were in genes reported since 2011 [\\n2\\n]. The second category of test holds the most promise because of its comprehensive nature, but suffers from its relatively high cost and the need to catalogue and update potentially large numbers of variants of unknown significance. Formal cost-benefit analyses of these options are limited [\\n39\\n–\\n42\\n], and further studies are needed in this growing molecular diagnostic area.\\nWe estimated that a minimum of 0.5\\xa0% of randomly paired individuals are at 1 in 4 risk of having an offspring affected by alleles in a known recessive disease gene. When all predicted deleterious variants are considered, we observed that the fraction of couples being at risk can be as high as 17.6\\xa0%. The global prevalence of all monogenic diseases is estimated to be ~10/1000 [\\n\\n43\\n] and autosomal recessive (AR) diseases account for one-third of them [\\n44\\n], implying that frequency of AR disease is ~3/1000. This further suggests that the expected fraction of couples at risk for having an offspring with an AR disorder is ~1.2\\xa0% (4\\u2009×\\u20093/1000), a value much smaller than 17.6\\xa0%. The difference is likely attributable to small effect sizes, incomplete penetrance, subclinical manifestations of Mendelian diseases, or Mendelian forms of common diseases. Similarly, we estimated the percentage of females carrying a reported pathogenic ClinVar variant in X-linked disease genes to be 5\\xa0% and those having predicted deleterious variants in the same list of genes to be 33\\xa0%. As the number of gene discoveries continues to increase, these proportions will also increase. A comparison of the numbers derived from reported pathogenic variants and the numbers calculated based on predicted deleterious variants (i.e., 0.5\\xa0% versus 17.6\\xa0% or 5\\xa0% versus 33\\xa0%) reflects the lower and upper limits of the total number of cases for which potentially pathogenic variants should be evaluated more carefully. While reported pathogenic variants are likely to be included in the primary report of a carrier test, additional deleterious variants of unknown significance can be also considered if additional data are present (e.g., family history) and reevaluated when new information becomes available.\\nThe burden of recessive carrier status has been previously investigated [\\n\\n23\\n,\\n24\\n,\\n32\\n,\\n45\\n,\\n46\\n]. Lazarin et al. [\\n45\\n] used targeted genotyping and showed that 24\\xa0% of individuals are carriers for selected, previously reported recessive alleles in 108 genes. Bell et al. [\\n23\\n] sequenced 437 pediatric recessive disorder genes and obtained somewhat higher estimates (2.8 variants per individual) than that of Lazarin et al. [\\n45\\n]. In our study, we report the average number of variants in 1423 autosomal recessive disease genes to be at least as high as that reported by Bell et al. [\\n23\\n]. We observed that each individual in our study sample is a carrier, on average, of 0.78 reported ClinVar pathogenic variants. Although the false positive rate of available prediction software is still far from excellence (estimated false positive rate of RadialSVM is ~57\\xa0% [\\n26\\n]), the average value of ten predicted deleterious variants per individual is a reasonable approximation of the upper limit for the total burden of autosomal recessive carrier status.\\n\\n\\nConclusions\\n\\nSFs were ascertained in AAs, EAs and five additional populations. Considering the list of 56 SF genes, the expected number of reported pathogenic SFs in each newly sequenced individual is small in comparison with the expected number of predicted deleterious variants. For example, each individual in this study sample has a 1 in 18 (5.6\\xa0% of study sample) chance of possessing a previously reported ClinVar variant in one of the 56 ACMG actionable genes. In contrast, when considering all cases with reported pathogenic ClinVar variants, we found that each individual has 1 in 2 risk (51\\xa0% of study sample) of having a predicted deleterious nonsynonymous variant in these same genes. Similarly, 0.5\\xa0% of couples are at risk of having an affected offspring for an autosomal recessive disorder based on ClinVar variants; this number is 17.6\\xa0% considering all observed predicted deleterious alleles in autosomal recessive disorder genes. These data define the upper and lower bound of the frequency of SF findings and carrier detection results. We observed ethnic differences in the frequency of secondary findings and autosomal recessive carrier frequencies. AAs carry, on average, around three nonsynonymous variants in the SF genes, whereas EAs have around two. For carriers of autosomal recessive disease alleles, individuals of European ancestry had the lowest carrier frequency, while individuals of African ancestry had the highest. The highest average number of reported pathogenic variants was found in the European population, but this likely reflects a reporting bias caused by the higher volume of submissions for this widely studied ethnic group (Additional file\\n\\n9\\n). Clearly, more discovery efforts are needed in non-European ancestry populations.'"
      ]
     },
     "execution_count": 52,
     "metadata": {},
     "output_type": "execute_result"
    }
   ],
   "execution_count": 52
  },
  {
   "metadata": {
    "ExecuteTime": {
     "end_time": "2024-07-29T08:25:59.809714Z",
     "start_time": "2024-07-29T08:25:51.478540Z"
    }
   },
   "cell_type": "code",
   "source": "existing = [label in fetch_text_from_pubmed_id(pmid) for pmid, label in positive_examples]",
   "id": "1a716ffc4be6e13a",
   "outputs": [],
   "execution_count": 33
  },
  {
   "metadata": {
    "ExecuteTime": {
     "end_time": "2024-07-29T09:11:25.439928Z",
     "start_time": "2024-07-29T09:11:19.987153Z"
    }
   },
   "cell_type": "code",
   "source": [
    "tgambin_answers = get_answers(tgambin_text)\n",
    "tgambin_answers"
   ],
   "id": "b875fe080e135cf0",
   "outputs": [
    {
     "name": "stdout",
     "output_type": "stream",
     "text": [
      "NEXT ANSWER\n",
      "Here are the fragments from the provided publication that include genomic region coordinates in the specified format:\n",
      "\n",
      "1. \"We excluded nonsense variants that are located in the last exon or in the last 50 bp of the penultimate exon, which are likely to escape nonsense-mediated decay (NMD) and thus they may be less damaging.\"\n",
      "\n",
      "2. \"The data presented here enable assessment of the impact of a comprehensive carrier testing program for established recessive disorders, keeping in mind the ever-changing nature of the reference databases, such as ClinVar and dbNSFP.\"\n",
      "\n",
      "(Note that no specific genomic coordinates resembling \"chrX:XXXXX\" format were mentioned in the text portions, which might indicate that either the genomic coordinates were not present, or they have been abstracted in multiple-step procedures or references that were truncated.)\n",
      "NEXT ANSWER\n",
      "From the provided publication text, there are no explicit genomic region coordinates formatted as specified (e.g., chr10:23508365, chrY:∼124349-409949). The text primarily discusses findings related to variants, diseases, and population genetics without providing specific genomic coordinates. If you have other documents or need information on a different topic, please let me know!\n"
     ]
    },
    {
     "data": {
      "text/plain": [
       "['Here are the fragments from the provided publication that include genomic region coordinates in the specified format:\\n\\n1. \"We excluded nonsense variants that are located in the last exon or in the last 50 bp of the penultimate exon, which are likely to escape nonsense-mediated decay (NMD) and thus they may be less damaging.\"\\n\\n2. \"The data presented here enable assessment of the impact of a comprehensive carrier testing program for established recessive disorders, keeping in mind the ever-changing nature of the reference databases, such as ClinVar and dbNSFP.\"\\n\\n(Note that no specific genomic coordinates resembling \"chrX:XXXXX\" format were mentioned in the text portions, which might indicate that either the genomic coordinates were not present, or they have been abstracted in multiple-step procedures or references that were truncated.)',\n",
       " 'From the provided publication text, there are no explicit genomic region coordinates formatted as specified (e.g., chr10:23508365, chrY:∼124349-409949). The text primarily discusses findings related to variants, diseases, and population genetics without providing specific genomic coordinates. If you have other documents or need information on a different topic, please let me know!']"
      ]
     },
     "execution_count": 53,
     "metadata": {},
     "output_type": "execute_result"
    }
   ],
   "execution_count": 53
  },
  {
   "metadata": {
    "ExecuteTime": {
     "end_time": "2024-07-29T09:13:02.939890Z",
     "start_time": "2024-07-29T09:13:02.936491Z"
    }
   },
   "cell_type": "code",
   "source": "'Fraction of individuals with nonsynonymous variants' in tgambin_text",
   "id": "9aea9f5b9c2accd0",
   "outputs": [
    {
     "data": {
      "text/plain": [
       "True"
      ]
     },
     "execution_count": 54,
     "metadata": {},
     "output_type": "execute_result"
    }
   ],
   "execution_count": 54
  },
  {
   "metadata": {
    "ExecuteTime": {
     "end_time": "2024-07-29T09:16:56.427569Z",
     "start_time": "2024-07-29T09:16:56.421757Z"
    }
   },
   "cell_type": "code",
   "source": [
    "import re\n",
    "\n",
    "def get_word_count(text):\n",
    "    return len(re.findall(r'\\b\\w+\\b', text))\n",
    "\n",
    "def extract_with_context(text, fragment, context_words=500):\n",
    "    # Split the text into words\n",
    "    words = re.findall(r'\\b\\w+\\b', text)\n",
    "    \n",
    "    # Find the start and end positions of the fragment within the text\n",
    "    fragment_start = text.find(fragment)\n",
    "    if fragment_start == -1:\n",
    "        return \"Fragment not found in text.\"\n",
    "    \n",
    "    # Calculate the word index of the fragment start\n",
    "    word_index_start = len(re.findall(r'\\b\\w+\\b', text[:fragment_start]))\n",
    "    \n",
    "    # Calculate start and end index for context\n",
    "    context_start_index = max(0, word_index_start - context_words)\n",
    "    context_end_index = word_index_start + get_word_count(fragment) + context_words\n",
    "    \n",
    "    # Extract the context words\n",
    "    context = ' '.join(words[context_start_index:context_end_index])\n",
    "    \n",
    "    return context\n",
    "\n",
    "# Example usage\n",
    "text = tgambin_text\n",
    "fragment = \"Fraction of individuals with nonsynonymous variants\"\n",
    "context = extract_with_context(text, fragment)\n",
    "\n",
    "print(context)\n"
   ],
   "id": "a4290cc971255620",
   "outputs": [
    {
     "name": "stdout",
     "output_type": "stream",
     "text": [
      "only one of these databases 15 by ClinVar and 378 by HGMD Seventy five percent of the nonsense variants 2059 out of 2737 were not found in the 1000 Genomes and ESP databases Out of those 1667 from 2705 occurrences were located outside presumed NMD escaping regions These novel nonsense variants were identified in 22 of all individuals 2380 out of 11 068 Percentage of couples at risk of having affected offspring To estimate the percentage of couples in the general population in which both partners have a reported pathogenic variant in the same autosomal recessive disease gene we performed the following resampling experiment using data from the ARIC study From this random sample of individuals which is likely representative of EA and AA couples planning to have children we randomly sampled two exomes one from a male and one from a female to evaluate if they share at least one autosomal recessive disease gene with a reported pathogenic ClinVar variant After 1 000 000 iterations we observed that 0 5 of couples are at risk of having an affected offspring When this experiment was repeated using predicted deleterious variants in the same list of genes the proportion of at risk couples was 17 6 which forms a likely upper bound for the estimate Additionally we calculated that 5 of females 241 out of 4817 are carriers of a ClinVar reported pathogenic variant in an X linked recessive disease gene A predicted deleterious variant in at least one X linked disease gene was found in 33 of females 1587 out of 4817 Comparison among ethnic groups To compare the total burden of alleles in the SF and autosomal recessive genes among five ethnic groups included in this study we determined the average number of variants per individual and the fraction of individuals carrying at least one variant for each ethnic group Table 1 AAs carry on average around three nonsynonymous variants in SF genes and at least one SF variant was identified in 96 of all AAs whereas individuals from the other groups contain significantly fewer Fig 6 The fewest numbers of variants were found in individuals of European descent where we observed that 20 of individuals do not have any nonsynonymous variants in SF genes We did not observe significant differences in the number of reported pathogenic variants in ClinVar HGMD among ethnic groups Except in individuals of Asian descent where the sample size was small 5 6 of individuals in each group were carriers for at least one reported pathogenic variant according to ClinVar and 33 39 in each group had an HGMD DM variant Table 1 Average frequencies of variants in 56 ACMG SF genes among five ethnic groups Population European Americans ARIC Europeans CMG African Americans ARIC Africans CMG Turks CMG Hispanics CMG Asians CMG Number of samples 5718 1455 2836 122 498 388 51 Average number of nonsynonymous variants per individual 1 683 1 878 3 159 2 852 2 271 2 472 2 667 Fraction of individuals with nonsynonymous variants 0 807 0 84 0 955 0 959 0 896 0 93 0 922 Average number of predicted deleterious variants per individual 0 612 0 737 0 963 0 779 0 865 0 765 0 843 Fraction of individuals with predicted deleterious variants 0 449 0 529 0 615 0 549 0 578 0 539 0 569 Average number of ClinVar variants per individual 0 06 0 049 0 06 0 057 0 056 0 044 0 137 Fraction of individuals with ClinVar variants 0 058 0 048 0 058 0 057 0 052 0 044 0 137 Average number of HGMD variants per individual 0 416 0 463 0 485 0 459 0 4 0 428 0 412 Fraction of individuals with HGMD DM variants 0 335 0 355 0 38 0 393 0 333 0 34 0 353 Average number of nonsense variants per individual 0 007 0 006 0 013 0 008 0 008 0 003 0 Fraction of individuals with nonsense variants 0 007 0 006 0 013 0 008 0 008 0 003 0 These frequencies are reported for 1 all rare nonsynonymous variants 2 predicted deleterious variants 3 reported pathogenic ClinVar variants 4 HGMD DM variants 5 nonsense variants Fig 6 Distributions of the number of annotated nonsynonymous variants among ethnic groups in 56 ACMG SF genes a and in autosomal recessive disease genes b Analysis of autosomal recessive genes showed that on average individuals of European ancestry carry from 32 35 nonsynonymous variants whereas individuals of Hispanic 46 Turkish 46 Asian 57 and African descent 56 60 carry more Table 2 An analogous pattern was observed for deleterious variants but the relative differences among populations are slightly smaller In contrast the highest average number of reported pathogenic ClinVar variants was found in the European descent population 0 88 0 92 whereas the average in the African descent population was significantly smaller 0 49 0 53 The averages for other populations varied from 0 63 Asians and 0 67 Hispanic to 0 80 Turkish Similarly the average number of HGMD DM variants in individuals of European descent 3 44 3 59 was 50 higher than the average in those of African descent 2 23 2 35 Individuals with Turkish ancestry had the highest carrier frequency of HGMD DM autosomal recessive alleles 3 85 Table 2 Average frequencies of variants in autosomal recessive disease genes among five ethnic groups Population European Americans ARIC Europeans CMG African Americans ARIC Africans CMG Turks CMG Hispanics CMG Asians CMG Number of samples 5718 1455 2836 122 498 388 51 Average number of nonsynonymous variants per individual 32 332 35 135 60 265 56 156 46 177 45 943 57 176 Fraction of individuals with nonsynonymous variants 1 1 1 1 1 1 1 Average number of predicted deleterious variants per individual 8 132 8 792 12 187 11 984 10 871 10 369 11 176 Fraction of individuals with predicted deleterious variants 1 1 1 1 1 1\n"
     ]
    }
   ],
   "execution_count": 58
  },
  {
   "metadata": {
    "ExecuteTime": {
     "end_time": "2024-07-29T08:45:59.655026Z",
     "start_time": "2024-07-29T08:45:59.651834Z"
    }
   },
   "cell_type": "code",
   "source": [
    "print(rate)\n",
    "print(existing)"
   ],
   "id": "e0dfd925baf8407b",
   "outputs": [
    {
     "name": "stdout",
     "output_type": "stream",
     "text": [
      "[True, True, True, True, True, True, False]\n",
      "[True, True, True, True, True, True, False]\n"
     ]
    }
   ],
   "execution_count": 43
  },
  {
   "metadata": {},
   "cell_type": "code",
   "outputs": [],
   "execution_count": null,
   "source": "",
   "id": "25277d21808f0c1b"
  },
  {
   "cell_type": "markdown",
   "id": "0fa6303a-00f0-4a71-b56c-889cda8a263d",
   "metadata": {},
   "source": [
    "## Version of code with conversation history"
   ]
  },
  {
   "cell_type": "code",
   "execution_count": 24,
   "id": "012bbc6c-f475-4bbd-b18d-bb8c7da5e8b5",
   "metadata": {},
   "outputs": [
    {
     "name": "stdout",
     "output_type": "stream",
     "text": [
      "To search for the genome coordinates in the provided publications, I will need the text of the publications. Please provide the text so that I can help you extract the coordinates with a text window of 15 words.\n"
     ]
    },
    {
     "ename": "InvalidRequestError",
     "evalue": "This model's maximum context length is 16385 tokens. However, your messages resulted in 27414 tokens. Please reduce the length of the messages.",
     "output_type": "error",
     "traceback": [
      "\u001B[0;31m---------------------------------------------------------------------------\u001B[0m",
      "\u001B[0;31mInvalidRequestError\u001B[0m                       Traceback (most recent call last)",
      "Cell \u001B[0;32mIn[24], line 53\u001B[0m\n\u001B[1;32m     50\u001B[0m final_prompt \u001B[38;5;241m=\u001B[39m create_prompt(chunk, question)\n\u001B[1;32m     51\u001B[0m conversation_history\u001B[38;5;241m.\u001B[39mappend({\u001B[38;5;124m\"\u001B[39m\u001B[38;5;124mrole\u001B[39m\u001B[38;5;124m\"\u001B[39m: \u001B[38;5;124m\"\u001B[39m\u001B[38;5;124muser\u001B[39m\u001B[38;5;124m\"\u001B[39m, \u001B[38;5;124m\"\u001B[39m\u001B[38;5;124mcontent\u001B[39m\u001B[38;5;124m\"\u001B[39m: final_prompt})\n\u001B[0;32m---> 53\u001B[0m response \u001B[38;5;241m=\u001B[39m \u001B[43mopenai\u001B[49m\u001B[38;5;241;43m.\u001B[39;49m\u001B[43mChatCompletion\u001B[49m\u001B[38;5;241;43m.\u001B[39;49m\u001B[43mcreate\u001B[49m\u001B[43m(\u001B[49m\n\u001B[1;32m     54\u001B[0m \u001B[43m    \u001B[49m\u001B[43mmodel\u001B[49m\u001B[38;5;241;43m=\u001B[39;49m\u001B[38;5;124;43m\"\u001B[39;49m\u001B[38;5;124;43mgpt-3.5-turbo\u001B[39;49m\u001B[38;5;124;43m\"\u001B[39;49m\u001B[43m,\u001B[49m\n\u001B[1;32m     55\u001B[0m \u001B[43m    \u001B[49m\u001B[43mmessages\u001B[49m\u001B[38;5;241;43m=\u001B[39;49m\u001B[43mconversation_history\u001B[49m\n\u001B[1;32m     56\u001B[0m \u001B[43m\u001B[49m\u001B[43m)\u001B[49m\n\u001B[1;32m     58\u001B[0m \u001B[38;5;66;03m# Extract the response and append to conversation history\u001B[39;00m\n\u001B[1;32m     59\u001B[0m assistant_response \u001B[38;5;241m=\u001B[39m response\u001B[38;5;241m.\u001B[39mchoices[\u001B[38;5;241m0\u001B[39m]\u001B[38;5;241m.\u001B[39mmessage[\u001B[38;5;124m\"\u001B[39m\u001B[38;5;124mcontent\u001B[39m\u001B[38;5;124m\"\u001B[39m]\n",
      "File \u001B[0;32m~/anaconda3/envs/enhancerlit/lib/python3.11/site-packages/openai/api_resources/chat_completion.py:25\u001B[0m, in \u001B[0;36mChatCompletion.create\u001B[0;34m(cls, *args, **kwargs)\u001B[0m\n\u001B[1;32m     23\u001B[0m \u001B[38;5;28;01mwhile\u001B[39;00m \u001B[38;5;28;01mTrue\u001B[39;00m:\n\u001B[1;32m     24\u001B[0m     \u001B[38;5;28;01mtry\u001B[39;00m:\n\u001B[0;32m---> 25\u001B[0m         \u001B[38;5;28;01mreturn\u001B[39;00m \u001B[38;5;28;43msuper\u001B[39;49m\u001B[43m(\u001B[49m\u001B[43m)\u001B[49m\u001B[38;5;241;43m.\u001B[39;49m\u001B[43mcreate\u001B[49m\u001B[43m(\u001B[49m\u001B[38;5;241;43m*\u001B[39;49m\u001B[43margs\u001B[49m\u001B[43m,\u001B[49m\u001B[43m \u001B[49m\u001B[38;5;241;43m*\u001B[39;49m\u001B[38;5;241;43m*\u001B[39;49m\u001B[43mkwargs\u001B[49m\u001B[43m)\u001B[49m\n\u001B[1;32m     26\u001B[0m     \u001B[38;5;28;01mexcept\u001B[39;00m TryAgain \u001B[38;5;28;01mas\u001B[39;00m e:\n\u001B[1;32m     27\u001B[0m         \u001B[38;5;28;01mif\u001B[39;00m timeout \u001B[38;5;129;01mis\u001B[39;00m \u001B[38;5;129;01mnot\u001B[39;00m \u001B[38;5;28;01mNone\u001B[39;00m \u001B[38;5;129;01mand\u001B[39;00m time\u001B[38;5;241m.\u001B[39mtime() \u001B[38;5;241m>\u001B[39m start \u001B[38;5;241m+\u001B[39m timeout:\n",
      "File \u001B[0;32m~/anaconda3/envs/enhancerlit/lib/python3.11/site-packages/openai/api_resources/abstract/engine_api_resource.py:153\u001B[0m, in \u001B[0;36mEngineAPIResource.create\u001B[0;34m(cls, api_key, api_base, api_type, request_id, api_version, organization, **params)\u001B[0m\n\u001B[1;32m    127\u001B[0m \u001B[38;5;129m@classmethod\u001B[39m\n\u001B[1;32m    128\u001B[0m \u001B[38;5;28;01mdef\u001B[39;00m \u001B[38;5;21mcreate\u001B[39m(\n\u001B[1;32m    129\u001B[0m     \u001B[38;5;28mcls\u001B[39m,\n\u001B[0;32m   (...)\u001B[0m\n\u001B[1;32m    136\u001B[0m     \u001B[38;5;241m*\u001B[39m\u001B[38;5;241m*\u001B[39mparams,\n\u001B[1;32m    137\u001B[0m ):\n\u001B[1;32m    138\u001B[0m     (\n\u001B[1;32m    139\u001B[0m         deployment_id,\n\u001B[1;32m    140\u001B[0m         engine,\n\u001B[0;32m   (...)\u001B[0m\n\u001B[1;32m    150\u001B[0m         api_key, api_base, api_type, api_version, organization, \u001B[38;5;241m*\u001B[39m\u001B[38;5;241m*\u001B[39mparams\n\u001B[1;32m    151\u001B[0m     )\n\u001B[0;32m--> 153\u001B[0m     response, _, api_key \u001B[38;5;241m=\u001B[39m \u001B[43mrequestor\u001B[49m\u001B[38;5;241;43m.\u001B[39;49m\u001B[43mrequest\u001B[49m\u001B[43m(\u001B[49m\n\u001B[1;32m    154\u001B[0m \u001B[43m        \u001B[49m\u001B[38;5;124;43m\"\u001B[39;49m\u001B[38;5;124;43mpost\u001B[39;49m\u001B[38;5;124;43m\"\u001B[39;49m\u001B[43m,\u001B[49m\n\u001B[1;32m    155\u001B[0m \u001B[43m        \u001B[49m\u001B[43murl\u001B[49m\u001B[43m,\u001B[49m\n\u001B[1;32m    156\u001B[0m \u001B[43m        \u001B[49m\u001B[43mparams\u001B[49m\u001B[38;5;241;43m=\u001B[39;49m\u001B[43mparams\u001B[49m\u001B[43m,\u001B[49m\n\u001B[1;32m    157\u001B[0m \u001B[43m        \u001B[49m\u001B[43mheaders\u001B[49m\u001B[38;5;241;43m=\u001B[39;49m\u001B[43mheaders\u001B[49m\u001B[43m,\u001B[49m\n\u001B[1;32m    158\u001B[0m \u001B[43m        \u001B[49m\u001B[43mstream\u001B[49m\u001B[38;5;241;43m=\u001B[39;49m\u001B[43mstream\u001B[49m\u001B[43m,\u001B[49m\n\u001B[1;32m    159\u001B[0m \u001B[43m        \u001B[49m\u001B[43mrequest_id\u001B[49m\u001B[38;5;241;43m=\u001B[39;49m\u001B[43mrequest_id\u001B[49m\u001B[43m,\u001B[49m\n\u001B[1;32m    160\u001B[0m \u001B[43m        \u001B[49m\u001B[43mrequest_timeout\u001B[49m\u001B[38;5;241;43m=\u001B[39;49m\u001B[43mrequest_timeout\u001B[49m\u001B[43m,\u001B[49m\n\u001B[1;32m    161\u001B[0m \u001B[43m    \u001B[49m\u001B[43m)\u001B[49m\n\u001B[1;32m    163\u001B[0m     \u001B[38;5;28;01mif\u001B[39;00m stream:\n\u001B[1;32m    164\u001B[0m         \u001B[38;5;66;03m# must be an iterator\u001B[39;00m\n\u001B[1;32m    165\u001B[0m         \u001B[38;5;28;01massert\u001B[39;00m \u001B[38;5;129;01mnot\u001B[39;00m \u001B[38;5;28misinstance\u001B[39m(response, OpenAIResponse)\n",
      "File \u001B[0;32m~/anaconda3/envs/enhancerlit/lib/python3.11/site-packages/openai/api_requestor.py:298\u001B[0m, in \u001B[0;36mAPIRequestor.request\u001B[0;34m(self, method, url, params, headers, files, stream, request_id, request_timeout)\u001B[0m\n\u001B[1;32m    277\u001B[0m \u001B[38;5;28;01mdef\u001B[39;00m \u001B[38;5;21mrequest\u001B[39m(\n\u001B[1;32m    278\u001B[0m     \u001B[38;5;28mself\u001B[39m,\n\u001B[1;32m    279\u001B[0m     method,\n\u001B[0;32m   (...)\u001B[0m\n\u001B[1;32m    286\u001B[0m     request_timeout: Optional[Union[\u001B[38;5;28mfloat\u001B[39m, Tuple[\u001B[38;5;28mfloat\u001B[39m, \u001B[38;5;28mfloat\u001B[39m]]] \u001B[38;5;241m=\u001B[39m \u001B[38;5;28;01mNone\u001B[39;00m,\n\u001B[1;32m    287\u001B[0m ) \u001B[38;5;241m-\u001B[39m\u001B[38;5;241m>\u001B[39m Tuple[Union[OpenAIResponse, Iterator[OpenAIResponse]], \u001B[38;5;28mbool\u001B[39m, \u001B[38;5;28mstr\u001B[39m]:\n\u001B[1;32m    288\u001B[0m     result \u001B[38;5;241m=\u001B[39m \u001B[38;5;28mself\u001B[39m\u001B[38;5;241m.\u001B[39mrequest_raw(\n\u001B[1;32m    289\u001B[0m         method\u001B[38;5;241m.\u001B[39mlower(),\n\u001B[1;32m    290\u001B[0m         url,\n\u001B[0;32m   (...)\u001B[0m\n\u001B[1;32m    296\u001B[0m         request_timeout\u001B[38;5;241m=\u001B[39mrequest_timeout,\n\u001B[1;32m    297\u001B[0m     )\n\u001B[0;32m--> 298\u001B[0m     resp, got_stream \u001B[38;5;241m=\u001B[39m \u001B[38;5;28;43mself\u001B[39;49m\u001B[38;5;241;43m.\u001B[39;49m\u001B[43m_interpret_response\u001B[49m\u001B[43m(\u001B[49m\u001B[43mresult\u001B[49m\u001B[43m,\u001B[49m\u001B[43m \u001B[49m\u001B[43mstream\u001B[49m\u001B[43m)\u001B[49m\n\u001B[1;32m    299\u001B[0m     \u001B[38;5;28;01mreturn\u001B[39;00m resp, got_stream, \u001B[38;5;28mself\u001B[39m\u001B[38;5;241m.\u001B[39mapi_key\n",
      "File \u001B[0;32m~/anaconda3/envs/enhancerlit/lib/python3.11/site-packages/openai/api_requestor.py:700\u001B[0m, in \u001B[0;36mAPIRequestor._interpret_response\u001B[0;34m(self, result, stream)\u001B[0m\n\u001B[1;32m    692\u001B[0m     \u001B[38;5;28;01mreturn\u001B[39;00m (\n\u001B[1;32m    693\u001B[0m         \u001B[38;5;28mself\u001B[39m\u001B[38;5;241m.\u001B[39m_interpret_response_line(\n\u001B[1;32m    694\u001B[0m             line, result\u001B[38;5;241m.\u001B[39mstatus_code, result\u001B[38;5;241m.\u001B[39mheaders, stream\u001B[38;5;241m=\u001B[39m\u001B[38;5;28;01mTrue\u001B[39;00m\n\u001B[1;32m    695\u001B[0m         )\n\u001B[1;32m    696\u001B[0m         \u001B[38;5;28;01mfor\u001B[39;00m line \u001B[38;5;129;01min\u001B[39;00m parse_stream(result\u001B[38;5;241m.\u001B[39miter_lines())\n\u001B[1;32m    697\u001B[0m     ), \u001B[38;5;28;01mTrue\u001B[39;00m\n\u001B[1;32m    698\u001B[0m \u001B[38;5;28;01melse\u001B[39;00m:\n\u001B[1;32m    699\u001B[0m     \u001B[38;5;28;01mreturn\u001B[39;00m (\n\u001B[0;32m--> 700\u001B[0m         \u001B[38;5;28;43mself\u001B[39;49m\u001B[38;5;241;43m.\u001B[39;49m\u001B[43m_interpret_response_line\u001B[49m\u001B[43m(\u001B[49m\n\u001B[1;32m    701\u001B[0m \u001B[43m            \u001B[49m\u001B[43mresult\u001B[49m\u001B[38;5;241;43m.\u001B[39;49m\u001B[43mcontent\u001B[49m\u001B[38;5;241;43m.\u001B[39;49m\u001B[43mdecode\u001B[49m\u001B[43m(\u001B[49m\u001B[38;5;124;43m\"\u001B[39;49m\u001B[38;5;124;43mutf-8\u001B[39;49m\u001B[38;5;124;43m\"\u001B[39;49m\u001B[43m)\u001B[49m\u001B[43m,\u001B[49m\n\u001B[1;32m    702\u001B[0m \u001B[43m            \u001B[49m\u001B[43mresult\u001B[49m\u001B[38;5;241;43m.\u001B[39;49m\u001B[43mstatus_code\u001B[49m\u001B[43m,\u001B[49m\n\u001B[1;32m    703\u001B[0m \u001B[43m            \u001B[49m\u001B[43mresult\u001B[49m\u001B[38;5;241;43m.\u001B[39;49m\u001B[43mheaders\u001B[49m\u001B[43m,\u001B[49m\n\u001B[1;32m    704\u001B[0m \u001B[43m            \u001B[49m\u001B[43mstream\u001B[49m\u001B[38;5;241;43m=\u001B[39;49m\u001B[38;5;28;43;01mFalse\u001B[39;49;00m\u001B[43m,\u001B[49m\n\u001B[1;32m    705\u001B[0m \u001B[43m        \u001B[49m\u001B[43m)\u001B[49m,\n\u001B[1;32m    706\u001B[0m         \u001B[38;5;28;01mFalse\u001B[39;00m,\n\u001B[1;32m    707\u001B[0m     )\n",
      "File \u001B[0;32m~/anaconda3/envs/enhancerlit/lib/python3.11/site-packages/openai/api_requestor.py:765\u001B[0m, in \u001B[0;36mAPIRequestor._interpret_response_line\u001B[0;34m(self, rbody, rcode, rheaders, stream)\u001B[0m\n\u001B[1;32m    763\u001B[0m stream_error \u001B[38;5;241m=\u001B[39m stream \u001B[38;5;129;01mand\u001B[39;00m \u001B[38;5;124m\"\u001B[39m\u001B[38;5;124merror\u001B[39m\u001B[38;5;124m\"\u001B[39m \u001B[38;5;129;01min\u001B[39;00m resp\u001B[38;5;241m.\u001B[39mdata\n\u001B[1;32m    764\u001B[0m \u001B[38;5;28;01mif\u001B[39;00m stream_error \u001B[38;5;129;01mor\u001B[39;00m \u001B[38;5;129;01mnot\u001B[39;00m \u001B[38;5;241m200\u001B[39m \u001B[38;5;241m<\u001B[39m\u001B[38;5;241m=\u001B[39m rcode \u001B[38;5;241m<\u001B[39m \u001B[38;5;241m300\u001B[39m:\n\u001B[0;32m--> 765\u001B[0m     \u001B[38;5;28;01mraise\u001B[39;00m \u001B[38;5;28mself\u001B[39m\u001B[38;5;241m.\u001B[39mhandle_error_response(\n\u001B[1;32m    766\u001B[0m         rbody, rcode, resp\u001B[38;5;241m.\u001B[39mdata, rheaders, stream_error\u001B[38;5;241m=\u001B[39mstream_error\n\u001B[1;32m    767\u001B[0m     )\n\u001B[1;32m    768\u001B[0m \u001B[38;5;28;01mreturn\u001B[39;00m resp\n",
      "\u001B[0;31mInvalidRequestError\u001B[0m: This model's maximum context length is 16385 tokens. However, your messages resulted in 27414 tokens. Please reduce the length of the messages."
     ]
    }
   ],
   "source": [
    "import openai\n",
    "\n",
    "# Define the prompt template with placeholders for context and question\n",
    "prompt_template = \"\"\"\n",
    "Context:\n",
    "{context}\n",
    "\n",
    "Question:\n",
    "{question}\n",
    "\"\"\"\n",
    "\n",
    "# Function to create prompt using the template\n",
    "def create_prompt(context, question):\n",
    "    return prompt_template.format(context=context, question=question)\n",
    "\n",
    "# Split the context strings into smaller chunks\n",
    "def split_context(context_strings, max_length=1000):\n",
    "    chunks = []\n",
    "    current_chunk = []\n",
    "    current_length = 0\n",
    "\n",
    "    for context in context_strings:\n",
    "        context_length = len(context.split())\n",
    "        if current_length + context_length <= max_length:\n",
    "            current_chunk.append(context)\n",
    "            current_length += context_length\n",
    "        else:\n",
    "            chunks.append(\"\\n\".join(current_chunk))\n",
    "            current_chunk = [context]\n",
    "            current_length = context_length\n",
    "\n",
    "    if current_chunk:\n",
    "        chunks.append(\"\\n\".join(current_chunk))\n",
    "\n",
    "    return chunks\n",
    "\n",
    "# Define the question you want to ask\n",
    "question = \"Search for all the occurrences of the genome coordinates in these publications. Example coordinates separated by semicolon: chrX:48800838-48804946, chrY:∼124349-409949; chrY:∼134349–439949, Chr17:69,153,000–69,189,000. Then return these coordinates with a text window of 15 words.\"\n",
    "\n",
    "# Combine and split the context strings into manageable chunks\n",
    "context_chunks = split_context(context_strings)\n",
    "\n",
    "# Initialize conversation history with the system message\n",
    "conversation_history = [\n",
    "    {\"role\": \"system\", \"content\": \"You are a helpful assistant.\"}\n",
    "]\n",
    "\n",
    "# Iterate over the chunks and call the OpenAI API for each chunk\n",
    "for chunk in context_chunks:\n",
    "    final_prompt = create_prompt(chunk, question)\n",
    "    conversation_history.append({\"role\": \"user\", \"content\": final_prompt})\n",
    "\n",
    "    response = openai.ChatCompletion.create(\n",
    "        model=\"gpt-3.5-turbo\",\n",
    "        messages=conversation_history\n",
    "    )\n",
    "\n",
    "    # Extract the response and append to conversation history\n",
    "    assistant_response = response.choices[0].message[\"content\"]\n",
    "    conversation_history.append({\"role\": \"assistant\", \"content\": assistant_response})\n",
    "\n",
    "    # Print the response for each chunk\n",
    "    print(assistant_response)\n"
   ]
  },
  {
   "cell_type": "markdown",
   "id": "f656b023-69fe-463d-85f7-45a1dbc52107",
   "metadata": {},
   "source": [
    "### Testing BiomedBERT (formerly: PubMedBERT)\n",
    "Demands fine-tuning on a downstream task"
   ]
  },
  {
   "cell_type": "code",
   "execution_count": null,
   "id": "fe6197e5-d847-4153-8854-cd183212f056",
   "metadata": {},
   "outputs": [],
   "source": [
    "import torch\n",
    "from transformers import AutoModelForTokenClassification, AutoTokenizer\n",
    "\n",
    "# Check if GPU is available\n",
    "device = torch.device(\"cuda\" if torch.cuda.is_available() else \"cpu\")\n",
    "\n",
    "# Load the pre-trained GENE-BERT model and tokenizer from Hugging Face\n",
    "model_name = \"microsoft/BiomedNLP-BiomedBERT-base-uncased-abstract-fulltext\"  # Replace with the actual model name if available on Hugging Face\n",
    "model = AutoModelForTokenClassification.from_pretrained(model_name).to(device)\n",
    "tokenizer = AutoTokenizer.from_pretrained(model_name)\n",
    "\n",
    "# Function to perform inference\n",
    "def predict(text):\n",
    "    inputs = tokenizer(text, return_tensors=\"pt\").to(device)\n",
    "    print(inputs)\n",
    "    with torch.no_grad():\n",
    "        outputs = model(**inputs)\n",
    "    \n",
    "    # Assuming the model is for token classification, extract predictions\n",
    "    logits = outputs.logits\n",
    "    predictions = torch.argmax(logits, dim=-1).cpu().numpy()\n",
    "    \n",
    "    # Convert predictions to human-readable labels (assuming a label map is available)\n",
    "    label_map = {i: label for i, label in enumerate(tokenizer.get_vocab().keys())}\n",
    "    predicted_labels = [label_map[prediction] for prediction in predictions[0]]\n",
    "    \n",
    "    return predicted_labels\n",
    "\n",
    "# Example usage\n",
    "text = \"Example genomic text for testing GENE-BERT.\"\n",
    "predictions = predict(text)\n",
    "print(\"Predictions:\", predictions)\n"
   ]
  },
  {
   "cell_type": "code",
   "execution_count": 20,
   "id": "29545882-d50a-45f9-b5d1-3be536ca6bf0",
   "metadata": {},
   "outputs": [
    {
     "name": "stdout",
     "output_type": "stream",
     "text": [
      "{'input_ids': tensor([[   2,    4, 1977,   43, 2798, 9241, 2359,   18,    3]],\n",
      "       device='cuda:0'), 'token_type_ids': tensor([[0, 0, 0, 0, 0, 0, 0, 0, 0]], device='cuda:0'), 'attention_mask': tensor([[1, 1, 1, 1, 1, 1, 1, 1, 1]], device='cuda:0')}\n",
      "Predictions: ['lesion', 'lesion', 'lesion', 'lesion', 'lesion', 'lesion', 'lesion', 'linkage', 'linkage']\n"
     ]
    }
   ],
   "source": [
    "text = \"\"\n",
    "predictions = predict(text)\n",
    "print(\"Predictions:\", predictions)\n"
   ]
  },
  {
   "cell_type": "code",
   "execution_count": null,
   "id": "1b5ac2a1-cfc9-4b61-8bef-6fad7e659fa4",
   "metadata": {},
   "outputs": [],
   "source": []
  }
 ],
 "metadata": {
  "kernelspec": {
   "display_name": "Python 3 (ipykernel)",
   "language": "python",
   "name": "python3"
  },
  "language_info": {
   "codemirror_mode": {
    "name": "ipython",
    "version": 3
   },
   "file_extension": ".py",
   "mimetype": "text/x-python",
   "name": "python",
   "nbconvert_exporter": "python",
   "pygments_lexer": "ipython3",
   "version": "3.11.9"
  }
 },
 "nbformat": 4,
 "nbformat_minor": 5
}
